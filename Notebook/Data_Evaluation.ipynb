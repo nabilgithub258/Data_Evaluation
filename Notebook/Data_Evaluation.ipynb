{
 "cells": [
  {
   "cell_type": "code",
   "execution_count": 1108,
   "id": "e83cac74-de63-4258-bd57-b4a449e8324a",
   "metadata": {},
   "outputs": [],
   "source": [
    "#####################################################################################################\n",
    "######################### DATA EVALUATION SET  ######################################################\n",
    "#####################################################################################################"
   ]
  },
  {
   "cell_type": "code",
   "execution_count": 1109,
   "id": "dcd817ee-0f6a-4f40-aeb4-a2b8f4949106",
   "metadata": {},
   "outputs": [],
   "source": [
    "##########################################################################\n",
    "############### Part I - Importing \n",
    "##########################################################################\n",
    "\n",
    "import numpy as np\n",
    "import pandas as pd\n",
    "import seaborn as sns\n",
    "sns.set_style('whitegrid')\n",
    "import matplotlib.pyplot as plt\n",
    "%matplotlib inline"
   ]
  },
  {
   "cell_type": "code",
   "execution_count": 1110,
   "id": "97b6a550-532d-4caf-acc3-e02b4149f8ea",
   "metadata": {},
   "outputs": [],
   "source": [
    "df_user = pd.read_csv('USER_TAKEHOME.csv')"
   ]
  },
  {
   "cell_type": "code",
   "execution_count": 1111,
   "id": "bb72e362-09c2-44f9-a526-cb9835a06c74",
   "metadata": {},
   "outputs": [
    {
     "data": {
      "text/html": [
       "<div>\n",
       "<style scoped>\n",
       "    .dataframe tbody tr th:only-of-type {\n",
       "        vertical-align: middle;\n",
       "    }\n",
       "\n",
       "    .dataframe tbody tr th {\n",
       "        vertical-align: top;\n",
       "    }\n",
       "\n",
       "    .dataframe thead th {\n",
       "        text-align: right;\n",
       "    }\n",
       "</style>\n",
       "<table border=\"1\" class=\"dataframe\">\n",
       "  <thead>\n",
       "    <tr style=\"text-align: right;\">\n",
       "      <th></th>\n",
       "      <th>ID</th>\n",
       "      <th>CREATED_DATE</th>\n",
       "      <th>BIRTH_DATE</th>\n",
       "      <th>STATE</th>\n",
       "      <th>LANGUAGE</th>\n",
       "      <th>GENDER</th>\n",
       "    </tr>\n",
       "  </thead>\n",
       "  <tbody>\n",
       "    <tr>\n",
       "      <th>0</th>\n",
       "      <td>5ef3b4f17053ab141787697d</td>\n",
       "      <td>2020-06-24 20:17:54.000 Z</td>\n",
       "      <td>2000-08-11 00:00:00.000 Z</td>\n",
       "      <td>CA</td>\n",
       "      <td>es-419</td>\n",
       "      <td>female</td>\n",
       "    </tr>\n",
       "    <tr>\n",
       "      <th>1</th>\n",
       "      <td>5ff220d383fcfc12622b96bc</td>\n",
       "      <td>2021-01-03 19:53:55.000 Z</td>\n",
       "      <td>2001-09-24 04:00:00.000 Z</td>\n",
       "      <td>PA</td>\n",
       "      <td>en</td>\n",
       "      <td>female</td>\n",
       "    </tr>\n",
       "    <tr>\n",
       "      <th>2</th>\n",
       "      <td>6477950aa55bb77a0e27ee10</td>\n",
       "      <td>2023-05-31 18:42:18.000 Z</td>\n",
       "      <td>1994-10-28 00:00:00.000 Z</td>\n",
       "      <td>FL</td>\n",
       "      <td>es-419</td>\n",
       "      <td>female</td>\n",
       "    </tr>\n",
       "    <tr>\n",
       "      <th>3</th>\n",
       "      <td>658a306e99b40f103b63ccf8</td>\n",
       "      <td>2023-12-26 01:46:22.000 Z</td>\n",
       "      <td>NaN</td>\n",
       "      <td>NC</td>\n",
       "      <td>en</td>\n",
       "      <td>NaN</td>\n",
       "    </tr>\n",
       "    <tr>\n",
       "      <th>4</th>\n",
       "      <td>653cf5d6a225ea102b7ecdc2</td>\n",
       "      <td>2023-10-28 11:51:50.000 Z</td>\n",
       "      <td>1972-03-19 00:00:00.000 Z</td>\n",
       "      <td>PA</td>\n",
       "      <td>en</td>\n",
       "      <td>female</td>\n",
       "    </tr>\n",
       "  </tbody>\n",
       "</table>\n",
       "</div>"
      ],
      "text/plain": [
       "                         ID               CREATED_DATE  \\\n",
       "0  5ef3b4f17053ab141787697d  2020-06-24 20:17:54.000 Z   \n",
       "1  5ff220d383fcfc12622b96bc  2021-01-03 19:53:55.000 Z   \n",
       "2  6477950aa55bb77a0e27ee10  2023-05-31 18:42:18.000 Z   \n",
       "3  658a306e99b40f103b63ccf8  2023-12-26 01:46:22.000 Z   \n",
       "4  653cf5d6a225ea102b7ecdc2  2023-10-28 11:51:50.000 Z   \n",
       "\n",
       "                  BIRTH_DATE STATE LANGUAGE  GENDER  \n",
       "0  2000-08-11 00:00:00.000 Z    CA   es-419  female  \n",
       "1  2001-09-24 04:00:00.000 Z    PA       en  female  \n",
       "2  1994-10-28 00:00:00.000 Z    FL   es-419  female  \n",
       "3                        NaN    NC       en     NaN  \n",
       "4  1972-03-19 00:00:00.000 Z    PA       en  female  "
      ]
     },
     "execution_count": 1111,
     "metadata": {},
     "output_type": "execute_result"
    }
   ],
   "source": [
    "df_user.head()"
   ]
  },
  {
   "cell_type": "code",
   "execution_count": 1112,
   "id": "05e17f14-79ff-4106-ba5a-8959e137d37d",
   "metadata": {},
   "outputs": [
    {
     "data": {
      "text/html": [
       "<div>\n",
       "<style scoped>\n",
       "    .dataframe tbody tr th:only-of-type {\n",
       "        vertical-align: middle;\n",
       "    }\n",
       "\n",
       "    .dataframe tbody tr th {\n",
       "        vertical-align: top;\n",
       "    }\n",
       "\n",
       "    .dataframe thead th {\n",
       "        text-align: right;\n",
       "    }\n",
       "</style>\n",
       "<table border=\"1\" class=\"dataframe\">\n",
       "  <thead>\n",
       "    <tr style=\"text-align: right;\">\n",
       "      <th></th>\n",
       "      <th>RECEIPT_ID</th>\n",
       "      <th>PURCHASE_DATE</th>\n",
       "      <th>SCAN_DATE</th>\n",
       "      <th>STORE_NAME</th>\n",
       "      <th>USER_ID</th>\n",
       "      <th>BARCODE</th>\n",
       "      <th>FINAL_QUANTITY</th>\n",
       "      <th>FINAL_SALE</th>\n",
       "    </tr>\n",
       "  </thead>\n",
       "  <tbody>\n",
       "    <tr>\n",
       "      <th>0</th>\n",
       "      <td>0000d256-4041-4a3e-adc4-5623fb6e0c99</td>\n",
       "      <td>2024-08-21</td>\n",
       "      <td>2024-08-21 14:19:06.539 Z</td>\n",
       "      <td>WALMART</td>\n",
       "      <td>63b73a7f3d310dceeabd4758</td>\n",
       "      <td>1.530001e+10</td>\n",
       "      <td>1.00</td>\n",
       "      <td></td>\n",
       "    </tr>\n",
       "    <tr>\n",
       "      <th>1</th>\n",
       "      <td>0001455d-7a92-4a7b-a1d2-c747af1c8fd3</td>\n",
       "      <td>2024-07-20</td>\n",
       "      <td>2024-07-20 09:50:24.206 Z</td>\n",
       "      <td>ALDI</td>\n",
       "      <td>62c08877baa38d1a1f6c211a</td>\n",
       "      <td>NaN</td>\n",
       "      <td>zero</td>\n",
       "      <td>1.49</td>\n",
       "    </tr>\n",
       "    <tr>\n",
       "      <th>2</th>\n",
       "      <td>00017e0a-7851-42fb-bfab-0baa96e23586</td>\n",
       "      <td>2024-08-18</td>\n",
       "      <td>2024-08-19 15:38:56.813 Z</td>\n",
       "      <td>WALMART</td>\n",
       "      <td>60842f207ac8b7729e472020</td>\n",
       "      <td>7.874223e+10</td>\n",
       "      <td>1.00</td>\n",
       "      <td></td>\n",
       "    </tr>\n",
       "    <tr>\n",
       "      <th>3</th>\n",
       "      <td>000239aa-3478-453d-801e-66a82e39c8af</td>\n",
       "      <td>2024-06-18</td>\n",
       "      <td>2024-06-19 11:03:37.468 Z</td>\n",
       "      <td>FOOD LION</td>\n",
       "      <td>63fcd7cea4f8442c3386b589</td>\n",
       "      <td>7.833997e+11</td>\n",
       "      <td>zero</td>\n",
       "      <td>3.49</td>\n",
       "    </tr>\n",
       "    <tr>\n",
       "      <th>4</th>\n",
       "      <td>00026b4c-dfe8-49dd-b026-4c2f0fd5c6a1</td>\n",
       "      <td>2024-07-04</td>\n",
       "      <td>2024-07-05 15:56:43.549 Z</td>\n",
       "      <td>RANDALLS</td>\n",
       "      <td>6193231ae9b3d75037b0f928</td>\n",
       "      <td>4.790050e+10</td>\n",
       "      <td>1.00</td>\n",
       "      <td></td>\n",
       "    </tr>\n",
       "  </tbody>\n",
       "</table>\n",
       "</div>"
      ],
      "text/plain": [
       "                             RECEIPT_ID PURCHASE_DATE  \\\n",
       "0  0000d256-4041-4a3e-adc4-5623fb6e0c99    2024-08-21   \n",
       "1  0001455d-7a92-4a7b-a1d2-c747af1c8fd3    2024-07-20   \n",
       "2  00017e0a-7851-42fb-bfab-0baa96e23586    2024-08-18   \n",
       "3  000239aa-3478-453d-801e-66a82e39c8af    2024-06-18   \n",
       "4  00026b4c-dfe8-49dd-b026-4c2f0fd5c6a1    2024-07-04   \n",
       "\n",
       "                   SCAN_DATE STORE_NAME                   USER_ID  \\\n",
       "0  2024-08-21 14:19:06.539 Z    WALMART  63b73a7f3d310dceeabd4758   \n",
       "1  2024-07-20 09:50:24.206 Z       ALDI  62c08877baa38d1a1f6c211a   \n",
       "2  2024-08-19 15:38:56.813 Z    WALMART  60842f207ac8b7729e472020   \n",
       "3  2024-06-19 11:03:37.468 Z  FOOD LION  63fcd7cea4f8442c3386b589   \n",
       "4  2024-07-05 15:56:43.549 Z   RANDALLS  6193231ae9b3d75037b0f928   \n",
       "\n",
       "        BARCODE FINAL_QUANTITY FINAL_SALE  \n",
       "0  1.530001e+10           1.00             \n",
       "1           NaN           zero       1.49  \n",
       "2  7.874223e+10           1.00             \n",
       "3  7.833997e+11           zero       3.49  \n",
       "4  4.790050e+10           1.00             "
      ]
     },
     "execution_count": 1112,
     "metadata": {},
     "output_type": "execute_result"
    }
   ],
   "source": [
    "df_transaction = pd.read_csv('TRANSACTION_TAKEHOME.csv')\n",
    "\n",
    "df_transaction.head()"
   ]
  },
  {
   "cell_type": "code",
   "execution_count": 1113,
   "id": "46e3347b-7a7e-4a47-abae-cd1a785660e4",
   "metadata": {},
   "outputs": [
    {
     "data": {
      "text/html": [
       "<div>\n",
       "<style scoped>\n",
       "    .dataframe tbody tr th:only-of-type {\n",
       "        vertical-align: middle;\n",
       "    }\n",
       "\n",
       "    .dataframe tbody tr th {\n",
       "        vertical-align: top;\n",
       "    }\n",
       "\n",
       "    .dataframe thead th {\n",
       "        text-align: right;\n",
       "    }\n",
       "</style>\n",
       "<table border=\"1\" class=\"dataframe\">\n",
       "  <thead>\n",
       "    <tr style=\"text-align: right;\">\n",
       "      <th></th>\n",
       "      <th>CATEGORY_1</th>\n",
       "      <th>CATEGORY_2</th>\n",
       "      <th>CATEGORY_3</th>\n",
       "      <th>CATEGORY_4</th>\n",
       "      <th>MANUFACTURER</th>\n",
       "      <th>BRAND</th>\n",
       "      <th>BARCODE</th>\n",
       "    </tr>\n",
       "  </thead>\n",
       "  <tbody>\n",
       "    <tr>\n",
       "      <th>0</th>\n",
       "      <td>Health &amp; Wellness</td>\n",
       "      <td>Sexual Health</td>\n",
       "      <td>Conductivity Gels &amp; Lotions</td>\n",
       "      <td>NaN</td>\n",
       "      <td>NaN</td>\n",
       "      <td>NaN</td>\n",
       "      <td>7.964944e+11</td>\n",
       "    </tr>\n",
       "    <tr>\n",
       "      <th>1</th>\n",
       "      <td>Snacks</td>\n",
       "      <td>Puffed Snacks</td>\n",
       "      <td>Cheese Curls &amp; Puffs</td>\n",
       "      <td>NaN</td>\n",
       "      <td>NaN</td>\n",
       "      <td>NaN</td>\n",
       "      <td>2.327801e+10</td>\n",
       "    </tr>\n",
       "    <tr>\n",
       "      <th>2</th>\n",
       "      <td>Health &amp; Wellness</td>\n",
       "      <td>Hair Care</td>\n",
       "      <td>Hair Care Accessories</td>\n",
       "      <td>NaN</td>\n",
       "      <td>PLACEHOLDER MANUFACTURER</td>\n",
       "      <td>ELECSOP</td>\n",
       "      <td>4.618178e+11</td>\n",
       "    </tr>\n",
       "    <tr>\n",
       "      <th>3</th>\n",
       "      <td>Health &amp; Wellness</td>\n",
       "      <td>Oral Care</td>\n",
       "      <td>Toothpaste</td>\n",
       "      <td>NaN</td>\n",
       "      <td>COLGATE-PALMOLIVE</td>\n",
       "      <td>COLGATE</td>\n",
       "      <td>3.500047e+10</td>\n",
       "    </tr>\n",
       "    <tr>\n",
       "      <th>4</th>\n",
       "      <td>Health &amp; Wellness</td>\n",
       "      <td>Medicines &amp; Treatments</td>\n",
       "      <td>Essential Oils</td>\n",
       "      <td>NaN</td>\n",
       "      <td>MAPLE HOLISTICS AND HONEYDEW PRODUCTS INTERCHA...</td>\n",
       "      <td>MAPLE HOLISTICS</td>\n",
       "      <td>8.068109e+11</td>\n",
       "    </tr>\n",
       "  </tbody>\n",
       "</table>\n",
       "</div>"
      ],
      "text/plain": [
       "          CATEGORY_1              CATEGORY_2                   CATEGORY_3  \\\n",
       "0  Health & Wellness           Sexual Health  Conductivity Gels & Lotions   \n",
       "1             Snacks           Puffed Snacks         Cheese Curls & Puffs   \n",
       "2  Health & Wellness               Hair Care        Hair Care Accessories   \n",
       "3  Health & Wellness               Oral Care                   Toothpaste   \n",
       "4  Health & Wellness  Medicines & Treatments               Essential Oils   \n",
       "\n",
       "  CATEGORY_4                                       MANUFACTURER  \\\n",
       "0        NaN                                                NaN   \n",
       "1        NaN                                                NaN   \n",
       "2        NaN                           PLACEHOLDER MANUFACTURER   \n",
       "3        NaN                                  COLGATE-PALMOLIVE   \n",
       "4        NaN  MAPLE HOLISTICS AND HONEYDEW PRODUCTS INTERCHA...   \n",
       "\n",
       "             BRAND       BARCODE  \n",
       "0              NaN  7.964944e+11  \n",
       "1              NaN  2.327801e+10  \n",
       "2          ELECSOP  4.618178e+11  \n",
       "3          COLGATE  3.500047e+10  \n",
       "4  MAPLE HOLISTICS  8.068109e+11  "
      ]
     },
     "execution_count": 1113,
     "metadata": {},
     "output_type": "execute_result"
    }
   ],
   "source": [
    "df_product = pd.read_csv('PRODUCTS_TAKEHOME.csv')\n",
    "\n",
    "df_product.head()"
   ]
  },
  {
   "cell_type": "code",
   "execution_count": 1114,
   "id": "fc0b44e7-c783-4fc4-9c37-6f29ce61117a",
   "metadata": {},
   "outputs": [],
   "source": [
    "#####################################################################\n",
    "########################### Part II - Duplicates\n",
    "#####################################################################"
   ]
  },
  {
   "cell_type": "code",
   "execution_count": 1115,
   "id": "0c9fad94-32b4-436b-aa4d-ac4d6128eb6e",
   "metadata": {},
   "outputs": [
    {
     "data": {
      "text/html": [
       "<div>\n",
       "<style scoped>\n",
       "    .dataframe tbody tr th:only-of-type {\n",
       "        vertical-align: middle;\n",
       "    }\n",
       "\n",
       "    .dataframe tbody tr th {\n",
       "        vertical-align: top;\n",
       "    }\n",
       "\n",
       "    .dataframe thead th {\n",
       "        text-align: right;\n",
       "    }\n",
       "</style>\n",
       "<table border=\"1\" class=\"dataframe\">\n",
       "  <thead>\n",
       "    <tr style=\"text-align: right;\">\n",
       "      <th></th>\n",
       "      <th>ID</th>\n",
       "      <th>CREATED_DATE</th>\n",
       "      <th>BIRTH_DATE</th>\n",
       "      <th>STATE</th>\n",
       "      <th>LANGUAGE</th>\n",
       "      <th>GENDER</th>\n",
       "    </tr>\n",
       "  </thead>\n",
       "  <tbody>\n",
       "  </tbody>\n",
       "</table>\n",
       "</div>"
      ],
      "text/plain": [
       "Empty DataFrame\n",
       "Columns: [ID, CREATED_DATE, BIRTH_DATE, STATE, LANGUAGE, GENDER]\n",
       "Index: []"
      ]
     },
     "execution_count": 1115,
     "metadata": {},
     "output_type": "execute_result"
    }
   ],
   "source": [
    "df_user[df_user.duplicated()]                  #### data seems to be good so far\n"
   ]
  },
  {
   "cell_type": "code",
   "execution_count": 1116,
   "id": "f1fe117a-c43a-47c3-b704-f146478a5e9a",
   "metadata": {
    "scrolled": true
   },
   "outputs": [
    {
     "data": {
      "text/html": [
       "<div>\n",
       "<style scoped>\n",
       "    .dataframe tbody tr th:only-of-type {\n",
       "        vertical-align: middle;\n",
       "    }\n",
       "\n",
       "    .dataframe tbody tr th {\n",
       "        vertical-align: top;\n",
       "    }\n",
       "\n",
       "    .dataframe thead th {\n",
       "        text-align: right;\n",
       "    }\n",
       "</style>\n",
       "<table border=\"1\" class=\"dataframe\">\n",
       "  <thead>\n",
       "    <tr style=\"text-align: right;\">\n",
       "      <th></th>\n",
       "      <th>CATEGORY_1</th>\n",
       "      <th>CATEGORY_2</th>\n",
       "      <th>CATEGORY_3</th>\n",
       "      <th>CATEGORY_4</th>\n",
       "      <th>MANUFACTURER</th>\n",
       "      <th>BRAND</th>\n",
       "      <th>BARCODE</th>\n",
       "    </tr>\n",
       "  </thead>\n",
       "  <tbody>\n",
       "    <tr>\n",
       "      <th>76394</th>\n",
       "      <td>Snacks</td>\n",
       "      <td>Candy</td>\n",
       "      <td>Gum</td>\n",
       "      <td>NaN</td>\n",
       "      <td>THE HERSHEY COMPANY</td>\n",
       "      <td>ICE BREAKERS</td>\n",
       "      <td>3498507.0</td>\n",
       "    </tr>\n",
       "    <tr>\n",
       "      <th>87568</th>\n",
       "      <td>Snacks</td>\n",
       "      <td>Chips</td>\n",
       "      <td>Crisps</td>\n",
       "      <td>NaN</td>\n",
       "      <td>TRADER JOE'S</td>\n",
       "      <td>TRADER JOE'S</td>\n",
       "      <td>952811.0</td>\n",
       "    </tr>\n",
       "    <tr>\n",
       "      <th>91710</th>\n",
       "      <td>Health &amp; Wellness</td>\n",
       "      <td>Skin Care</td>\n",
       "      <td>NaN</td>\n",
       "      <td>NaN</td>\n",
       "      <td>BEIERSDORF, INC.</td>\n",
       "      <td>COPPERTONE</td>\n",
       "      <td>NaN</td>\n",
       "    </tr>\n",
       "    <tr>\n",
       "      <th>100470</th>\n",
       "      <td>Snacks</td>\n",
       "      <td>Candy</td>\n",
       "      <td>Confection Candy</td>\n",
       "      <td>NaN</td>\n",
       "      <td>LIDL US, LLC</td>\n",
       "      <td>LIDL</td>\n",
       "      <td>20744731.0</td>\n",
       "    </tr>\n",
       "    <tr>\n",
       "      <th>109639</th>\n",
       "      <td>Restaurant</td>\n",
       "      <td>Beverages</td>\n",
       "      <td>Soda</td>\n",
       "      <td>Diet Soda</td>\n",
       "      <td>PEPSICO</td>\n",
       "      <td>PEPSI</td>\n",
       "      <td>NaN</td>\n",
       "    </tr>\n",
       "    <tr>\n",
       "      <th>...</th>\n",
       "      <td>...</td>\n",
       "      <td>...</td>\n",
       "      <td>...</td>\n",
       "      <td>...</td>\n",
       "      <td>...</td>\n",
       "      <td>...</td>\n",
       "      <td>...</td>\n",
       "    </tr>\n",
       "    <tr>\n",
       "      <th>827242</th>\n",
       "      <td>Snacks</td>\n",
       "      <td>Candy</td>\n",
       "      <td>Chocolate Candy</td>\n",
       "      <td>NaN</td>\n",
       "      <td>THE HERSHEY COMPANY</td>\n",
       "      <td>HERSHEY'S</td>\n",
       "      <td>3423905.0</td>\n",
       "    </tr>\n",
       "    <tr>\n",
       "      <th>833620</th>\n",
       "      <td>Snacks</td>\n",
       "      <td>Candy</td>\n",
       "      <td>Chocolate Candy</td>\n",
       "      <td>NaN</td>\n",
       "      <td>THE HERSHEY COMPANY</td>\n",
       "      <td>HERSHEY'S</td>\n",
       "      <td>NaN</td>\n",
       "    </tr>\n",
       "    <tr>\n",
       "      <th>834874</th>\n",
       "      <td>Snacks</td>\n",
       "      <td>Nuts &amp; Seeds</td>\n",
       "      <td>Peanuts</td>\n",
       "      <td>NaN</td>\n",
       "      <td>NaN</td>\n",
       "      <td>NaN</td>\n",
       "      <td>3415207.0</td>\n",
       "    </tr>\n",
       "    <tr>\n",
       "      <th>838643</th>\n",
       "      <td>Snacks</td>\n",
       "      <td>Candy</td>\n",
       "      <td>Chocolate Candy</td>\n",
       "      <td>NaN</td>\n",
       "      <td>THE HERSHEY COMPANY</td>\n",
       "      <td>REESE'S</td>\n",
       "      <td>3473108.0</td>\n",
       "    </tr>\n",
       "    <tr>\n",
       "      <th>843215</th>\n",
       "      <td>Snacks</td>\n",
       "      <td>Candy</td>\n",
       "      <td>Chocolate Candy</td>\n",
       "      <td>NaN</td>\n",
       "      <td>THE HERSHEY COMPANY</td>\n",
       "      <td>HERSHEY'S</td>\n",
       "      <td>3424001.0</td>\n",
       "    </tr>\n",
       "  </tbody>\n",
       "</table>\n",
       "<p>215 rows × 7 columns</p>\n",
       "</div>"
      ],
      "text/plain": [
       "               CATEGORY_1    CATEGORY_2        CATEGORY_3 CATEGORY_4  \\\n",
       "76394              Snacks         Candy               Gum        NaN   \n",
       "87568              Snacks         Chips            Crisps        NaN   \n",
       "91710   Health & Wellness     Skin Care               NaN        NaN   \n",
       "100470             Snacks         Candy  Confection Candy        NaN   \n",
       "109639         Restaurant     Beverages              Soda  Diet Soda   \n",
       "...                   ...           ...               ...        ...   \n",
       "827242             Snacks         Candy   Chocolate Candy        NaN   \n",
       "833620             Snacks         Candy   Chocolate Candy        NaN   \n",
       "834874             Snacks  Nuts & Seeds           Peanuts        NaN   \n",
       "838643             Snacks         Candy   Chocolate Candy        NaN   \n",
       "843215             Snacks         Candy   Chocolate Candy        NaN   \n",
       "\n",
       "               MANUFACTURER         BRAND     BARCODE  \n",
       "76394   THE HERSHEY COMPANY  ICE BREAKERS   3498507.0  \n",
       "87568          TRADER JOE'S  TRADER JOE'S    952811.0  \n",
       "91710      BEIERSDORF, INC.    COPPERTONE         NaN  \n",
       "100470         LIDL US, LLC          LIDL  20744731.0  \n",
       "109639              PEPSICO         PEPSI         NaN  \n",
       "...                     ...           ...         ...  \n",
       "827242  THE HERSHEY COMPANY     HERSHEY'S   3423905.0  \n",
       "833620  THE HERSHEY COMPANY     HERSHEY'S         NaN  \n",
       "834874                  NaN           NaN   3415207.0  \n",
       "838643  THE HERSHEY COMPANY       REESE'S   3473108.0  \n",
       "843215  THE HERSHEY COMPANY     HERSHEY'S   3424001.0  \n",
       "\n",
       "[215 rows x 7 columns]"
      ]
     },
     "execution_count": 1116,
     "metadata": {},
     "output_type": "execute_result"
    }
   ],
   "source": [
    "df_product[df_product.duplicated()]                  #### this data does have duplicate values"
   ]
  },
  {
   "cell_type": "code",
   "execution_count": 1117,
   "id": "7f67ac9c-214b-4303-ab14-653d84adaa82",
   "metadata": {},
   "outputs": [
    {
     "name": "stdout",
     "output_type": "stream",
     "text": [
      "<class 'pandas.core.frame.DataFrame'>\n",
      "RangeIndex: 845552 entries, 0 to 845551\n",
      "Data columns (total 7 columns):\n",
      " #   Column        Non-Null Count   Dtype  \n",
      "---  ------        --------------   -----  \n",
      " 0   CATEGORY_1    845441 non-null  object \n",
      " 1   CATEGORY_2    844128 non-null  object \n",
      " 2   CATEGORY_3    784986 non-null  object \n",
      " 3   CATEGORY_4    67459 non-null   object \n",
      " 4   MANUFACTURER  619078 non-null  object \n",
      " 5   BRAND         619080 non-null  object \n",
      " 6   BARCODE       841527 non-null  float64\n",
      "dtypes: float64(1), object(6)\n",
      "memory usage: 45.2+ MB\n"
     ]
    }
   ],
   "source": [
    "df_product.info()               #### Data type seems to be fine here"
   ]
  },
  {
   "cell_type": "code",
   "execution_count": 1118,
   "id": "ca67df72-bb9f-4835-a337-b6403e49397f",
   "metadata": {},
   "outputs": [],
   "source": [
    "df_product.drop_duplicates(inplace=True)"
   ]
  },
  {
   "cell_type": "code",
   "execution_count": 1119,
   "id": "7651c094-47b4-42b2-8321-d7707ea3557a",
   "metadata": {},
   "outputs": [
    {
     "data": {
      "text/html": [
       "<div>\n",
       "<style scoped>\n",
       "    .dataframe tbody tr th:only-of-type {\n",
       "        vertical-align: middle;\n",
       "    }\n",
       "\n",
       "    .dataframe tbody tr th {\n",
       "        vertical-align: top;\n",
       "    }\n",
       "\n",
       "    .dataframe thead th {\n",
       "        text-align: right;\n",
       "    }\n",
       "</style>\n",
       "<table border=\"1\" class=\"dataframe\">\n",
       "  <thead>\n",
       "    <tr style=\"text-align: right;\">\n",
       "      <th></th>\n",
       "      <th>CATEGORY_1</th>\n",
       "      <th>CATEGORY_2</th>\n",
       "      <th>CATEGORY_3</th>\n",
       "      <th>CATEGORY_4</th>\n",
       "      <th>MANUFACTURER</th>\n",
       "      <th>BRAND</th>\n",
       "      <th>BARCODE</th>\n",
       "    </tr>\n",
       "  </thead>\n",
       "  <tbody>\n",
       "  </tbody>\n",
       "</table>\n",
       "</div>"
      ],
      "text/plain": [
       "Empty DataFrame\n",
       "Columns: [CATEGORY_1, CATEGORY_2, CATEGORY_3, CATEGORY_4, MANUFACTURER, BRAND, BARCODE]\n",
       "Index: []"
      ]
     },
     "execution_count": 1119,
     "metadata": {},
     "output_type": "execute_result"
    }
   ],
   "source": [
    "df_product[df_product.duplicated()]                  #### took care of the duplicates value"
   ]
  },
  {
   "cell_type": "code",
   "execution_count": 1120,
   "id": "67c2f6c7-6e68-47ab-9061-a5c820cb64c4",
   "metadata": {},
   "outputs": [
    {
     "name": "stdout",
     "output_type": "stream",
     "text": [
      "<class 'pandas.core.frame.DataFrame'>\n",
      "Index: 845337 entries, 0 to 845551\n",
      "Data columns (total 7 columns):\n",
      " #   Column        Non-Null Count   Dtype  \n",
      "---  ------        --------------   -----  \n",
      " 0   CATEGORY_1    845226 non-null  object \n",
      " 1   CATEGORY_2    843915 non-null  object \n",
      " 2   CATEGORY_3    784774 non-null  object \n",
      " 3   CATEGORY_4    67453 non-null   object \n",
      " 4   MANUFACTURER  618873 non-null  object \n",
      " 5   BRAND         618875 non-null  object \n",
      " 6   BARCODE       841369 non-null  float64\n",
      "dtypes: float64(1), object(6)\n",
      "memory usage: 51.6+ MB\n"
     ]
    }
   ],
   "source": [
    "df_product.info()"
   ]
  },
  {
   "cell_type": "code",
   "execution_count": 1121,
   "id": "2cbce3d5-3ae6-4ae9-9a75-32f1092ade94",
   "metadata": {},
   "outputs": [
    {
     "data": {
      "text/html": [
       "<div>\n",
       "<style scoped>\n",
       "    .dataframe tbody tr th:only-of-type {\n",
       "        vertical-align: middle;\n",
       "    }\n",
       "\n",
       "    .dataframe tbody tr th {\n",
       "        vertical-align: top;\n",
       "    }\n",
       "\n",
       "    .dataframe thead th {\n",
       "        text-align: right;\n",
       "    }\n",
       "</style>\n",
       "<table border=\"1\" class=\"dataframe\">\n",
       "  <thead>\n",
       "    <tr style=\"text-align: right;\">\n",
       "      <th></th>\n",
       "      <th>RECEIPT_ID</th>\n",
       "      <th>PURCHASE_DATE</th>\n",
       "      <th>SCAN_DATE</th>\n",
       "      <th>STORE_NAME</th>\n",
       "      <th>USER_ID</th>\n",
       "      <th>BARCODE</th>\n",
       "      <th>FINAL_QUANTITY</th>\n",
       "      <th>FINAL_SALE</th>\n",
       "    </tr>\n",
       "  </thead>\n",
       "  <tbody>\n",
       "    <tr>\n",
       "      <th>2724</th>\n",
       "      <td>1c12bd8a-c68c-41ee-a26d-294021d3e0b8</td>\n",
       "      <td>2024-09-07</td>\n",
       "      <td>2024-09-07 15:44:35.241 Z</td>\n",
       "      <td>CVS</td>\n",
       "      <td>65af09757050d0a6206ab136</td>\n",
       "      <td>NaN</td>\n",
       "      <td>1.00</td>\n",
       "      <td></td>\n",
       "    </tr>\n",
       "    <tr>\n",
       "      <th>4192</th>\n",
       "      <td>2acd7e8d-37df-4e51-8ee5-9a9c8c1d9711</td>\n",
       "      <td>2024-09-08</td>\n",
       "      <td>2024-09-08 11:13:01.935 Z</td>\n",
       "      <td>WALMART</td>\n",
       "      <td>663140f9b7b24d45d938f3be</td>\n",
       "      <td>2.400005e+10</td>\n",
       "      <td>1.00</td>\n",
       "      <td></td>\n",
       "    </tr>\n",
       "    <tr>\n",
       "      <th>6572</th>\n",
       "      <td>431fe612-ed55-470e-939c-043ad31f33f3</td>\n",
       "      <td>2024-09-07</td>\n",
       "      <td>2024-09-07 16:39:01.409 Z</td>\n",
       "      <td>DOLLAR GENERAL STORE</td>\n",
       "      <td>5e038cebcb322c11de193bb7</td>\n",
       "      <td>1.200050e+10</td>\n",
       "      <td>1.00</td>\n",
       "      <td></td>\n",
       "    </tr>\n",
       "    <tr>\n",
       "      <th>6623</th>\n",
       "      <td>43955b35-6fbc-4909-a4de-1a0de0dc387f</td>\n",
       "      <td>2024-09-06</td>\n",
       "      <td>2024-09-08 18:32:30.031 Z</td>\n",
       "      <td>WALMART</td>\n",
       "      <td>625364ddda4fb11c8a9fcb85</td>\n",
       "      <td>3.716877e+11</td>\n",
       "      <td>zero</td>\n",
       "      <td>12.97</td>\n",
       "    </tr>\n",
       "    <tr>\n",
       "      <th>7675</th>\n",
       "      <td>4ec870d2-c39f-4a40-bf8a-26a079409b20</td>\n",
       "      <td>2024-09-08</td>\n",
       "      <td>2024-09-08 19:39:01.589 Z</td>\n",
       "      <td>WALMART</td>\n",
       "      <td>638e9ae602a4e512e0585b59</td>\n",
       "      <td>7.239202e+10</td>\n",
       "      <td>zero</td>\n",
       "      <td>1.48</td>\n",
       "    </tr>\n",
       "    <tr>\n",
       "      <th>...</th>\n",
       "      <td>...</td>\n",
       "      <td>...</td>\n",
       "      <td>...</td>\n",
       "      <td>...</td>\n",
       "      <td>...</td>\n",
       "      <td>...</td>\n",
       "      <td>...</td>\n",
       "      <td>...</td>\n",
       "    </tr>\n",
       "    <tr>\n",
       "      <th>49651</th>\n",
       "      <td>93f45c94-af38-42d4-a3fe-eb9d5b24efbb</td>\n",
       "      <td>2024-09-03</td>\n",
       "      <td>2024-09-08 12:20:50.611 Z</td>\n",
       "      <td>PUBLIX</td>\n",
       "      <td>660a0ce6828f877fdee915a1</td>\n",
       "      <td>NaN</td>\n",
       "      <td>1.00</td>\n",
       "      <td>4.40</td>\n",
       "    </tr>\n",
       "    <tr>\n",
       "      <th>49660</th>\n",
       "      <td>eee21773-6946-474a-9978-fe0659140973</td>\n",
       "      <td>2024-07-26</td>\n",
       "      <td>2024-07-29 20:40:25.073 Z</td>\n",
       "      <td>PUBLIX</td>\n",
       "      <td>60cff0e7e265b446d62200b2</td>\n",
       "      <td>4.178027e+10</td>\n",
       "      <td>1.00</td>\n",
       "      <td>4.79</td>\n",
       "    </tr>\n",
       "    <tr>\n",
       "      <th>49759</th>\n",
       "      <td>01a70fe0-026f-4bea-9da4-7d13bbf21e9a</td>\n",
       "      <td>2024-09-02</td>\n",
       "      <td>2024-09-07 16:02:39.835 Z</td>\n",
       "      <td>WALMART</td>\n",
       "      <td>614e733372ba844aa8dc345e</td>\n",
       "      <td>4.178900e+10</td>\n",
       "      <td>1.00</td>\n",
       "      <td>0.52</td>\n",
       "    </tr>\n",
       "    <tr>\n",
       "      <th>49911</th>\n",
       "      <td>874a8116-3342-4b4a-9d24-4666e0ab1052</td>\n",
       "      <td>2024-08-31</td>\n",
       "      <td>2024-08-31 22:41:03.829 Z</td>\n",
       "      <td>CVS</td>\n",
       "      <td>63a4ef6bb5f32149b9d86e66</td>\n",
       "      <td>NaN</td>\n",
       "      <td>1.00</td>\n",
       "      <td>3.00</td>\n",
       "    </tr>\n",
       "    <tr>\n",
       "      <th>49941</th>\n",
       "      <td>e0a60958-e8ef-4fa0-8b1a-5ad01dd64403</td>\n",
       "      <td>2024-07-27</td>\n",
       "      <td>2024-07-30 09:19:00.955 Z</td>\n",
       "      <td>ALDI</td>\n",
       "      <td>5d6072320d1bff58a8686adc</td>\n",
       "      <td>NaN</td>\n",
       "      <td>1.00</td>\n",
       "      <td>0.99</td>\n",
       "    </tr>\n",
       "  </tbody>\n",
       "</table>\n",
       "<p>171 rows × 8 columns</p>\n",
       "</div>"
      ],
      "text/plain": [
       "                                 RECEIPT_ID PURCHASE_DATE  \\\n",
       "2724   1c12bd8a-c68c-41ee-a26d-294021d3e0b8    2024-09-07   \n",
       "4192   2acd7e8d-37df-4e51-8ee5-9a9c8c1d9711    2024-09-08   \n",
       "6572   431fe612-ed55-470e-939c-043ad31f33f3    2024-09-07   \n",
       "6623   43955b35-6fbc-4909-a4de-1a0de0dc387f    2024-09-06   \n",
       "7675   4ec870d2-c39f-4a40-bf8a-26a079409b20    2024-09-08   \n",
       "...                                     ...           ...   \n",
       "49651  93f45c94-af38-42d4-a3fe-eb9d5b24efbb    2024-09-03   \n",
       "49660  eee21773-6946-474a-9978-fe0659140973    2024-07-26   \n",
       "49759  01a70fe0-026f-4bea-9da4-7d13bbf21e9a    2024-09-02   \n",
       "49911  874a8116-3342-4b4a-9d24-4666e0ab1052    2024-08-31   \n",
       "49941  e0a60958-e8ef-4fa0-8b1a-5ad01dd64403    2024-07-27   \n",
       "\n",
       "                       SCAN_DATE            STORE_NAME  \\\n",
       "2724   2024-09-07 15:44:35.241 Z                   CVS   \n",
       "4192   2024-09-08 11:13:01.935 Z               WALMART   \n",
       "6572   2024-09-07 16:39:01.409 Z  DOLLAR GENERAL STORE   \n",
       "6623   2024-09-08 18:32:30.031 Z               WALMART   \n",
       "7675   2024-09-08 19:39:01.589 Z               WALMART   \n",
       "...                          ...                   ...   \n",
       "49651  2024-09-08 12:20:50.611 Z                PUBLIX   \n",
       "49660  2024-07-29 20:40:25.073 Z                PUBLIX   \n",
       "49759  2024-09-07 16:02:39.835 Z               WALMART   \n",
       "49911  2024-08-31 22:41:03.829 Z                   CVS   \n",
       "49941  2024-07-30 09:19:00.955 Z                  ALDI   \n",
       "\n",
       "                        USER_ID       BARCODE FINAL_QUANTITY FINAL_SALE  \n",
       "2724   65af09757050d0a6206ab136           NaN           1.00             \n",
       "4192   663140f9b7b24d45d938f3be  2.400005e+10           1.00             \n",
       "6572   5e038cebcb322c11de193bb7  1.200050e+10           1.00             \n",
       "6623   625364ddda4fb11c8a9fcb85  3.716877e+11           zero      12.97  \n",
       "7675   638e9ae602a4e512e0585b59  7.239202e+10           zero       1.48  \n",
       "...                         ...           ...            ...        ...  \n",
       "49651  660a0ce6828f877fdee915a1           NaN           1.00       4.40  \n",
       "49660  60cff0e7e265b446d62200b2  4.178027e+10           1.00       4.79  \n",
       "49759  614e733372ba844aa8dc345e  4.178900e+10           1.00       0.52  \n",
       "49911  63a4ef6bb5f32149b9d86e66           NaN           1.00       3.00  \n",
       "49941  5d6072320d1bff58a8686adc           NaN           1.00       0.99  \n",
       "\n",
       "[171 rows x 8 columns]"
      ]
     },
     "execution_count": 1121,
     "metadata": {},
     "output_type": "execute_result"
    }
   ],
   "source": [
    "df_transaction[df_transaction.duplicated()]                  #### this data does have duplicate values"
   ]
  },
  {
   "cell_type": "code",
   "execution_count": 1122,
   "id": "54c812e3-a822-4dc5-8f42-2e60e6af5a2a",
   "metadata": {},
   "outputs": [
    {
     "name": "stdout",
     "output_type": "stream",
     "text": [
      "<class 'pandas.core.frame.DataFrame'>\n",
      "RangeIndex: 50000 entries, 0 to 49999\n",
      "Data columns (total 8 columns):\n",
      " #   Column          Non-Null Count  Dtype  \n",
      "---  ------          --------------  -----  \n",
      " 0   RECEIPT_ID      50000 non-null  object \n",
      " 1   PURCHASE_DATE   50000 non-null  object \n",
      " 2   SCAN_DATE       50000 non-null  object \n",
      " 3   STORE_NAME      50000 non-null  object \n",
      " 4   USER_ID         50000 non-null  object \n",
      " 5   BARCODE         44238 non-null  float64\n",
      " 6   FINAL_QUANTITY  50000 non-null  object \n",
      " 7   FINAL_SALE      50000 non-null  object \n",
      "dtypes: float64(1), object(7)\n",
      "memory usage: 3.1+ MB\n"
     ]
    }
   ],
   "source": [
    "df_transaction.info()"
   ]
  },
  {
   "cell_type": "code",
   "execution_count": 1123,
   "id": "a7863250-8d63-4152-8ee3-78728b3f219e",
   "metadata": {},
   "outputs": [
    {
     "data": {
      "text/html": [
       "<div>\n",
       "<style scoped>\n",
       "    .dataframe tbody tr th:only-of-type {\n",
       "        vertical-align: middle;\n",
       "    }\n",
       "\n",
       "    .dataframe tbody tr th {\n",
       "        vertical-align: top;\n",
       "    }\n",
       "\n",
       "    .dataframe thead th {\n",
       "        text-align: right;\n",
       "    }\n",
       "</style>\n",
       "<table border=\"1\" class=\"dataframe\">\n",
       "  <thead>\n",
       "    <tr style=\"text-align: right;\">\n",
       "      <th></th>\n",
       "      <th>RECEIPT_ID</th>\n",
       "      <th>PURCHASE_DATE</th>\n",
       "      <th>SCAN_DATE</th>\n",
       "      <th>STORE_NAME</th>\n",
       "      <th>USER_ID</th>\n",
       "      <th>BARCODE</th>\n",
       "      <th>FINAL_QUANTITY</th>\n",
       "      <th>FINAL_SALE</th>\n",
       "    </tr>\n",
       "  </thead>\n",
       "  <tbody>\n",
       "  </tbody>\n",
       "</table>\n",
       "</div>"
      ],
      "text/plain": [
       "Empty DataFrame\n",
       "Columns: [RECEIPT_ID, PURCHASE_DATE, SCAN_DATE, STORE_NAME, USER_ID, BARCODE, FINAL_QUANTITY, FINAL_SALE]\n",
       "Index: []"
      ]
     },
     "execution_count": 1123,
     "metadata": {},
     "output_type": "execute_result"
    }
   ],
   "source": [
    "df_transaction.drop_duplicates(inplace=True)\n",
    "\n",
    "df_transaction[df_transaction.duplicated()]"
   ]
  },
  {
   "cell_type": "code",
   "execution_count": 1124,
   "id": "efba1042-14dc-4467-92be-b9a5dfd35b54",
   "metadata": {},
   "outputs": [
    {
     "name": "stdout",
     "output_type": "stream",
     "text": [
      "<class 'pandas.core.frame.DataFrame'>\n",
      "Index: 49829 entries, 0 to 49999\n",
      "Data columns (total 8 columns):\n",
      " #   Column          Non-Null Count  Dtype  \n",
      "---  ------          --------------  -----  \n",
      " 0   RECEIPT_ID      49829 non-null  object \n",
      " 1   PURCHASE_DATE   49829 non-null  object \n",
      " 2   SCAN_DATE       49829 non-null  object \n",
      " 3   STORE_NAME      49829 non-null  object \n",
      " 4   USER_ID         49829 non-null  object \n",
      " 5   BARCODE         44094 non-null  float64\n",
      " 6   FINAL_QUANTITY  49829 non-null  object \n",
      " 7   FINAL_SALE      49829 non-null  object \n",
      "dtypes: float64(1), object(7)\n",
      "memory usage: 3.4+ MB\n"
     ]
    }
   ],
   "source": [
    "df_transaction.info()                   #### Took care of the duplicates"
   ]
  },
  {
   "cell_type": "code",
   "execution_count": 1125,
   "id": "8fe3fb40-53e1-449c-8c5e-91a558184980",
   "metadata": {},
   "outputs": [],
   "source": [
    "####################################################################\n",
    "############## Part III - Missing Values\n",
    "####################################################################"
   ]
  },
  {
   "cell_type": "code",
   "execution_count": 1126,
   "id": "89845cb0-a27f-4772-a4db-ba3389f963d8",
   "metadata": {},
   "outputs": [
    {
     "data": {
      "text/plain": [
       "Text(0.5, 1.0, 'Missing Data Heatmap')"
      ]
     },
     "execution_count": 1126,
     "metadata": {},
     "output_type": "execute_result"
    },
    {
     "data": {
      "image/png": "[encoded data removed]",
      "text/plain": [
       "<Figure size 2000x800 with 1 Axes>"
      ]
     },
     "metadata": {},
     "output_type": "display_data"
    }
   ],
   "source": [
    "from matplotlib.colors import LinearSegmentedColormap\n",
    "\n",
    "Amelia = LinearSegmentedColormap.from_list('black_yellow', ['black', 'yellow'])\n",
    "fig, ax = plt.subplots(figsize=(20,8))\n",
    "\n",
    "sns.heatmap(df_product.isnull(),yticklabels=False,cbar=False,cmap=Amelia,ax=ax)\n",
    "\n",
    "ax.set_xlabel('Columns')\n",
    "ax.set_ylabel('Rows')\n",
    "ax.set_title('Missing Data Heatmap')"
   ]
  },
  {
   "cell_type": "code",
   "execution_count": 1127,
   "id": "c34cbc2f-7a42-4e8f-b440-5d00cb1b46f3",
   "metadata": {},
   "outputs": [
    {
     "data": {
      "text/html": [
       "<div>\n",
       "<style scoped>\n",
       "    .dataframe tbody tr th:only-of-type {\n",
       "        vertical-align: middle;\n",
       "    }\n",
       "\n",
       "    .dataframe tbody tr th {\n",
       "        vertical-align: top;\n",
       "    }\n",
       "\n",
       "    .dataframe thead th {\n",
       "        text-align: right;\n",
       "    }\n",
       "</style>\n",
       "<table border=\"1\" class=\"dataframe\">\n",
       "  <thead>\n",
       "    <tr style=\"text-align: right;\">\n",
       "      <th></th>\n",
       "      <th>CATEGORY_1</th>\n",
       "      <th>CATEGORY_2</th>\n",
       "      <th>CATEGORY_3</th>\n",
       "      <th>CATEGORY_4</th>\n",
       "      <th>MANUFACTURER</th>\n",
       "      <th>BRAND</th>\n",
       "      <th>BARCODE</th>\n",
       "    </tr>\n",
       "  </thead>\n",
       "  <tbody>\n",
       "    <tr>\n",
       "      <th>0</th>\n",
       "      <td>Health &amp; Wellness</td>\n",
       "      <td>Sexual Health</td>\n",
       "      <td>Conductivity Gels &amp; Lotions</td>\n",
       "      <td>NaN</td>\n",
       "      <td>NaN</td>\n",
       "      <td>NaN</td>\n",
       "      <td>7.964944e+11</td>\n",
       "    </tr>\n",
       "    <tr>\n",
       "      <th>1</th>\n",
       "      <td>Snacks</td>\n",
       "      <td>Puffed Snacks</td>\n",
       "      <td>Cheese Curls &amp; Puffs</td>\n",
       "      <td>NaN</td>\n",
       "      <td>NaN</td>\n",
       "      <td>NaN</td>\n",
       "      <td>2.327801e+10</td>\n",
       "    </tr>\n",
       "    <tr>\n",
       "      <th>2</th>\n",
       "      <td>Health &amp; Wellness</td>\n",
       "      <td>Hair Care</td>\n",
       "      <td>Hair Care Accessories</td>\n",
       "      <td>NaN</td>\n",
       "      <td>PLACEHOLDER MANUFACTURER</td>\n",
       "      <td>ELECSOP</td>\n",
       "      <td>4.618178e+11</td>\n",
       "    </tr>\n",
       "    <tr>\n",
       "      <th>3</th>\n",
       "      <td>Health &amp; Wellness</td>\n",
       "      <td>Oral Care</td>\n",
       "      <td>Toothpaste</td>\n",
       "      <td>NaN</td>\n",
       "      <td>COLGATE-PALMOLIVE</td>\n",
       "      <td>COLGATE</td>\n",
       "      <td>3.500047e+10</td>\n",
       "    </tr>\n",
       "    <tr>\n",
       "      <th>4</th>\n",
       "      <td>Health &amp; Wellness</td>\n",
       "      <td>Medicines &amp; Treatments</td>\n",
       "      <td>Essential Oils</td>\n",
       "      <td>NaN</td>\n",
       "      <td>MAPLE HOLISTICS AND HONEYDEW PRODUCTS INTERCHA...</td>\n",
       "      <td>MAPLE HOLISTICS</td>\n",
       "      <td>8.068109e+11</td>\n",
       "    </tr>\n",
       "  </tbody>\n",
       "</table>\n",
       "</div>"
      ],
      "text/plain": [
       "          CATEGORY_1              CATEGORY_2                   CATEGORY_3  \\\n",
       "0  Health & Wellness           Sexual Health  Conductivity Gels & Lotions   \n",
       "1             Snacks           Puffed Snacks         Cheese Curls & Puffs   \n",
       "2  Health & Wellness               Hair Care        Hair Care Accessories   \n",
       "3  Health & Wellness               Oral Care                   Toothpaste   \n",
       "4  Health & Wellness  Medicines & Treatments               Essential Oils   \n",
       "\n",
       "  CATEGORY_4                                       MANUFACTURER  \\\n",
       "0        NaN                                                NaN   \n",
       "1        NaN                                                NaN   \n",
       "2        NaN                           PLACEHOLDER MANUFACTURER   \n",
       "3        NaN                                  COLGATE-PALMOLIVE   \n",
       "4        NaN  MAPLE HOLISTICS AND HONEYDEW PRODUCTS INTERCHA...   \n",
       "\n",
       "             BRAND       BARCODE  \n",
       "0              NaN  7.964944e+11  \n",
       "1              NaN  2.327801e+10  \n",
       "2          ELECSOP  4.618178e+11  \n",
       "3          COLGATE  3.500047e+10  \n",
       "4  MAPLE HOLISTICS  8.068109e+11  "
      ]
     },
     "execution_count": 1127,
     "metadata": {},
     "output_type": "execute_result"
    }
   ],
   "source": [
    "df_product.head()                     #### We have unprecedented amount of null values in Category_4"
   ]
  },
  {
   "cell_type": "code",
   "execution_count": 1128,
   "id": "386df2a4-6dd2-436a-9f6d-065ba9894f6b",
   "metadata": {},
   "outputs": [
    {
     "data": {
      "text/plain": [
       "CATEGORY_4\n",
       "NaN                       777884\n",
       "Lip Balms                   9737\n",
       "Already Popped Popcorn      6974\n",
       "Sleep Aids                  4978\n",
       "Hair Brushes & Combs        4724\n",
       "                           ...  \n",
       "Sherbet                        1\n",
       "Coconut Milk                   1\n",
       "Corn Syrup                     1\n",
       "White Merlot                   1\n",
       "Spices                         1\n",
       "Name: count, Length: 128, dtype: int64"
      ]
     },
     "execution_count": 1128,
     "metadata": {},
     "output_type": "execute_result"
    }
   ],
   "source": [
    "df_product.CATEGORY_4.value_counts(dropna=False)               #### Seems like we have 777884 null or missing values"
   ]
  },
  {
   "cell_type": "markdown",
   "id": "a71dd48a-8e78-47eb-bd53-5572be5470fa",
   "metadata": {},
   "source": [
    "#### How to take care of the missing values here?\n",
    "\n",
    "#### We cannot do the mean of the data as it is not a number so it wouldn't work, we can use Mode imputation as its ordinal but seems like Category 4 has some correlation to other categories so it will throw off the analysis in the long run.\n",
    "#### Best approach will be to fill it up with Unknown as it will not disturb our analysis\n"
   ]
  },
  {
   "cell_type": "code",
   "execution_count": 1130,
   "id": "fac17708-4b83-4795-a810-ff9cbb999c9e",
   "metadata": {},
   "outputs": [],
   "source": [
    "df_product['CATEGORY_4'] = df_product.CATEGORY_4.fillna('Unknown')"
   ]
  },
  {
   "cell_type": "code",
   "execution_count": 1131,
   "id": "8faa32b1-8113-484f-b03e-4523a3032ceb",
   "metadata": {},
   "outputs": [
    {
     "data": {
      "text/plain": [
       "CATEGORY_4\n",
       "Unknown                   777884\n",
       "Lip Balms                   9737\n",
       "Already Popped Popcorn      6974\n",
       "Sleep Aids                  4978\n",
       "Hair Brushes & Combs        4724\n",
       "                           ...  \n",
       "Sherbet                        1\n",
       "Coconut Milk                   1\n",
       "Corn Syrup                     1\n",
       "White Merlot                   1\n",
       "Spices                         1\n",
       "Name: count, Length: 128, dtype: int64"
      ]
     },
     "execution_count": 1131,
     "metadata": {},
     "output_type": "execute_result"
    }
   ],
   "source": [
    "df_product.CATEGORY_4.value_counts(dropna=False)               #### Null values got replaced with Unknowns"
   ]
  },
  {
   "cell_type": "code",
   "execution_count": 1132,
   "id": "a244156a-6e72-439b-8e77-d563a2377741",
   "metadata": {},
   "outputs": [
    {
     "data": {
      "text/plain": [
       "CATEGORY_3\n",
       "NaN                              60563\n",
       "Confection Candy                 56951\n",
       "Vitamins & Herbal Supplements    55698\n",
       "Chocolate Candy                  47630\n",
       "Hair Styling Products            20450\n",
       "                                 ...  \n",
       "Outdoor Living                       1\n",
       "Fuel Containers & Tanks              1\n",
       "Beans                                1\n",
       "Chair & Sofa Cushions                1\n",
       "Baby Carriers                        1\n",
       "Name: count, Length: 345, dtype: int64"
      ]
     },
     "execution_count": 1132,
     "metadata": {},
     "output_type": "execute_result"
    }
   ],
   "source": [
    "df_product.CATEGORY_3.value_counts(dropna=False)               #### Null values here is 60563"
   ]
  },
  {
   "cell_type": "code",
   "execution_count": 1133,
   "id": "36eeed26-5933-480a-9ecd-80e364365916",
   "metadata": {
    "scrolled": true
   },
   "outputs": [],
   "source": [
    "df_product['CATEGORY_3'] = df_product.CATEGORY_3.fillna('Unknown')"
   ]
  },
  {
   "cell_type": "code",
   "execution_count": 1134,
   "id": "2091b850-7c46-4550-a341-749375a36401",
   "metadata": {},
   "outputs": [
    {
     "data": {
      "text/plain": [
       "CATEGORY_3\n",
       "Unknown                          60563\n",
       "Confection Candy                 56951\n",
       "Vitamins & Herbal Supplements    55698\n",
       "Chocolate Candy                  47630\n",
       "Hair Styling Products            20450\n",
       "                                 ...  \n",
       "Outdoor Living                       1\n",
       "Fuel Containers & Tanks              1\n",
       "Beans                                1\n",
       "Chair & Sofa Cushions                1\n",
       "Baby Carriers                        1\n",
       "Name: count, Length: 345, dtype: int64"
      ]
     },
     "execution_count": 1134,
     "metadata": {},
     "output_type": "execute_result"
    }
   ],
   "source": [
    "df_product.CATEGORY_3.value_counts(dropna=False)               #### Null values replaced"
   ]
  },
  {
   "cell_type": "code",
   "execution_count": 1135,
   "id": "889e6e95-6159-4076-9d9c-9c3767eb7bb9",
   "metadata": {},
   "outputs": [
    {
     "data": {
      "text/plain": [
       "MANUFACTURER\n",
       "NaN                                  226464\n",
       "PLACEHOLDER MANUFACTURER              86900\n",
       "PROCTER & GAMBLE                      21065\n",
       "REM MANUFACTURER                      20813\n",
       "UNILEVER                              16864\n",
       "                                      ...  \n",
       "WHITEBRIDGE PET BRANDS                    1\n",
       "G FABBRI SPA                              1\n",
       "KOON CHUN HING KEE SOY SC                 1\n",
       "SPRECHER BREWING COMPANY, LLC             1\n",
       "OUTDOOR PRODUCT INNOVATIONS, INC.         1\n",
       "Name: count, Length: 4355, dtype: int64"
      ]
     },
     "execution_count": 1135,
     "metadata": {},
     "output_type": "execute_result"
    }
   ],
   "source": [
    "df_product.MANUFACTURER.value_counts(dropna=False)                   #### We will do the same here with missing values"
   ]
  },
  {
   "cell_type": "code",
   "execution_count": 1136,
   "id": "ef815873-6e57-499f-b5a7-b5c74486b637",
   "metadata": {},
   "outputs": [],
   "source": [
    "df_product['MANUFACTURER'] = df_product.MANUFACTURER.fillna('Unknown')"
   ]
  },
  {
   "cell_type": "code",
   "execution_count": 1137,
   "id": "03359db1-8789-4a76-a9dc-99ce9de9df90",
   "metadata": {},
   "outputs": [
    {
     "data": {
      "text/plain": [
       "MANUFACTURER\n",
       "Unknown                              226464\n",
       "PLACEHOLDER MANUFACTURER              86900\n",
       "PROCTER & GAMBLE                      21065\n",
       "REM MANUFACTURER                      20813\n",
       "UNILEVER                              16864\n",
       "                                      ...  \n",
       "WHITEBRIDGE PET BRANDS                    1\n",
       "G FABBRI SPA                              1\n",
       "KOON CHUN HING KEE SOY SC                 1\n",
       "SPRECHER BREWING COMPANY, LLC             1\n",
       "OUTDOOR PRODUCT INNOVATIONS, INC.         1\n",
       "Name: count, Length: 4355, dtype: int64"
      ]
     },
     "execution_count": 1137,
     "metadata": {},
     "output_type": "execute_result"
    }
   ],
   "source": [
    "df_product.MANUFACTURER.value_counts(dropna=False)                   #### We will do the same here with missing values"
   ]
  },
  {
   "cell_type": "code",
   "execution_count": 1138,
   "id": "d44b0e29-9879-4c04-8add-d8466f3febaf",
   "metadata": {},
   "outputs": [
    {
     "data": {
      "text/plain": [
       "BRAND\n",
       "NaN                          226462\n",
       "REM BRAND                     20813\n",
       "BRAND NOT KNOWN               17023\n",
       "PRIVATE LABEL                 13467\n",
       "CVS                            6400\n",
       "                              ...  \n",
       "LIDIAS                            1\n",
       "EVIVA                             1\n",
       "MANUKA HEALTH NEW ZEALAND         1\n",
       "EL EBRO                           1\n",
       "GATEWAY                           1\n",
       "Name: count, Length: 8123, dtype: int64"
      ]
     },
     "execution_count": 1138,
     "metadata": {},
     "output_type": "execute_result"
    }
   ],
   "source": [
    "df_product.BRAND.value_counts(dropna=False)                   #### Null values similar case here and again its Oridinal"
   ]
  },
  {
   "cell_type": "code",
   "execution_count": 1139,
   "id": "7d972350-35b6-4b10-8db7-a265d4cb1140",
   "metadata": {},
   "outputs": [],
   "source": [
    "df_product['BRAND'] = df_product.BRAND.fillna('Unknown')"
   ]
  },
  {
   "cell_type": "code",
   "execution_count": 1140,
   "id": "1cbe40cd-e47a-434d-88cc-9279e845bbf0",
   "metadata": {},
   "outputs": [
    {
     "data": {
      "text/plain": [
       "CATEGORY_1\n",
       "Health & Wellness         512686\n",
       "Snacks                    324642\n",
       "Beverages                   3989\n",
       "Pantry                       870\n",
       "Apparel & Accessories        846\n",
       "Dairy                        602\n",
       "Needs Review                 547\n",
       "Alcohol                      502\n",
       "Home & Garden                115\n",
       "NaN                          111\n",
       "Deli & Bakery                 69\n",
       "Frozen                        62\n",
       "Meat & Seafood                49\n",
       "Sporting Goods                47\n",
       "Office & School               45\n",
       "Restaurant                    41\n",
       "Toys & Games                  28\n",
       "Household Supplies            24\n",
       "Produce                       20\n",
       "Animals & Pet Supplies        16\n",
       "Arts & Entertainment           7\n",
       "Electronics                    5\n",
       "Mature                         3\n",
       "Vehicles & Parts               3\n",
       "Baby & Toddler                 3\n",
       "Beauty                         2\n",
       "Media                          2\n",
       "Luggage & Bags                 1\n",
       "Name: count, dtype: int64"
      ]
     },
     "execution_count": 1140,
     "metadata": {},
     "output_type": "execute_result"
    }
   ],
   "source": [
    "df_product.CATEGORY_1.value_counts(dropna=False)                   #### Null values here is 111"
   ]
  },
  {
   "cell_type": "code",
   "execution_count": 1141,
   "id": "993ff63a-47ff-41fd-9b3a-0e5d1c1eeec5",
   "metadata": {},
   "outputs": [],
   "source": [
    "df_product['CATEGORY_1'] = df_product.CATEGORY_1.fillna('Unknown')"
   ]
  },
  {
   "cell_type": "code",
   "execution_count": 1142,
   "id": "a5c18156-167c-4b45-9fd7-47c37684ab85",
   "metadata": {},
   "outputs": [],
   "source": [
    "df_product['CATEGORY_2'] = df_product.CATEGORY_2.fillna('Unknown')"
   ]
  },
  {
   "cell_type": "code",
   "execution_count": 1143,
   "id": "2c6fd46b-4354-4cd5-b007-c55862025556",
   "metadata": {},
   "outputs": [
    {
     "data": {
      "text/plain": [
       "BARCODE\n",
       "NaN             3968\n",
       "2.073306e+07       2\n",
       "5.042617e+07       2\n",
       "3.473009e+06       2\n",
       "3.422007e+06       2\n",
       "                ... \n",
       "7.192838e+11       1\n",
       "4.342719e+10       1\n",
       "7.007121e+11       1\n",
       "1.816948e+10       1\n",
       "7.967933e+11       1\n",
       "Name: count, Length: 841343, dtype: int64"
      ]
     },
     "execution_count": 1143,
     "metadata": {},
     "output_type": "execute_result"
    }
   ],
   "source": [
    "df_product.BARCODE.value_counts(dropna=False)                       #### We have almost 4000 null values in barcodes"
   ]
  },
  {
   "cell_type": "code",
   "execution_count": 1144,
   "id": "785f7544-8824-4a03-af36-52cfa694fed8",
   "metadata": {},
   "outputs": [
    {
     "data": {
      "text/plain": [
       "601723879952.2688"
      ]
     },
     "execution_count": 1144,
     "metadata": {},
     "output_type": "execute_result"
    }
   ],
   "source": [
    "df_product.BARCODE.mean()             #### as barcode is number and we usually do numbers with mean or median for the missing values"
   ]
  },
  {
   "cell_type": "code",
   "execution_count": 1145,
   "id": "f775049d-4e60-461f-b07e-2448d3906227",
   "metadata": {},
   "outputs": [
    {
     "data": {
      "text/plain": [
       "634418524553.0"
      ]
     },
     "execution_count": 1145,
     "metadata": {},
     "output_type": "execute_result"
    }
   ],
   "source": [
    "df_product.BARCODE.median()"
   ]
  },
  {
   "cell_type": "markdown",
   "id": "e5799d93-e979-4050-a376-6389d2330a25",
   "metadata": {},
   "source": [
    "#### Missing values on barcode although they are numbers but we cant be using mean or median on them as they are unique numbers\n",
    "\n",
    "#### In this case we can use Unknown but that will make that feature into string which we wanna keep it as int or number value intact\n",
    "#### Other way we can handle is to drop the missing the values but we will lose almost 4k data points\n",
    "#### The best approach for us to take here is to make a dummy barcode to act like an Unknown dummy barcode"
   ]
  },
  {
   "cell_type": "code",
   "execution_count": 1147,
   "id": "93c446e8-7f71-418d-93aa-251c16b73d89",
   "metadata": {},
   "outputs": [
    {
     "data": {
      "text/plain": [
       "796494407820.0"
      ]
     },
     "execution_count": 1147,
     "metadata": {},
     "output_type": "execute_result"
    }
   ],
   "source": [
    "df_product.BARCODE[0]                  #### this is 12 digits "
   ]
  },
  {
   "cell_type": "code",
   "execution_count": 1148,
   "id": "45e74b41-3226-4830-9172-e0954389514e",
   "metadata": {},
   "outputs": [
    {
     "data": {
      "text/plain": [
       "23278011028.0"
      ]
     },
     "execution_count": 1148,
     "metadata": {},
     "output_type": "execute_result"
    }
   ],
   "source": [
    "df_product.BARCODE[1]                  #### this is 11 digits "
   ]
  },
  {
   "cell_type": "code",
   "execution_count": 1149,
   "id": "54215074-dc79-44d0-bafd-498a68855541",
   "metadata": {},
   "outputs": [
    {
     "name": "stdout",
     "output_type": "stream",
     "text": [
      "BARCODE_LENGTH\n",
      "12.0    502091\n",
      "11.0    296376\n",
      "13.0     30144\n",
      "10.0      7591\n",
      "8.0       1865\n",
      "9.0       1762\n",
      "7.0        841\n",
      "6.0        563\n",
      "5.0         83\n",
      "14.0        44\n",
      "4.0          8\n",
      "3.0          1\n",
      "Name: count, dtype: int64\n"
     ]
    }
   ],
   "source": [
    "# Check the length of non-null barcodes\n",
    "df_product['BARCODE_LENGTH'] = df_product['BARCODE'].dropna().apply(lambda x: len(str(int(x))))\n",
    "print(df_product['BARCODE_LENGTH'].value_counts())\n",
    "\n",
    "#### Because the length is all over the place we will just go for the majority number which is 12 digits"
   ]
  },
  {
   "cell_type": "code",
   "execution_count": 1150,
   "id": "596d38f8-1e4a-4120-be10-9ce756f0dcf6",
   "metadata": {},
   "outputs": [
    {
     "data": {
      "text/html": [
       "<div>\n",
       "<style scoped>\n",
       "    .dataframe tbody tr th:only-of-type {\n",
       "        vertical-align: middle;\n",
       "    }\n",
       "\n",
       "    .dataframe tbody tr th {\n",
       "        vertical-align: top;\n",
       "    }\n",
       "\n",
       "    .dataframe thead th {\n",
       "        text-align: right;\n",
       "    }\n",
       "</style>\n",
       "<table border=\"1\" class=\"dataframe\">\n",
       "  <thead>\n",
       "    <tr style=\"text-align: right;\">\n",
       "      <th></th>\n",
       "      <th>CATEGORY_1</th>\n",
       "      <th>CATEGORY_2</th>\n",
       "      <th>CATEGORY_3</th>\n",
       "      <th>CATEGORY_4</th>\n",
       "      <th>MANUFACTURER</th>\n",
       "      <th>BRAND</th>\n",
       "      <th>BARCODE</th>\n",
       "      <th>BARCODE_LENGTH</th>\n",
       "    </tr>\n",
       "  </thead>\n",
       "  <tbody>\n",
       "    <tr>\n",
       "      <th>0</th>\n",
       "      <td>Health &amp; Wellness</td>\n",
       "      <td>Sexual Health</td>\n",
       "      <td>Conductivity Gels &amp; Lotions</td>\n",
       "      <td>Unknown</td>\n",
       "      <td>Unknown</td>\n",
       "      <td>Unknown</td>\n",
       "      <td>7.964944e+11</td>\n",
       "      <td>12.0</td>\n",
       "    </tr>\n",
       "    <tr>\n",
       "      <th>1</th>\n",
       "      <td>Snacks</td>\n",
       "      <td>Puffed Snacks</td>\n",
       "      <td>Cheese Curls &amp; Puffs</td>\n",
       "      <td>Unknown</td>\n",
       "      <td>Unknown</td>\n",
       "      <td>Unknown</td>\n",
       "      <td>2.327801e+10</td>\n",
       "      <td>11.0</td>\n",
       "    </tr>\n",
       "    <tr>\n",
       "      <th>2</th>\n",
       "      <td>Health &amp; Wellness</td>\n",
       "      <td>Hair Care</td>\n",
       "      <td>Hair Care Accessories</td>\n",
       "      <td>Unknown</td>\n",
       "      <td>PLACEHOLDER MANUFACTURER</td>\n",
       "      <td>ELECSOP</td>\n",
       "      <td>4.618178e+11</td>\n",
       "      <td>12.0</td>\n",
       "    </tr>\n",
       "    <tr>\n",
       "      <th>3</th>\n",
       "      <td>Health &amp; Wellness</td>\n",
       "      <td>Oral Care</td>\n",
       "      <td>Toothpaste</td>\n",
       "      <td>Unknown</td>\n",
       "      <td>COLGATE-PALMOLIVE</td>\n",
       "      <td>COLGATE</td>\n",
       "      <td>3.500047e+10</td>\n",
       "      <td>11.0</td>\n",
       "    </tr>\n",
       "    <tr>\n",
       "      <th>4</th>\n",
       "      <td>Health &amp; Wellness</td>\n",
       "      <td>Medicines &amp; Treatments</td>\n",
       "      <td>Essential Oils</td>\n",
       "      <td>Unknown</td>\n",
       "      <td>MAPLE HOLISTICS AND HONEYDEW PRODUCTS INTERCHA...</td>\n",
       "      <td>MAPLE HOLISTICS</td>\n",
       "      <td>8.068109e+11</td>\n",
       "      <td>12.0</td>\n",
       "    </tr>\n",
       "  </tbody>\n",
       "</table>\n",
       "</div>"
      ],
      "text/plain": [
       "          CATEGORY_1              CATEGORY_2                   CATEGORY_3  \\\n",
       "0  Health & Wellness           Sexual Health  Conductivity Gels & Lotions   \n",
       "1             Snacks           Puffed Snacks         Cheese Curls & Puffs   \n",
       "2  Health & Wellness               Hair Care        Hair Care Accessories   \n",
       "3  Health & Wellness               Oral Care                   Toothpaste   \n",
       "4  Health & Wellness  Medicines & Treatments               Essential Oils   \n",
       "\n",
       "  CATEGORY_4                                       MANUFACTURER  \\\n",
       "0    Unknown                                            Unknown   \n",
       "1    Unknown                                            Unknown   \n",
       "2    Unknown                           PLACEHOLDER MANUFACTURER   \n",
       "3    Unknown                                  COLGATE-PALMOLIVE   \n",
       "4    Unknown  MAPLE HOLISTICS AND HONEYDEW PRODUCTS INTERCHA...   \n",
       "\n",
       "             BRAND       BARCODE  BARCODE_LENGTH  \n",
       "0          Unknown  7.964944e+11            12.0  \n",
       "1          Unknown  2.327801e+10            11.0  \n",
       "2          ELECSOP  4.618178e+11            12.0  \n",
       "3          COLGATE  3.500047e+10            11.0  \n",
       "4  MAPLE HOLISTICS  8.068109e+11            12.0  "
      ]
     },
     "execution_count": 1150,
     "metadata": {},
     "output_type": "execute_result"
    }
   ],
   "source": [
    "df_product.head()"
   ]
  },
  {
   "cell_type": "code",
   "execution_count": 1151,
   "id": "bb765c70-8c1f-4ec0-80f8-df178c246cb5",
   "metadata": {},
   "outputs": [],
   "source": [
    "import uuid\n",
    "\n",
    "# Function to generate unique dummy barcodes\n",
    "def generate_dummy_barcode():\n",
    "    return str(uuid.uuid4().int)[:12]  # 12-digit dummy barcode\n",
    "\n",
    "# Fill missing barcodes with unique placeholders\n",
    "df_product['BARCODE'] = df_product['BARCODE'].apply(lambda x: generate_dummy_barcode() if pd.isna(x) else x)\n"
   ]
  },
  {
   "cell_type": "code",
   "execution_count": 1152,
   "id": "9334e263-5b39-4fe1-bb26-27ddd4cf9ed8",
   "metadata": {},
   "outputs": [
    {
     "data": {
      "text/plain": [
       "BARCODE\n",
       "3.431207e+06    2\n",
       "7.505306e+07    2\n",
       "3.484708e+06    2\n",
       "9.693070e+05    2\n",
       "4.003207e+06    2\n",
       "               ..\n",
       "6.570405e+11    1\n",
       "4.126037e+10    1\n",
       "7.172572e+10    1\n",
       "8.551070e+11    1\n",
       "7.967933e+11    1\n",
       "Name: count, Length: 845310, dtype: int64"
      ]
     },
     "execution_count": 1152,
     "metadata": {},
     "output_type": "execute_result"
    }
   ],
   "source": [
    "df_product.BARCODE.value_counts(dropna=False)"
   ]
  },
  {
   "cell_type": "code",
   "execution_count": 1153,
   "id": "3ca67b6f-be89-485d-9010-6e96bea9da82",
   "metadata": {},
   "outputs": [],
   "source": [
    "df_product.drop(columns='BARCODE_LENGTH',inplace=True)"
   ]
  },
  {
   "cell_type": "code",
   "execution_count": 1154,
   "id": "6307c6c0-2cae-493f-9fc9-c28370b72e8d",
   "metadata": {},
   "outputs": [
    {
     "data": {
      "text/plain": [
       "Text(0.5, 1.0, 'Missing Data Heatmap')"
      ]
     },
     "execution_count": 1154,
     "metadata": {},
     "output_type": "execute_result"
    },
    {
     "data": {
      "image/png": "[encoded data removed]",
      "text/plain": [
       "<Figure size 2000x800 with 1 Axes>"
      ]
     },
     "metadata": {},
     "output_type": "display_data"
    }
   ],
   "source": [
    "#### This Data set has been cleaned lets see it one more time\n",
    "\n",
    "from matplotlib.colors import LinearSegmentedColormap\n",
    "\n",
    "Amelia = LinearSegmentedColormap.from_list('black_yellow', ['black', 'yellow'])\n",
    "fig, ax = plt.subplots(figsize=(20,8))\n",
    "\n",
    "sns.heatmap(df_product.isnull(),yticklabels=False,cbar=False,cmap=Amelia,ax=ax)\n",
    "\n",
    "ax.set_xlabel('Columns')\n",
    "ax.set_ylabel('Rows')\n",
    "ax.set_title('Missing Data Heatmap')"
   ]
  },
  {
   "cell_type": "code",
   "execution_count": 1155,
   "id": "6850d268-5958-475b-b3d4-890471979514",
   "metadata": {},
   "outputs": [
    {
     "data": {
      "text/plain": [
       "CATEGORY_1      False\n",
       "CATEGORY_2      False\n",
       "CATEGORY_3      False\n",
       "CATEGORY_4      False\n",
       "MANUFACTURER    False\n",
       "BRAND           False\n",
       "BARCODE         False\n",
       "dtype: bool"
      ]
     },
     "execution_count": 1155,
     "metadata": {},
     "output_type": "execute_result"
    }
   ],
   "source": [
    "df_product.isna().any()                 #### We took care of all the missing values here\n"
   ]
  },
  {
   "cell_type": "code",
   "execution_count": 1156,
   "id": "389759bb-9df1-4fa6-8c25-b86e3e141b67",
   "metadata": {},
   "outputs": [
    {
     "data": {
      "text/plain": [
       "Text(0.5, 1.0, 'Missing Data Heatmap')"
      ]
     },
     "execution_count": 1156,
     "metadata": {},
     "output_type": "execute_result"
    },
    {
     "data": {
      "image/png": "[encoded data removed]",
      "text/plain": [
       "<Figure size 2000x800 with 1 Axes>"
      ]
     },
     "metadata": {},
     "output_type": "display_data"
    }
   ],
   "source": [
    "from matplotlib.colors import LinearSegmentedColormap\n",
    "\n",
    "Amelia = LinearSegmentedColormap.from_list('black_yellow', ['black', 'yellow'])\n",
    "fig, ax = plt.subplots(figsize=(20,8))\n",
    "\n",
    "sns.heatmap(df_transaction.isnull(),yticklabels=False,cbar=False,cmap=Amelia,ax=ax)\n",
    "\n",
    "ax.set_xlabel('Columns')\n",
    "ax.set_ylabel('Rows')\n",
    "ax.set_title('Missing Data Heatmap')                    #### Similar treatment for the Transaction data set"
   ]
  },
  {
   "cell_type": "code",
   "execution_count": 1157,
   "id": "fa56f7ff-6474-4061-a30a-3a4cec619cbe",
   "metadata": {},
   "outputs": [
    {
     "data": {
      "text/plain": [
       "RECEIPT_ID        False\n",
       "PURCHASE_DATE     False\n",
       "SCAN_DATE         False\n",
       "STORE_NAME        False\n",
       "USER_ID           False\n",
       "BARCODE            True\n",
       "FINAL_QUANTITY    False\n",
       "FINAL_SALE        False\n",
       "dtype: bool"
      ]
     },
     "execution_count": 1157,
     "metadata": {},
     "output_type": "execute_result"
    }
   ],
   "source": [
    "df_transaction.isna().any()                 #### We only have missing values in barcode on this data set\n"
   ]
  },
  {
   "cell_type": "code",
   "execution_count": 1158,
   "id": "1fc0b5a5-aadd-49c7-94ea-02e68b1caa4a",
   "metadata": {},
   "outputs": [
    {
     "data": {
      "text/plain": [
       "BARCODE\n",
       "NaN             5735\n",
       "7.874222e+10     181\n",
       "5.111115e+11     168\n",
       "5.111110e+11     163\n",
       "7.874229e+10     158\n",
       "                ... \n",
       "1.605611e+07       2\n",
       "2.220094e+10       2\n",
       "7.055220e+10       2\n",
       "7.137333e+11       2\n",
       "7.432310e+10       2\n",
       "Name: count, Length: 11028, dtype: int64"
      ]
     },
     "execution_count": 1158,
     "metadata": {},
     "output_type": "execute_result"
    }
   ],
   "source": [
    "df_transaction.BARCODE.value_counts(dropna=False)                #### We have 5735 null values or missing values to take care of"
   ]
  },
  {
   "cell_type": "code",
   "execution_count": 1159,
   "id": "8ce84da1-fbc5-4133-89f7-3bfcf9ae576c",
   "metadata": {},
   "outputs": [
    {
     "data": {
      "text/plain": [
       "78742229751.0"
      ]
     },
     "execution_count": 1159,
     "metadata": {},
     "output_type": "execute_result"
    }
   ],
   "source": [
    "df_transaction.BARCODE[2]"
   ]
  },
  {
   "cell_type": "code",
   "execution_count": 1160,
   "id": "a950795f-2c55-42d3-ad07-a36fd136c0e1",
   "metadata": {},
   "outputs": [
    {
     "name": "stdout",
     "output_type": "stream",
     "text": [
      "BARCODE_LENGTH\n",
      "11.0    32589\n",
      "12.0    10500\n",
      "10.0      316\n",
      "5.0       247\n",
      "8.0       150\n",
      "7.0       150\n",
      "13.0       86\n",
      "6.0        40\n",
      "2.0         8\n",
      "9.0         4\n",
      "4.0         4\n",
      "Name: count, dtype: int64\n"
     ]
    }
   ],
   "source": [
    "# Check the length of non-null barcodes\n",
    "df_transaction['BARCODE_LENGTH'] = df_transaction['BARCODE'].dropna().apply(lambda x: len(str(int(x))))\n",
    "print(df_transaction['BARCODE_LENGTH'].value_counts())\n",
    "\n",
    "#### Because the length is all over the place we will just go for the majority number which is 11 digits"
   ]
  },
  {
   "cell_type": "code",
   "execution_count": 1161,
   "id": "40d3d38a-1eb0-43d6-af41-9f7e41bc7d73",
   "metadata": {},
   "outputs": [],
   "source": [
    "import uuid\n",
    "\n",
    "# Function to generate unique dummy barcodes\n",
    "def generate_dummy_barcode():\n",
    "    return str(uuid.uuid4().int)[:11]  # 11-digit dummy barcode\n",
    "\n",
    "# Fill missing barcodes with unique placeholders\n",
    "df_transaction['BARCODE'] = df_transaction['BARCODE'].apply(lambda x: generate_dummy_barcode() if pd.isna(x) else x)\n"
   ]
  },
  {
   "cell_type": "code",
   "execution_count": 1162,
   "id": "44bb80e0-cc13-48c3-95fa-79446489c754",
   "metadata": {},
   "outputs": [
    {
     "data": {
      "text/plain": [
       "BARCODE\n",
       "78742223759.0     181\n",
       "511111503972.0    168\n",
       "511111001768.0    163\n",
       "78742285443.0     158\n",
       "311111224057.0    149\n",
       "                 ... \n",
       "11716032406         1\n",
       "33432021239         1\n",
       "49759551512         1\n",
       "24905873199         1\n",
       "31579338462         1\n",
       "Name: count, Length: 16762, dtype: int64"
      ]
     },
     "execution_count": 1162,
     "metadata": {},
     "output_type": "execute_result"
    }
   ],
   "source": [
    "df_transaction.BARCODE.value_counts(dropna=False)                #### No null values here"
   ]
  },
  {
   "cell_type": "code",
   "execution_count": 1163,
   "id": "fcb8d4fa-9752-4baa-a79f-8ebcf1d213ef",
   "metadata": {},
   "outputs": [],
   "source": [
    "df_transaction.drop(columns='BARCODE_LENGTH',inplace=True)"
   ]
  },
  {
   "cell_type": "code",
   "execution_count": 1164,
   "id": "dd55d601-5b88-4424-ae21-0dd6b6ecdb52",
   "metadata": {},
   "outputs": [
    {
     "data": {
      "text/html": [
       "<div>\n",
       "<style scoped>\n",
       "    .dataframe tbody tr th:only-of-type {\n",
       "        vertical-align: middle;\n",
       "    }\n",
       "\n",
       "    .dataframe tbody tr th {\n",
       "        vertical-align: top;\n",
       "    }\n",
       "\n",
       "    .dataframe thead th {\n",
       "        text-align: right;\n",
       "    }\n",
       "</style>\n",
       "<table border=\"1\" class=\"dataframe\">\n",
       "  <thead>\n",
       "    <tr style=\"text-align: right;\">\n",
       "      <th></th>\n",
       "      <th>RECEIPT_ID</th>\n",
       "      <th>PURCHASE_DATE</th>\n",
       "      <th>SCAN_DATE</th>\n",
       "      <th>STORE_NAME</th>\n",
       "      <th>USER_ID</th>\n",
       "      <th>BARCODE</th>\n",
       "      <th>FINAL_QUANTITY</th>\n",
       "      <th>FINAL_SALE</th>\n",
       "    </tr>\n",
       "  </thead>\n",
       "  <tbody>\n",
       "    <tr>\n",
       "      <th>0</th>\n",
       "      <td>0000d256-4041-4a3e-adc4-5623fb6e0c99</td>\n",
       "      <td>2024-08-21</td>\n",
       "      <td>2024-08-21 14:19:06.539 Z</td>\n",
       "      <td>WALMART</td>\n",
       "      <td>63b73a7f3d310dceeabd4758</td>\n",
       "      <td>15300014978.0</td>\n",
       "      <td>1.00</td>\n",
       "      <td></td>\n",
       "    </tr>\n",
       "    <tr>\n",
       "      <th>1</th>\n",
       "      <td>0001455d-7a92-4a7b-a1d2-c747af1c8fd3</td>\n",
       "      <td>2024-07-20</td>\n",
       "      <td>2024-07-20 09:50:24.206 Z</td>\n",
       "      <td>ALDI</td>\n",
       "      <td>62c08877baa38d1a1f6c211a</td>\n",
       "      <td>11906863057</td>\n",
       "      <td>zero</td>\n",
       "      <td>1.49</td>\n",
       "    </tr>\n",
       "    <tr>\n",
       "      <th>2</th>\n",
       "      <td>00017e0a-7851-42fb-bfab-0baa96e23586</td>\n",
       "      <td>2024-08-18</td>\n",
       "      <td>2024-08-19 15:38:56.813 Z</td>\n",
       "      <td>WALMART</td>\n",
       "      <td>60842f207ac8b7729e472020</td>\n",
       "      <td>78742229751.0</td>\n",
       "      <td>1.00</td>\n",
       "      <td></td>\n",
       "    </tr>\n",
       "    <tr>\n",
       "      <th>3</th>\n",
       "      <td>000239aa-3478-453d-801e-66a82e39c8af</td>\n",
       "      <td>2024-06-18</td>\n",
       "      <td>2024-06-19 11:03:37.468 Z</td>\n",
       "      <td>FOOD LION</td>\n",
       "      <td>63fcd7cea4f8442c3386b589</td>\n",
       "      <td>783399746536.0</td>\n",
       "      <td>zero</td>\n",
       "      <td>3.49</td>\n",
       "    </tr>\n",
       "    <tr>\n",
       "      <th>4</th>\n",
       "      <td>00026b4c-dfe8-49dd-b026-4c2f0fd5c6a1</td>\n",
       "      <td>2024-07-04</td>\n",
       "      <td>2024-07-05 15:56:43.549 Z</td>\n",
       "      <td>RANDALLS</td>\n",
       "      <td>6193231ae9b3d75037b0f928</td>\n",
       "      <td>47900501183.0</td>\n",
       "      <td>1.00</td>\n",
       "      <td></td>\n",
       "    </tr>\n",
       "  </tbody>\n",
       "</table>\n",
       "</div>"
      ],
      "text/plain": [
       "                             RECEIPT_ID PURCHASE_DATE  \\\n",
       "0  0000d256-4041-4a3e-adc4-5623fb6e0c99    2024-08-21   \n",
       "1  0001455d-7a92-4a7b-a1d2-c747af1c8fd3    2024-07-20   \n",
       "2  00017e0a-7851-42fb-bfab-0baa96e23586    2024-08-18   \n",
       "3  000239aa-3478-453d-801e-66a82e39c8af    2024-06-18   \n",
       "4  00026b4c-dfe8-49dd-b026-4c2f0fd5c6a1    2024-07-04   \n",
       "\n",
       "                   SCAN_DATE STORE_NAME                   USER_ID  \\\n",
       "0  2024-08-21 14:19:06.539 Z    WALMART  63b73a7f3d310dceeabd4758   \n",
       "1  2024-07-20 09:50:24.206 Z       ALDI  62c08877baa38d1a1f6c211a   \n",
       "2  2024-08-19 15:38:56.813 Z    WALMART  60842f207ac8b7729e472020   \n",
       "3  2024-06-19 11:03:37.468 Z  FOOD LION  63fcd7cea4f8442c3386b589   \n",
       "4  2024-07-05 15:56:43.549 Z   RANDALLS  6193231ae9b3d75037b0f928   \n",
       "\n",
       "          BARCODE FINAL_QUANTITY FINAL_SALE  \n",
       "0   15300014978.0           1.00             \n",
       "1     11906863057           zero       1.49  \n",
       "2   78742229751.0           1.00             \n",
       "3  783399746536.0           zero       3.49  \n",
       "4   47900501183.0           1.00             "
      ]
     },
     "execution_count": 1164,
     "metadata": {},
     "output_type": "execute_result"
    }
   ],
   "source": [
    "df_transaction.head()"
   ]
  },
  {
   "cell_type": "code",
   "execution_count": 1165,
   "id": "7d196e1a-77d4-4309-a091-f77157c74b30",
   "metadata": {},
   "outputs": [
    {
     "data": {
      "text/plain": [
       "FINAL_SALE\n",
       "         12486\n",
       "1.25      1313\n",
       "1.00       732\n",
       "2.99       587\n",
       "1.99       581\n",
       "         ...  \n",
       "16.47        1\n",
       "10.92        1\n",
       "61.30        1\n",
       "13.14        1\n",
       "42.38        1\n",
       "Name: count, Length: 1435, dtype: int64"
      ]
     },
     "execution_count": 1165,
     "metadata": {},
     "output_type": "execute_result"
    }
   ],
   "source": [
    "df_transaction.FINAL_SALE.value_counts(dropna=False)"
   ]
  },
  {
   "cell_type": "code",
   "execution_count": 1166,
   "id": "aed7a570-9623-4f3b-9b84-d1abf7228c52",
   "metadata": {},
   "outputs": [],
   "source": [
    "# Convert empty strings to NaN\n",
    "df_transaction['FINAL_SALE'] = df_transaction['FINAL_SALE'].replace(' ', np.nan)\n"
   ]
  },
  {
   "cell_type": "code",
   "execution_count": 1167,
   "id": "82cef06c-1408-4739-8243-d202ce8bcec2",
   "metadata": {},
   "outputs": [
    {
     "data": {
      "text/plain": [
       "FINAL_SALE\n",
       "NaN      12486\n",
       "1.25      1313\n",
       "1.00       732\n",
       "2.99       587\n",
       "1.99       581\n",
       "         ...  \n",
       "16.47        1\n",
       "10.92        1\n",
       "61.30        1\n",
       "13.14        1\n",
       "42.38        1\n",
       "Name: count, Length: 1435, dtype: int64"
      ]
     },
     "execution_count": 1167,
     "metadata": {},
     "output_type": "execute_result"
    }
   ],
   "source": [
    "df_transaction.FINAL_SALE.value_counts(dropna=False)"
   ]
  },
  {
   "cell_type": "code",
   "execution_count": 1168,
   "id": "62660540-b820-425f-a7f7-45c3773d813f",
   "metadata": {},
   "outputs": [
    {
     "data": {
      "text/html": [
       "<div>\n",
       "<style scoped>\n",
       "    .dataframe tbody tr th:only-of-type {\n",
       "        vertical-align: middle;\n",
       "    }\n",
       "\n",
       "    .dataframe tbody tr th {\n",
       "        vertical-align: top;\n",
       "    }\n",
       "\n",
       "    .dataframe thead th {\n",
       "        text-align: right;\n",
       "    }\n",
       "</style>\n",
       "<table border=\"1\" class=\"dataframe\">\n",
       "  <thead>\n",
       "    <tr style=\"text-align: right;\">\n",
       "      <th></th>\n",
       "      <th>RECEIPT_ID</th>\n",
       "      <th>PURCHASE_DATE</th>\n",
       "      <th>SCAN_DATE</th>\n",
       "      <th>STORE_NAME</th>\n",
       "      <th>USER_ID</th>\n",
       "      <th>BARCODE</th>\n",
       "      <th>FINAL_QUANTITY</th>\n",
       "      <th>FINAL_SALE</th>\n",
       "    </tr>\n",
       "  </thead>\n",
       "  <tbody>\n",
       "    <tr>\n",
       "      <th>0</th>\n",
       "      <td>0000d256-4041-4a3e-adc4-5623fb6e0c99</td>\n",
       "      <td>2024-08-21</td>\n",
       "      <td>2024-08-21 14:19:06.539 Z</td>\n",
       "      <td>WALMART</td>\n",
       "      <td>63b73a7f3d310dceeabd4758</td>\n",
       "      <td>15300014978.0</td>\n",
       "      <td>1.00</td>\n",
       "      <td>NaN</td>\n",
       "    </tr>\n",
       "    <tr>\n",
       "      <th>1</th>\n",
       "      <td>0001455d-7a92-4a7b-a1d2-c747af1c8fd3</td>\n",
       "      <td>2024-07-20</td>\n",
       "      <td>2024-07-20 09:50:24.206 Z</td>\n",
       "      <td>ALDI</td>\n",
       "      <td>62c08877baa38d1a1f6c211a</td>\n",
       "      <td>11906863057</td>\n",
       "      <td>zero</td>\n",
       "      <td>1.49</td>\n",
       "    </tr>\n",
       "    <tr>\n",
       "      <th>2</th>\n",
       "      <td>00017e0a-7851-42fb-bfab-0baa96e23586</td>\n",
       "      <td>2024-08-18</td>\n",
       "      <td>2024-08-19 15:38:56.813 Z</td>\n",
       "      <td>WALMART</td>\n",
       "      <td>60842f207ac8b7729e472020</td>\n",
       "      <td>78742229751.0</td>\n",
       "      <td>1.00</td>\n",
       "      <td>NaN</td>\n",
       "    </tr>\n",
       "    <tr>\n",
       "      <th>3</th>\n",
       "      <td>000239aa-3478-453d-801e-66a82e39c8af</td>\n",
       "      <td>2024-06-18</td>\n",
       "      <td>2024-06-19 11:03:37.468 Z</td>\n",
       "      <td>FOOD LION</td>\n",
       "      <td>63fcd7cea4f8442c3386b589</td>\n",
       "      <td>783399746536.0</td>\n",
       "      <td>zero</td>\n",
       "      <td>3.49</td>\n",
       "    </tr>\n",
       "    <tr>\n",
       "      <th>4</th>\n",
       "      <td>00026b4c-dfe8-49dd-b026-4c2f0fd5c6a1</td>\n",
       "      <td>2024-07-04</td>\n",
       "      <td>2024-07-05 15:56:43.549 Z</td>\n",
       "      <td>RANDALLS</td>\n",
       "      <td>6193231ae9b3d75037b0f928</td>\n",
       "      <td>47900501183.0</td>\n",
       "      <td>1.00</td>\n",
       "      <td>NaN</td>\n",
       "    </tr>\n",
       "  </tbody>\n",
       "</table>\n",
       "</div>"
      ],
      "text/plain": [
       "                             RECEIPT_ID PURCHASE_DATE  \\\n",
       "0  0000d256-4041-4a3e-adc4-5623fb6e0c99    2024-08-21   \n",
       "1  0001455d-7a92-4a7b-a1d2-c747af1c8fd3    2024-07-20   \n",
       "2  00017e0a-7851-42fb-bfab-0baa96e23586    2024-08-18   \n",
       "3  000239aa-3478-453d-801e-66a82e39c8af    2024-06-18   \n",
       "4  00026b4c-dfe8-49dd-b026-4c2f0fd5c6a1    2024-07-04   \n",
       "\n",
       "                   SCAN_DATE STORE_NAME                   USER_ID  \\\n",
       "0  2024-08-21 14:19:06.539 Z    WALMART  63b73a7f3d310dceeabd4758   \n",
       "1  2024-07-20 09:50:24.206 Z       ALDI  62c08877baa38d1a1f6c211a   \n",
       "2  2024-08-19 15:38:56.813 Z    WALMART  60842f207ac8b7729e472020   \n",
       "3  2024-06-19 11:03:37.468 Z  FOOD LION  63fcd7cea4f8442c3386b589   \n",
       "4  2024-07-05 15:56:43.549 Z   RANDALLS  6193231ae9b3d75037b0f928   \n",
       "\n",
       "          BARCODE FINAL_QUANTITY FINAL_SALE  \n",
       "0   15300014978.0           1.00        NaN  \n",
       "1     11906863057           zero       1.49  \n",
       "2   78742229751.0           1.00        NaN  \n",
       "3  783399746536.0           zero       3.49  \n",
       "4   47900501183.0           1.00        NaN  "
      ]
     },
     "execution_count": 1168,
     "metadata": {},
     "output_type": "execute_result"
    }
   ],
   "source": [
    "df_transaction.head()"
   ]
  },
  {
   "cell_type": "code",
   "execution_count": 1169,
   "id": "03a2baf4-6b41-4d5f-a798-b3f0db6d361b",
   "metadata": {},
   "outputs": [
    {
     "data": {
      "text/html": [
       "<div>\n",
       "<style scoped>\n",
       "    .dataframe tbody tr th:only-of-type {\n",
       "        vertical-align: middle;\n",
       "    }\n",
       "\n",
       "    .dataframe tbody tr th {\n",
       "        vertical-align: top;\n",
       "    }\n",
       "\n",
       "    .dataframe thead th {\n",
       "        text-align: right;\n",
       "    }\n",
       "</style>\n",
       "<table border=\"1\" class=\"dataframe\">\n",
       "  <thead>\n",
       "    <tr style=\"text-align: right;\">\n",
       "      <th></th>\n",
       "      <th>FINAL_QUANTITY</th>\n",
       "      <th>FINAL_SALE</th>\n",
       "    </tr>\n",
       "  </thead>\n",
       "  <tbody>\n",
       "    <tr>\n",
       "      <th>0</th>\n",
       "      <td>1.00</td>\n",
       "      <td>NaN</td>\n",
       "    </tr>\n",
       "    <tr>\n",
       "      <th>1</th>\n",
       "      <td>zero</td>\n",
       "      <td>1.49</td>\n",
       "    </tr>\n",
       "    <tr>\n",
       "      <th>2</th>\n",
       "      <td>1.00</td>\n",
       "      <td>NaN</td>\n",
       "    </tr>\n",
       "    <tr>\n",
       "      <th>3</th>\n",
       "      <td>zero</td>\n",
       "      <td>3.49</td>\n",
       "    </tr>\n",
       "    <tr>\n",
       "      <th>4</th>\n",
       "      <td>1.00</td>\n",
       "      <td>NaN</td>\n",
       "    </tr>\n",
       "    <tr>\n",
       "      <th>...</th>\n",
       "      <td>...</td>\n",
       "      <td>...</td>\n",
       "    </tr>\n",
       "    <tr>\n",
       "      <th>49995</th>\n",
       "      <td>2.00</td>\n",
       "      <td>1.18</td>\n",
       "    </tr>\n",
       "    <tr>\n",
       "      <th>49996</th>\n",
       "      <td>1.00</td>\n",
       "      <td>2.00</td>\n",
       "    </tr>\n",
       "    <tr>\n",
       "      <th>49997</th>\n",
       "      <td>1.00</td>\n",
       "      <td>20.96</td>\n",
       "    </tr>\n",
       "    <tr>\n",
       "      <th>49998</th>\n",
       "      <td>1.00</td>\n",
       "      <td>3.00</td>\n",
       "    </tr>\n",
       "    <tr>\n",
       "      <th>49999</th>\n",
       "      <td>1.00</td>\n",
       "      <td>5.48</td>\n",
       "    </tr>\n",
       "  </tbody>\n",
       "</table>\n",
       "<p>49829 rows × 2 columns</p>\n",
       "</div>"
      ],
      "text/plain": [
       "      FINAL_QUANTITY FINAL_SALE\n",
       "0               1.00        NaN\n",
       "1               zero       1.49\n",
       "2               1.00        NaN\n",
       "3               zero       3.49\n",
       "4               1.00        NaN\n",
       "...              ...        ...\n",
       "49995           2.00       1.18\n",
       "49996           1.00       2.00\n",
       "49997           1.00      20.96\n",
       "49998           1.00       3.00\n",
       "49999           1.00       5.48\n",
       "\n",
       "[49829 rows x 2 columns]"
      ]
     },
     "execution_count": 1169,
     "metadata": {},
     "output_type": "execute_result"
    }
   ],
   "source": [
    "df_transaction[['FINAL_QUANTITY','FINAL_SALE']]"
   ]
  },
  {
   "cell_type": "code",
   "execution_count": 1170,
   "id": "17c89cd5-3091-4670-82fa-59508537e6d6",
   "metadata": {},
   "outputs": [],
   "source": [
    "# Replace 'zero' with 0 and convert to numeric\n",
    "\n",
    "df_transaction['FINAL_QUANTITY'] = df_transaction['FINAL_QUANTITY'].replace('zero', 0)\n",
    "df_transaction['FINAL_QUANTITY'] = pd.to_numeric(df_transaction['FINAL_QUANTITY'], errors='coerce')\n"
   ]
  },
  {
   "cell_type": "code",
   "execution_count": 1171,
   "id": "fa3904d1-8c1f-4c7f-a008-bf8761fb8bfb",
   "metadata": {},
   "outputs": [
    {
     "data": {
      "text/html": [
       "<div>\n",
       "<style scoped>\n",
       "    .dataframe tbody tr th:only-of-type {\n",
       "        vertical-align: middle;\n",
       "    }\n",
       "\n",
       "    .dataframe tbody tr th {\n",
       "        vertical-align: top;\n",
       "    }\n",
       "\n",
       "    .dataframe thead th {\n",
       "        text-align: right;\n",
       "    }\n",
       "</style>\n",
       "<table border=\"1\" class=\"dataframe\">\n",
       "  <thead>\n",
       "    <tr style=\"text-align: right;\">\n",
       "      <th></th>\n",
       "      <th>RECEIPT_ID</th>\n",
       "      <th>PURCHASE_DATE</th>\n",
       "      <th>SCAN_DATE</th>\n",
       "      <th>STORE_NAME</th>\n",
       "      <th>USER_ID</th>\n",
       "      <th>BARCODE</th>\n",
       "      <th>FINAL_QUANTITY</th>\n",
       "      <th>FINAL_SALE</th>\n",
       "    </tr>\n",
       "  </thead>\n",
       "  <tbody>\n",
       "    <tr>\n",
       "      <th>0</th>\n",
       "      <td>0000d256-4041-4a3e-adc4-5623fb6e0c99</td>\n",
       "      <td>2024-08-21</td>\n",
       "      <td>2024-08-21 14:19:06.539 Z</td>\n",
       "      <td>WALMART</td>\n",
       "      <td>63b73a7f3d310dceeabd4758</td>\n",
       "      <td>15300014978.0</td>\n",
       "      <td>1.0</td>\n",
       "      <td>NaN</td>\n",
       "    </tr>\n",
       "    <tr>\n",
       "      <th>1</th>\n",
       "      <td>0001455d-7a92-4a7b-a1d2-c747af1c8fd3</td>\n",
       "      <td>2024-07-20</td>\n",
       "      <td>2024-07-20 09:50:24.206 Z</td>\n",
       "      <td>ALDI</td>\n",
       "      <td>62c08877baa38d1a1f6c211a</td>\n",
       "      <td>11906863057</td>\n",
       "      <td>0.0</td>\n",
       "      <td>1.49</td>\n",
       "    </tr>\n",
       "    <tr>\n",
       "      <th>2</th>\n",
       "      <td>00017e0a-7851-42fb-bfab-0baa96e23586</td>\n",
       "      <td>2024-08-18</td>\n",
       "      <td>2024-08-19 15:38:56.813 Z</td>\n",
       "      <td>WALMART</td>\n",
       "      <td>60842f207ac8b7729e472020</td>\n",
       "      <td>78742229751.0</td>\n",
       "      <td>1.0</td>\n",
       "      <td>NaN</td>\n",
       "    </tr>\n",
       "    <tr>\n",
       "      <th>3</th>\n",
       "      <td>000239aa-3478-453d-801e-66a82e39c8af</td>\n",
       "      <td>2024-06-18</td>\n",
       "      <td>2024-06-19 11:03:37.468 Z</td>\n",
       "      <td>FOOD LION</td>\n",
       "      <td>63fcd7cea4f8442c3386b589</td>\n",
       "      <td>783399746536.0</td>\n",
       "      <td>0.0</td>\n",
       "      <td>3.49</td>\n",
       "    </tr>\n",
       "    <tr>\n",
       "      <th>4</th>\n",
       "      <td>00026b4c-dfe8-49dd-b026-4c2f0fd5c6a1</td>\n",
       "      <td>2024-07-04</td>\n",
       "      <td>2024-07-05 15:56:43.549 Z</td>\n",
       "      <td>RANDALLS</td>\n",
       "      <td>6193231ae9b3d75037b0f928</td>\n",
       "      <td>47900501183.0</td>\n",
       "      <td>1.0</td>\n",
       "      <td>NaN</td>\n",
       "    </tr>\n",
       "  </tbody>\n",
       "</table>\n",
       "</div>"
      ],
      "text/plain": [
       "                             RECEIPT_ID PURCHASE_DATE  \\\n",
       "0  0000d256-4041-4a3e-adc4-5623fb6e0c99    2024-08-21   \n",
       "1  0001455d-7a92-4a7b-a1d2-c747af1c8fd3    2024-07-20   \n",
       "2  00017e0a-7851-42fb-bfab-0baa96e23586    2024-08-18   \n",
       "3  000239aa-3478-453d-801e-66a82e39c8af    2024-06-18   \n",
       "4  00026b4c-dfe8-49dd-b026-4c2f0fd5c6a1    2024-07-04   \n",
       "\n",
       "                   SCAN_DATE STORE_NAME                   USER_ID  \\\n",
       "0  2024-08-21 14:19:06.539 Z    WALMART  63b73a7f3d310dceeabd4758   \n",
       "1  2024-07-20 09:50:24.206 Z       ALDI  62c08877baa38d1a1f6c211a   \n",
       "2  2024-08-19 15:38:56.813 Z    WALMART  60842f207ac8b7729e472020   \n",
       "3  2024-06-19 11:03:37.468 Z  FOOD LION  63fcd7cea4f8442c3386b589   \n",
       "4  2024-07-05 15:56:43.549 Z   RANDALLS  6193231ae9b3d75037b0f928   \n",
       "\n",
       "          BARCODE  FINAL_QUANTITY FINAL_SALE  \n",
       "0   15300014978.0             1.0        NaN  \n",
       "1     11906863057             0.0       1.49  \n",
       "2   78742229751.0             1.0        NaN  \n",
       "3  783399746536.0             0.0       3.49  \n",
       "4   47900501183.0             1.0        NaN  "
      ]
     },
     "execution_count": 1171,
     "metadata": {},
     "output_type": "execute_result"
    }
   ],
   "source": [
    "df_transaction.head()"
   ]
  },
  {
   "cell_type": "code",
   "execution_count": 1172,
   "id": "d47f6cc0-d719-4d70-8f61-55913ce7ba67",
   "metadata": {},
   "outputs": [
    {
     "name": "stdout",
     "output_type": "stream",
     "text": [
      "<class 'pandas.core.frame.DataFrame'>\n",
      "Index: 49829 entries, 0 to 49999\n",
      "Data columns (total 8 columns):\n",
      " #   Column          Non-Null Count  Dtype  \n",
      "---  ------          --------------  -----  \n",
      " 0   RECEIPT_ID      49829 non-null  object \n",
      " 1   PURCHASE_DATE   49829 non-null  object \n",
      " 2   SCAN_DATE       49829 non-null  object \n",
      " 3   STORE_NAME      49829 non-null  object \n",
      " 4   USER_ID         49829 non-null  object \n",
      " 5   BARCODE         49829 non-null  object \n",
      " 6   FINAL_QUANTITY  49829 non-null  float64\n",
      " 7   FINAL_SALE      37343 non-null  object \n",
      "dtypes: float64(1), object(7)\n",
      "memory usage: 4.4+ MB\n"
     ]
    }
   ],
   "source": [
    "df_transaction.info()"
   ]
  },
  {
   "cell_type": "code",
   "execution_count": 1173,
   "id": "ca692d10-c837-4700-aa1e-22fb6d1c6741",
   "metadata": {},
   "outputs": [
    {
     "ename": "TypeError",
     "evalue": "Cannot convert [nan '1.49' nan ... '20.96' '3.00' '5.48'] to numeric",
     "output_type": "error",
     "traceback": [
      "\u001b[1;31m---------------------------------------------------------------------------\u001b[0m",
      "\u001b[1;31mTypeError\u001b[0m                                 Traceback (most recent call last)",
      "Cell \u001b[1;32mIn[1173], line 3\u001b[0m\n\u001b[0;32m      1\u001b[0m \u001b[38;5;66;03m# Filling missing FINAL_SALE with the median\u001b[39;00m\n\u001b[1;32m----> 3\u001b[0m median_sale \u001b[38;5;241m=\u001b[39m df_transaction[\u001b[38;5;124m'\u001b[39m\u001b[38;5;124mFINAL_SALE\u001b[39m\u001b[38;5;124m'\u001b[39m]\u001b[38;5;241m.\u001b[39mmedian()\n\u001b[0;32m      4\u001b[0m df_transaction[\u001b[38;5;124m'\u001b[39m\u001b[38;5;124mFINAL_SALE\u001b[39m\u001b[38;5;124m'\u001b[39m] \u001b[38;5;241m=\u001b[39m df_transaction[\u001b[38;5;124m'\u001b[39m\u001b[38;5;124mFINAL_SALE\u001b[39m\u001b[38;5;124m'\u001b[39m]\u001b[38;5;241m.\u001b[39mfillna(median_sale)\n",
      "File \u001b[1;32m~\\anaconda3\\Lib\\site-packages\\pandas\\core\\series.py:6559\u001b[0m, in \u001b[0;36mSeries.median\u001b[1;34m(self, axis, skipna, numeric_only, **kwargs)\u001b[0m\n\u001b[0;32m   6551\u001b[0m \u001b[38;5;129m@doc\u001b[39m(make_doc(\u001b[38;5;124m\"\u001b[39m\u001b[38;5;124mmedian\u001b[39m\u001b[38;5;124m\"\u001b[39m, ndim\u001b[38;5;241m=\u001b[39m\u001b[38;5;241m1\u001b[39m))\n\u001b[0;32m   6552\u001b[0m \u001b[38;5;28;01mdef\u001b[39;00m \u001b[38;5;21mmedian\u001b[39m(\n\u001b[0;32m   6553\u001b[0m     \u001b[38;5;28mself\u001b[39m,\n\u001b[1;32m   (...)\u001b[0m\n\u001b[0;32m   6557\u001b[0m     \u001b[38;5;241m*\u001b[39m\u001b[38;5;241m*\u001b[39mkwargs,\n\u001b[0;32m   6558\u001b[0m ):\n\u001b[1;32m-> 6559\u001b[0m     \u001b[38;5;28;01mreturn\u001b[39;00m NDFrame\u001b[38;5;241m.\u001b[39mmedian(\u001b[38;5;28mself\u001b[39m, axis, skipna, numeric_only, \u001b[38;5;241m*\u001b[39m\u001b[38;5;241m*\u001b[39mkwargs)\n",
      "File \u001b[1;32m~\\anaconda3\\Lib\\site-packages\\pandas\\core\\generic.py:12431\u001b[0m, in \u001b[0;36mNDFrame.median\u001b[1;34m(self, axis, skipna, numeric_only, **kwargs)\u001b[0m\n\u001b[0;32m  12424\u001b[0m \u001b[38;5;28;01mdef\u001b[39;00m \u001b[38;5;21mmedian\u001b[39m(\n\u001b[0;32m  12425\u001b[0m     \u001b[38;5;28mself\u001b[39m,\n\u001b[0;32m  12426\u001b[0m     axis: Axis \u001b[38;5;241m|\u001b[39m \u001b[38;5;28;01mNone\u001b[39;00m \u001b[38;5;241m=\u001b[39m \u001b[38;5;241m0\u001b[39m,\n\u001b[1;32m   (...)\u001b[0m\n\u001b[0;32m  12429\u001b[0m     \u001b[38;5;241m*\u001b[39m\u001b[38;5;241m*\u001b[39mkwargs,\n\u001b[0;32m  12430\u001b[0m ) \u001b[38;5;241m-\u001b[39m\u001b[38;5;241m>\u001b[39m Series \u001b[38;5;241m|\u001b[39m \u001b[38;5;28mfloat\u001b[39m:\n\u001b[1;32m> 12431\u001b[0m     \u001b[38;5;28;01mreturn\u001b[39;00m \u001b[38;5;28mself\u001b[39m\u001b[38;5;241m.\u001b[39m_stat_function(\n\u001b[0;32m  12432\u001b[0m         \u001b[38;5;124m\"\u001b[39m\u001b[38;5;124mmedian\u001b[39m\u001b[38;5;124m\"\u001b[39m, nanops\u001b[38;5;241m.\u001b[39mnanmedian, axis, skipna, numeric_only, \u001b[38;5;241m*\u001b[39m\u001b[38;5;241m*\u001b[39mkwargs\n\u001b[0;32m  12433\u001b[0m     )\n",
      "File \u001b[1;32m~\\anaconda3\\Lib\\site-packages\\pandas\\core\\generic.py:12377\u001b[0m, in \u001b[0;36mNDFrame._stat_function\u001b[1;34m(self, name, func, axis, skipna, numeric_only, **kwargs)\u001b[0m\n\u001b[0;32m  12373\u001b[0m nv\u001b[38;5;241m.\u001b[39mvalidate_func(name, (), kwargs)\n\u001b[0;32m  12375\u001b[0m validate_bool_kwarg(skipna, \u001b[38;5;124m\"\u001b[39m\u001b[38;5;124mskipna\u001b[39m\u001b[38;5;124m\"\u001b[39m, none_allowed\u001b[38;5;241m=\u001b[39m\u001b[38;5;28;01mFalse\u001b[39;00m)\n\u001b[1;32m> 12377\u001b[0m \u001b[38;5;28;01mreturn\u001b[39;00m \u001b[38;5;28mself\u001b[39m\u001b[38;5;241m.\u001b[39m_reduce(\n\u001b[0;32m  12378\u001b[0m     func, name\u001b[38;5;241m=\u001b[39mname, axis\u001b[38;5;241m=\u001b[39maxis, skipna\u001b[38;5;241m=\u001b[39mskipna, numeric_only\u001b[38;5;241m=\u001b[39mnumeric_only\n\u001b[0;32m  12379\u001b[0m )\n",
      "File \u001b[1;32m~\\anaconda3\\Lib\\site-packages\\pandas\\core\\series.py:6457\u001b[0m, in \u001b[0;36mSeries._reduce\u001b[1;34m(self, op, name, axis, skipna, numeric_only, filter_type, **kwds)\u001b[0m\n\u001b[0;32m   6452\u001b[0m     \u001b[38;5;66;03m# GH#47500 - change to TypeError to match other methods\u001b[39;00m\n\u001b[0;32m   6453\u001b[0m     \u001b[38;5;28;01mraise\u001b[39;00m \u001b[38;5;167;01mTypeError\u001b[39;00m(\n\u001b[0;32m   6454\u001b[0m         \u001b[38;5;124mf\u001b[39m\u001b[38;5;124m\"\u001b[39m\u001b[38;5;124mSeries.\u001b[39m\u001b[38;5;132;01m{\u001b[39;00mname\u001b[38;5;132;01m}\u001b[39;00m\u001b[38;5;124m does not allow \u001b[39m\u001b[38;5;132;01m{\u001b[39;00mkwd_name\u001b[38;5;132;01m}\u001b[39;00m\u001b[38;5;124m=\u001b[39m\u001b[38;5;132;01m{\u001b[39;00mnumeric_only\u001b[38;5;132;01m}\u001b[39;00m\u001b[38;5;124m \u001b[39m\u001b[38;5;124m\"\u001b[39m\n\u001b[0;32m   6455\u001b[0m         \u001b[38;5;124m\"\u001b[39m\u001b[38;5;124mwith non-numeric dtypes.\u001b[39m\u001b[38;5;124m\"\u001b[39m\n\u001b[0;32m   6456\u001b[0m     )\n\u001b[1;32m-> 6457\u001b[0m \u001b[38;5;28;01mreturn\u001b[39;00m op(delegate, skipna\u001b[38;5;241m=\u001b[39mskipna, \u001b[38;5;241m*\u001b[39m\u001b[38;5;241m*\u001b[39mkwds)\n",
      "File \u001b[1;32m~\\anaconda3\\Lib\\site-packages\\pandas\\core\\nanops.py:147\u001b[0m, in \u001b[0;36mbottleneck_switch.__call__.<locals>.f\u001b[1;34m(values, axis, skipna, **kwds)\u001b[0m\n\u001b[0;32m    145\u001b[0m         result \u001b[38;5;241m=\u001b[39m alt(values, axis\u001b[38;5;241m=\u001b[39maxis, skipna\u001b[38;5;241m=\u001b[39mskipna, \u001b[38;5;241m*\u001b[39m\u001b[38;5;241m*\u001b[39mkwds)\n\u001b[0;32m    146\u001b[0m \u001b[38;5;28;01melse\u001b[39;00m:\n\u001b[1;32m--> 147\u001b[0m     result \u001b[38;5;241m=\u001b[39m alt(values, axis\u001b[38;5;241m=\u001b[39maxis, skipna\u001b[38;5;241m=\u001b[39mskipna, \u001b[38;5;241m*\u001b[39m\u001b[38;5;241m*\u001b[39mkwds)\n\u001b[0;32m    149\u001b[0m \u001b[38;5;28;01mreturn\u001b[39;00m result\n",
      "File \u001b[1;32m~\\anaconda3\\Lib\\site-packages\\pandas\\core\\nanops.py:787\u001b[0m, in \u001b[0;36mnanmedian\u001b[1;34m(values, axis, skipna, mask)\u001b[0m\n\u001b[0;32m    785\u001b[0m     inferred \u001b[38;5;241m=\u001b[39m lib\u001b[38;5;241m.\u001b[39minfer_dtype(values)\n\u001b[0;32m    786\u001b[0m     \u001b[38;5;28;01mif\u001b[39;00m inferred \u001b[38;5;129;01min\u001b[39;00m [\u001b[38;5;124m\"\u001b[39m\u001b[38;5;124mstring\u001b[39m\u001b[38;5;124m\"\u001b[39m, \u001b[38;5;124m\"\u001b[39m\u001b[38;5;124mmixed\u001b[39m\u001b[38;5;124m\"\u001b[39m]:\n\u001b[1;32m--> 787\u001b[0m         \u001b[38;5;28;01mraise\u001b[39;00m \u001b[38;5;167;01mTypeError\u001b[39;00m(\u001b[38;5;124mf\u001b[39m\u001b[38;5;124m\"\u001b[39m\u001b[38;5;124mCannot convert \u001b[39m\u001b[38;5;132;01m{\u001b[39;00mvalues\u001b[38;5;132;01m}\u001b[39;00m\u001b[38;5;124m to numeric\u001b[39m\u001b[38;5;124m\"\u001b[39m)\n\u001b[0;32m    788\u001b[0m \u001b[38;5;28;01mtry\u001b[39;00m:\n\u001b[0;32m    789\u001b[0m     values \u001b[38;5;241m=\u001b[39m values\u001b[38;5;241m.\u001b[39mastype(\u001b[38;5;124m\"\u001b[39m\u001b[38;5;124mf8\u001b[39m\u001b[38;5;124m\"\u001b[39m)\n",
      "\u001b[1;31mTypeError\u001b[0m: Cannot convert [nan '1.49' nan ... '20.96' '3.00' '5.48'] to numeric"
     ]
    }
   ],
   "source": [
    "# Filling missing FINAL_SALE with the median\n",
    "\n",
    "median_sale = df_transaction['FINAL_SALE'].median()\n",
    "df_transaction['FINAL_SALE'] = df_transaction['FINAL_SALE'].fillna(median_sale)\n",
    "\n",
    "#### We getting an error so lets try to figure this out"
   ]
  },
  {
   "cell_type": "code",
   "execution_count": 1181,
   "id": "53d610ed-d0cc-42a1-9f0b-6cec44bd44c9",
   "metadata": {},
   "outputs": [
    {
     "name": "stdout",
     "output_type": "stream",
     "text": [
      "[nan]\n"
     ]
    }
   ],
   "source": [
    "# Check for non-numeric values in FINAL_SALE\n",
    "non_numeric_values = df_transaction[pd.to_numeric(df_transaction['FINAL_SALE'], errors='coerce').isna()]['FINAL_SALE'].unique()\n",
    "print(non_numeric_values)\n"
   ]
  },
  {
   "cell_type": "code",
   "execution_count": 1182,
   "id": "6936bbf3-399a-447a-aa4a-495984601fe0",
   "metadata": {},
   "outputs": [],
   "source": [
    "# Replace 'zero' and empty strings with NaN\n",
    "df_transaction['FINAL_SALE'] = df_transaction['FINAL_SALE'].replace(['zero', '', 'NaN'], np.nan)\n"
   ]
  },
  {
   "cell_type": "code",
   "execution_count": 1183,
   "id": "ee31319f-023e-4912-a0a5-d5cc1a55f22b",
   "metadata": {},
   "outputs": [],
   "source": [
    "# Convert to numeric, coercing errors to NaN\n",
    "df_transaction['FINAL_SALE'] = pd.to_numeric(df_transaction['FINAL_SALE'], errors='coerce')\n"
   ]
  },
  {
   "cell_type": "code",
   "execution_count": 1184,
   "id": "6b42dd56-3c74-44d6-b742-3bbb9026818b",
   "metadata": {},
   "outputs": [
    {
     "name": "stdout",
     "output_type": "stream",
     "text": [
      "<class 'pandas.core.frame.DataFrame'>\n",
      "Index: 49829 entries, 0 to 49999\n",
      "Data columns (total 8 columns):\n",
      " #   Column          Non-Null Count  Dtype  \n",
      "---  ------          --------------  -----  \n",
      " 0   RECEIPT_ID      49829 non-null  object \n",
      " 1   PURCHASE_DATE   49829 non-null  object \n",
      " 2   SCAN_DATE       49829 non-null  object \n",
      " 3   STORE_NAME      49829 non-null  object \n",
      " 4   USER_ID         49829 non-null  object \n",
      " 5   BARCODE         49829 non-null  object \n",
      " 6   FINAL_QUANTITY  49829 non-null  float64\n",
      " 7   FINAL_SALE      37343 non-null  float64\n",
      "dtypes: float64(2), object(6)\n",
      "memory usage: 4.4+ MB\n"
     ]
    }
   ],
   "source": [
    "df_transaction.info()"
   ]
  },
  {
   "cell_type": "code",
   "execution_count": 1185,
   "id": "af47a518-e492-4e0c-ba17-9a1e0b37b114",
   "metadata": {},
   "outputs": [],
   "source": [
    "# Calculate the median\n",
    "median_sale = df_transaction['FINAL_SALE'].median()\n",
    "\n",
    "# Fill missing values with the median\n",
    "df_transaction['FINAL_SALE'] = df_transaction['FINAL_SALE'].fillna(median_sale)\n"
   ]
  },
  {
   "cell_type": "markdown",
   "id": "e8bf86e8-06c6-423a-81bf-b3d6b7e97d07",
   "metadata": {},
   "source": [
    "#### Why did we use median and not mean in this numerical column for final sale\n",
    "\n",
    "#### Because we have not done any normal distribution or taken care of outliers we dont know for certain if it has the outliers or not\n",
    "#### Mean can be heavily skewed due to outliers while median does not have much flexibility so hence we going for median\n",
    "#### Remember if its normally distributed then it means mean=median=mode if its right skewed means mean >= median >= mode"
   ]
  },
  {
   "cell_type": "code",
   "execution_count": 1187,
   "id": "f3884801-00e9-4346-8000-df79543654ae",
   "metadata": {},
   "outputs": [
    {
     "data": {
      "text/html": [
       "<div>\n",
       "<style scoped>\n",
       "    .dataframe tbody tr th:only-of-type {\n",
       "        vertical-align: middle;\n",
       "    }\n",
       "\n",
       "    .dataframe tbody tr th {\n",
       "        vertical-align: top;\n",
       "    }\n",
       "\n",
       "    .dataframe thead th {\n",
       "        text-align: right;\n",
       "    }\n",
       "</style>\n",
       "<table border=\"1\" class=\"dataframe\">\n",
       "  <thead>\n",
       "    <tr style=\"text-align: right;\">\n",
       "      <th></th>\n",
       "      <th>RECEIPT_ID</th>\n",
       "      <th>PURCHASE_DATE</th>\n",
       "      <th>SCAN_DATE</th>\n",
       "      <th>STORE_NAME</th>\n",
       "      <th>USER_ID</th>\n",
       "      <th>BARCODE</th>\n",
       "      <th>FINAL_QUANTITY</th>\n",
       "      <th>FINAL_SALE</th>\n",
       "    </tr>\n",
       "  </thead>\n",
       "  <tbody>\n",
       "    <tr>\n",
       "      <th>0</th>\n",
       "      <td>0000d256-4041-4a3e-adc4-5623fb6e0c99</td>\n",
       "      <td>2024-08-21</td>\n",
       "      <td>2024-08-21 14:19:06.539 Z</td>\n",
       "      <td>WALMART</td>\n",
       "      <td>63b73a7f3d310dceeabd4758</td>\n",
       "      <td>15300014978.0</td>\n",
       "      <td>1.0</td>\n",
       "      <td>3.00</td>\n",
       "    </tr>\n",
       "    <tr>\n",
       "      <th>1</th>\n",
       "      <td>0001455d-7a92-4a7b-a1d2-c747af1c8fd3</td>\n",
       "      <td>2024-07-20</td>\n",
       "      <td>2024-07-20 09:50:24.206 Z</td>\n",
       "      <td>ALDI</td>\n",
       "      <td>62c08877baa38d1a1f6c211a</td>\n",
       "      <td>11906863057</td>\n",
       "      <td>0.0</td>\n",
       "      <td>1.49</td>\n",
       "    </tr>\n",
       "    <tr>\n",
       "      <th>2</th>\n",
       "      <td>00017e0a-7851-42fb-bfab-0baa96e23586</td>\n",
       "      <td>2024-08-18</td>\n",
       "      <td>2024-08-19 15:38:56.813 Z</td>\n",
       "      <td>WALMART</td>\n",
       "      <td>60842f207ac8b7729e472020</td>\n",
       "      <td>78742229751.0</td>\n",
       "      <td>1.0</td>\n",
       "      <td>3.00</td>\n",
       "    </tr>\n",
       "    <tr>\n",
       "      <th>3</th>\n",
       "      <td>000239aa-3478-453d-801e-66a82e39c8af</td>\n",
       "      <td>2024-06-18</td>\n",
       "      <td>2024-06-19 11:03:37.468 Z</td>\n",
       "      <td>FOOD LION</td>\n",
       "      <td>63fcd7cea4f8442c3386b589</td>\n",
       "      <td>783399746536.0</td>\n",
       "      <td>0.0</td>\n",
       "      <td>3.49</td>\n",
       "    </tr>\n",
       "    <tr>\n",
       "      <th>4</th>\n",
       "      <td>00026b4c-dfe8-49dd-b026-4c2f0fd5c6a1</td>\n",
       "      <td>2024-07-04</td>\n",
       "      <td>2024-07-05 15:56:43.549 Z</td>\n",
       "      <td>RANDALLS</td>\n",
       "      <td>6193231ae9b3d75037b0f928</td>\n",
       "      <td>47900501183.0</td>\n",
       "      <td>1.0</td>\n",
       "      <td>3.00</td>\n",
       "    </tr>\n",
       "  </tbody>\n",
       "</table>\n",
       "</div>"
      ],
      "text/plain": [
       "                             RECEIPT_ID PURCHASE_DATE  \\\n",
       "0  0000d256-4041-4a3e-adc4-5623fb6e0c99    2024-08-21   \n",
       "1  0001455d-7a92-4a7b-a1d2-c747af1c8fd3    2024-07-20   \n",
       "2  00017e0a-7851-42fb-bfab-0baa96e23586    2024-08-18   \n",
       "3  000239aa-3478-453d-801e-66a82e39c8af    2024-06-18   \n",
       "4  00026b4c-dfe8-49dd-b026-4c2f0fd5c6a1    2024-07-04   \n",
       "\n",
       "                   SCAN_DATE STORE_NAME                   USER_ID  \\\n",
       "0  2024-08-21 14:19:06.539 Z    WALMART  63b73a7f3d310dceeabd4758   \n",
       "1  2024-07-20 09:50:24.206 Z       ALDI  62c08877baa38d1a1f6c211a   \n",
       "2  2024-08-19 15:38:56.813 Z    WALMART  60842f207ac8b7729e472020   \n",
       "3  2024-06-19 11:03:37.468 Z  FOOD LION  63fcd7cea4f8442c3386b589   \n",
       "4  2024-07-05 15:56:43.549 Z   RANDALLS  6193231ae9b3d75037b0f928   \n",
       "\n",
       "          BARCODE  FINAL_QUANTITY  FINAL_SALE  \n",
       "0   15300014978.0             1.0        3.00  \n",
       "1     11906863057             0.0        1.49  \n",
       "2   78742229751.0             1.0        3.00  \n",
       "3  783399746536.0             0.0        3.49  \n",
       "4   47900501183.0             1.0        3.00  "
      ]
     },
     "execution_count": 1187,
     "metadata": {},
     "output_type": "execute_result"
    }
   ],
   "source": [
    "df_transaction.head()"
   ]
  },
  {
   "cell_type": "code",
   "execution_count": 1188,
   "id": "50fc94d8-45c7-4d61-902a-40d5d1bb9f26",
   "metadata": {},
   "outputs": [
    {
     "data": {
      "text/plain": [
       "Text(0.5, 1.0, 'Missing Data Heatmap')"
      ]
     },
     "execution_count": 1188,
     "metadata": {},
     "output_type": "execute_result"
    },
    {
     "data": {
      "image/png": "[encoded data removed]",
      "text/plain": [
       "<Figure size 2000x800 with 1 Axes>"
      ]
     },
     "metadata": {},
     "output_type": "display_data"
    }
   ],
   "source": [
    "from matplotlib.colors import LinearSegmentedColormap\n",
    "\n",
    "Amelia = LinearSegmentedColormap.from_list('black_yellow', ['black', 'yellow'])\n",
    "fig, ax = plt.subplots(figsize=(20,8))\n",
    "\n",
    "sns.heatmap(df_transaction.isnull(),yticklabels=False,cbar=False,cmap=Amelia,ax=ax)\n",
    "\n",
    "ax.set_xlabel('Columns')\n",
    "ax.set_ylabel('Rows')\n",
    "ax.set_title('Missing Data Heatmap')"
   ]
  },
  {
   "cell_type": "code",
   "execution_count": 1189,
   "id": "1092f612-88be-4ff1-8028-7cc2738ad17e",
   "metadata": {},
   "outputs": [
    {
     "data": {
      "text/plain": [
       "RECEIPT_ID        False\n",
       "PURCHASE_DATE     False\n",
       "SCAN_DATE         False\n",
       "STORE_NAME        False\n",
       "USER_ID           False\n",
       "BARCODE           False\n",
       "FINAL_QUANTITY    False\n",
       "FINAL_SALE        False\n",
       "dtype: bool"
      ]
     },
     "execution_count": 1189,
     "metadata": {},
     "output_type": "execute_result"
    }
   ],
   "source": [
    "df_transaction.isna().any()                 #### No missing values anymore\n"
   ]
  },
  {
   "cell_type": "code",
   "execution_count": 1190,
   "id": "033cc553-5c3e-496a-9ad4-27a4d3f4c123",
   "metadata": {},
   "outputs": [
    {
     "data": {
      "text/plain": [
       "Text(0.5, 1.0, 'Missing Data Heatmap')"
      ]
     },
     "execution_count": 1190,
     "metadata": {},
     "output_type": "execute_result"
    },
    {
     "data": {
      "image/png": "[encoded data removed]",
      "text/plain": [
       "<Figure size 2000x800 with 1 Axes>"
      ]
     },
     "metadata": {},
     "output_type": "display_data"
    }
   ],
   "source": [
    "from matplotlib.colors import LinearSegmentedColormap\n",
    "\n",
    "Amelia = LinearSegmentedColormap.from_list('black_yellow', ['black', 'yellow'])\n",
    "fig, ax = plt.subplots(figsize=(20,8))\n",
    "\n",
    "sns.heatmap(df_user.isnull(),yticklabels=False,cbar=False,cmap=Amelia,ax=ax)\n",
    "\n",
    "ax.set_xlabel('Columns')\n",
    "ax.set_ylabel('Rows')\n",
    "ax.set_title('Missing Data Heatmap')"
   ]
  },
  {
   "cell_type": "code",
   "execution_count": 1191,
   "id": "f9521b44-0ad0-4694-be4e-12dcb760176a",
   "metadata": {},
   "outputs": [
    {
     "data": {
      "text/plain": [
       "ID              False\n",
       "CREATED_DATE    False\n",
       "BIRTH_DATE       True\n",
       "STATE            True\n",
       "LANGUAGE         True\n",
       "GENDER           True\n",
       "dtype: bool"
      ]
     },
     "execution_count": 1191,
     "metadata": {},
     "output_type": "execute_result"
    }
   ],
   "source": [
    "df_user.isna().any()                 #### almost every feature has some missing values\n"
   ]
  },
  {
   "cell_type": "code",
   "execution_count": 1192,
   "id": "8336ae15-b106-4830-9f50-b98777747be5",
   "metadata": {},
   "outputs": [
    {
     "name": "stdout",
     "output_type": "stream",
     "text": [
      "<class 'pandas.core.frame.DataFrame'>\n",
      "RangeIndex: 100000 entries, 0 to 99999\n",
      "Data columns (total 6 columns):\n",
      " #   Column        Non-Null Count   Dtype \n",
      "---  ------        --------------   ----- \n",
      " 0   ID            100000 non-null  object\n",
      " 1   CREATED_DATE  100000 non-null  object\n",
      " 2   BIRTH_DATE    96325 non-null   object\n",
      " 3   STATE         95188 non-null   object\n",
      " 4   LANGUAGE      69492 non-null   object\n",
      " 5   GENDER        94108 non-null   object\n",
      "dtypes: object(6)\n",
      "memory usage: 4.6+ MB\n"
     ]
    }
   ],
   "source": [
    "df_user.info()"
   ]
  },
  {
   "cell_type": "code",
   "execution_count": 1193,
   "id": "8f0b0fbb-2a6d-432c-b635-522bddbde8e2",
   "metadata": {},
   "outputs": [
    {
     "data": {
      "text/html": [
       "<div>\n",
       "<style scoped>\n",
       "    .dataframe tbody tr th:only-of-type {\n",
       "        vertical-align: middle;\n",
       "    }\n",
       "\n",
       "    .dataframe tbody tr th {\n",
       "        vertical-align: top;\n",
       "    }\n",
       "\n",
       "    .dataframe thead th {\n",
       "        text-align: right;\n",
       "    }\n",
       "</style>\n",
       "<table border=\"1\" class=\"dataframe\">\n",
       "  <thead>\n",
       "    <tr style=\"text-align: right;\">\n",
       "      <th></th>\n",
       "      <th>ID</th>\n",
       "      <th>CREATED_DATE</th>\n",
       "      <th>BIRTH_DATE</th>\n",
       "      <th>STATE</th>\n",
       "      <th>LANGUAGE</th>\n",
       "      <th>GENDER</th>\n",
       "    </tr>\n",
       "  </thead>\n",
       "  <tbody>\n",
       "    <tr>\n",
       "      <th>0</th>\n",
       "      <td>5ef3b4f17053ab141787697d</td>\n",
       "      <td>2020-06-24 20:17:54.000 Z</td>\n",
       "      <td>2000-08-11 00:00:00.000 Z</td>\n",
       "      <td>CA</td>\n",
       "      <td>es-419</td>\n",
       "      <td>female</td>\n",
       "    </tr>\n",
       "    <tr>\n",
       "      <th>1</th>\n",
       "      <td>5ff220d383fcfc12622b96bc</td>\n",
       "      <td>2021-01-03 19:53:55.000 Z</td>\n",
       "      <td>2001-09-24 04:00:00.000 Z</td>\n",
       "      <td>PA</td>\n",
       "      <td>en</td>\n",
       "      <td>female</td>\n",
       "    </tr>\n",
       "    <tr>\n",
       "      <th>2</th>\n",
       "      <td>6477950aa55bb77a0e27ee10</td>\n",
       "      <td>2023-05-31 18:42:18.000 Z</td>\n",
       "      <td>1994-10-28 00:00:00.000 Z</td>\n",
       "      <td>FL</td>\n",
       "      <td>es-419</td>\n",
       "      <td>female</td>\n",
       "    </tr>\n",
       "    <tr>\n",
       "      <th>3</th>\n",
       "      <td>658a306e99b40f103b63ccf8</td>\n",
       "      <td>2023-12-26 01:46:22.000 Z</td>\n",
       "      <td>NaN</td>\n",
       "      <td>NC</td>\n",
       "      <td>en</td>\n",
       "      <td>NaN</td>\n",
       "    </tr>\n",
       "    <tr>\n",
       "      <th>4</th>\n",
       "      <td>653cf5d6a225ea102b7ecdc2</td>\n",
       "      <td>2023-10-28 11:51:50.000 Z</td>\n",
       "      <td>1972-03-19 00:00:00.000 Z</td>\n",
       "      <td>PA</td>\n",
       "      <td>en</td>\n",
       "      <td>female</td>\n",
       "    </tr>\n",
       "  </tbody>\n",
       "</table>\n",
       "</div>"
      ],
      "text/plain": [
       "                         ID               CREATED_DATE  \\\n",
       "0  5ef3b4f17053ab141787697d  2020-06-24 20:17:54.000 Z   \n",
       "1  5ff220d383fcfc12622b96bc  2021-01-03 19:53:55.000 Z   \n",
       "2  6477950aa55bb77a0e27ee10  2023-05-31 18:42:18.000 Z   \n",
       "3  658a306e99b40f103b63ccf8  2023-12-26 01:46:22.000 Z   \n",
       "4  653cf5d6a225ea102b7ecdc2  2023-10-28 11:51:50.000 Z   \n",
       "\n",
       "                  BIRTH_DATE STATE LANGUAGE  GENDER  \n",
       "0  2000-08-11 00:00:00.000 Z    CA   es-419  female  \n",
       "1  2001-09-24 04:00:00.000 Z    PA       en  female  \n",
       "2  1994-10-28 00:00:00.000 Z    FL   es-419  female  \n",
       "3                        NaN    NC       en     NaN  \n",
       "4  1972-03-19 00:00:00.000 Z    PA       en  female  "
      ]
     },
     "execution_count": 1193,
     "metadata": {},
     "output_type": "execute_result"
    }
   ],
   "source": [
    "df_user.head()"
   ]
  },
  {
   "cell_type": "code",
   "execution_count": 1194,
   "id": "cc215bf0-d673-4233-ba2e-91ff385f537a",
   "metadata": {},
   "outputs": [
    {
     "data": {
      "text/plain": [
       "BIRTH_DATE\n",
       "NaN                          3675\n",
       "1970-01-01 00:00:00.000 Z    1272\n",
       "1979-12-11 08:00:00.000 Z      63\n",
       "2000-12-12 00:00:00.000 Z      28\n",
       "2000-12-31 00:00:00.000 Z      23\n",
       "                             ... \n",
       "2004-02-21 08:00:00.000 Z       1\n",
       "1956-02-09 05:00:00.000 Z       1\n",
       "1974-07-13 00:00:00.000 Z       1\n",
       "1991-05-23 04:00:00.000 Z       1\n",
       "1995-06-09 04:00:00.000 Z       1\n",
       "Name: count, Length: 54722, dtype: int64"
      ]
     },
     "execution_count": 1194,
     "metadata": {},
     "output_type": "execute_result"
    }
   ],
   "source": [
    "df_user.BIRTH_DATE.value_counts(dropna=False)"
   ]
  },
  {
   "cell_type": "code",
   "execution_count": 1195,
   "id": "66ae4c12-870c-4458-89a4-2019754a02cd",
   "metadata": {},
   "outputs": [],
   "source": [
    "# Convert BIRTH_DATE to datetime\n",
    "\n",
    "df_user['BIRTH_DATE'] = pd.to_datetime(df_user['BIRTH_DATE'], errors='coerce')\n"
   ]
  },
  {
   "cell_type": "code",
   "execution_count": 1196,
   "id": "c18fa55a-d536-4585-b066-ab8b72bd8aa5",
   "metadata": {},
   "outputs": [],
   "source": [
    "# Fill missing values with the most common birth date\n",
    "\n",
    "mode_birthdate = df_user['BIRTH_DATE'].mode()[0]\n",
    "df_user['BIRTH_DATE'] = df_user['BIRTH_DATE'].fillna(mode_birthdate)\n"
   ]
  },
  {
   "cell_type": "code",
   "execution_count": 1197,
   "id": "2e0fbe08-be49-4b83-bfac-8487c37aff49",
   "metadata": {},
   "outputs": [
    {
     "name": "stdout",
     "output_type": "stream",
     "text": [
      "<class 'pandas.core.frame.DataFrame'>\n",
      "RangeIndex: 100000 entries, 0 to 99999\n",
      "Data columns (total 6 columns):\n",
      " #   Column        Non-Null Count   Dtype              \n",
      "---  ------        --------------   -----              \n",
      " 0   ID            100000 non-null  object             \n",
      " 1   CREATED_DATE  100000 non-null  object             \n",
      " 2   BIRTH_DATE    100000 non-null  datetime64[ns, UTC]\n",
      " 3   STATE         95188 non-null   object             \n",
      " 4   LANGUAGE      69492 non-null   object             \n",
      " 5   GENDER        94108 non-null   object             \n",
      "dtypes: datetime64[ns, UTC](1), object(5)\n",
      "memory usage: 4.6+ MB\n"
     ]
    }
   ],
   "source": [
    "df_user.info()"
   ]
  },
  {
   "cell_type": "code",
   "execution_count": 1198,
   "id": "9ee91dc2-dddf-4af2-9b60-6d9dc6fb352f",
   "metadata": {},
   "outputs": [
    {
     "data": {
      "text/plain": [
       "STATE\n",
       "TX     9028\n",
       "FL     8921\n",
       "CA     8589\n",
       "NY     5703\n",
       "NaN    4812\n",
       "IL     3794\n",
       "GA     3718\n",
       "PA     3644\n",
       "OH     3519\n",
       "NC     3399\n",
       "NJ     2899\n",
       "MI     2582\n",
       "VA     2400\n",
       "IN     2213\n",
       "TN     2165\n",
       "AL     1792\n",
       "SC     1773\n",
       "KY     1731\n",
       "AZ     1728\n",
       "MO     1652\n",
       "MD     1636\n",
       "MA     1523\n",
       "WI     1389\n",
       "PR     1361\n",
       "LA     1290\n",
       "WA     1234\n",
       "CO     1139\n",
       "MN     1125\n",
       "CT     1110\n",
       "OK     1100\n",
       "AR     1011\n",
       "MS      960\n",
       "IA      933\n",
       "NV      837\n",
       "KS      835\n",
       "OR      700\n",
       "WV      674\n",
       "UT      593\n",
       "DE      492\n",
       "NE      487\n",
       "NM      452\n",
       "ME      368\n",
       "NH      359\n",
       "HI      350\n",
       "ID      350\n",
       "AK      297\n",
       "RI      284\n",
       "DC      241\n",
       "SD      205\n",
       "ND      185\n",
       "MT      169\n",
       "WY      138\n",
       "VT      111\n",
       "Name: count, dtype: int64"
      ]
     },
     "execution_count": 1198,
     "metadata": {},
     "output_type": "execute_result"
    }
   ],
   "source": [
    "df_user.STATE.value_counts(dropna=False)              #### NaN is 4812 "
   ]
  },
  {
   "cell_type": "code",
   "execution_count": 1199,
   "id": "e3a194e1-95eb-43d3-816a-0cb8bbf0135e",
   "metadata": {},
   "outputs": [
    {
     "name": "stdout",
     "output_type": "stream",
     "text": [
      "Most Common State: TX\n"
     ]
    }
   ],
   "source": [
    "# Check the most common state\n",
    "most_common_state = df_user['STATE'].mode()[0]\n",
    "print(f\"Most Common State: {most_common_state}\")\n"
   ]
  },
  {
   "cell_type": "code",
   "execution_count": 1200,
   "id": "507ffd41-ab4d-4546-99fa-9c7c5c92cc76",
   "metadata": {},
   "outputs": [],
   "source": [
    "#### In this case we will opt for Unknown althout we could have done TX too so it depends on you"
   ]
  },
  {
   "cell_type": "code",
   "execution_count": 1201,
   "id": "4fdc8390-5446-4495-87d1-ef203a6617c0",
   "metadata": {},
   "outputs": [],
   "source": [
    "# Fill NaN with the most common state\n",
    "\n",
    "df_user['STATE'] = df_user['STATE'].fillna(most_common_state)\n"
   ]
  },
  {
   "cell_type": "code",
   "execution_count": 1202,
   "id": "77414615-6695-42d1-b13e-914ebfbd6a39",
   "metadata": {},
   "outputs": [
    {
     "name": "stdout",
     "output_type": "stream",
     "text": [
      "<class 'pandas.core.frame.DataFrame'>\n",
      "RangeIndex: 100000 entries, 0 to 99999\n",
      "Data columns (total 6 columns):\n",
      " #   Column        Non-Null Count   Dtype              \n",
      "---  ------        --------------   -----              \n",
      " 0   ID            100000 non-null  object             \n",
      " 1   CREATED_DATE  100000 non-null  object             \n",
      " 2   BIRTH_DATE    100000 non-null  datetime64[ns, UTC]\n",
      " 3   STATE         100000 non-null  object             \n",
      " 4   LANGUAGE      69492 non-null   object             \n",
      " 5   GENDER        94108 non-null   object             \n",
      "dtypes: datetime64[ns, UTC](1), object(5)\n",
      "memory usage: 4.6+ MB\n"
     ]
    }
   ],
   "source": [
    "df_user.info()                     #### Now we will go for Language missing values"
   ]
  },
  {
   "cell_type": "code",
   "execution_count": 1203,
   "id": "13fce6f3-e297-4904-a382-a26f7fb02bed",
   "metadata": {},
   "outputs": [
    {
     "data": {
      "text/plain": [
       "LANGUAGE\n",
       "en        63403\n",
       "NaN       30508\n",
       "es-419     6089\n",
       "Name: count, dtype: int64"
      ]
     },
     "execution_count": 1203,
     "metadata": {},
     "output_type": "execute_result"
    }
   ],
   "source": [
    "df_user.LANGUAGE.value_counts(dropna=False)"
   ]
  },
  {
   "cell_type": "code",
   "execution_count": 1204,
   "id": "27398a5d-24a7-4404-9059-308c86c0a92e",
   "metadata": {},
   "outputs": [],
   "source": [
    "# Fill NaN with the most common language (mode)\n",
    "#### This is quite easy decision as English is spoken the most so there is no question why we opted for mode in this case\n",
    "\n",
    "most_common_language = df_user['LANGUAGE'].mode()[0]\n",
    "df_user['LANGUAGE'] = df_user['LANGUAGE'].fillna(most_common_language)\n"
   ]
  },
  {
   "cell_type": "code",
   "execution_count": 1205,
   "id": "a23bdf1e-b619-4a4e-99e1-d19af18d3fb7",
   "metadata": {},
   "outputs": [
    {
     "data": {
      "text/plain": [
       "LANGUAGE\n",
       "en        93911\n",
       "es-419     6089\n",
       "Name: count, dtype: int64"
      ]
     },
     "execution_count": 1205,
     "metadata": {},
     "output_type": "execute_result"
    }
   ],
   "source": [
    "df_user.LANGUAGE.value_counts(dropna=False)"
   ]
  },
  {
   "cell_type": "code",
   "execution_count": 1206,
   "id": "ce9f90af-90da-428f-a769-249d63de3802",
   "metadata": {},
   "outputs": [
    {
     "data": {
      "text/plain": [
       "GENDER\n",
       "female                    64240\n",
       "male                      25829\n",
       "NaN                        5892\n",
       "transgender                1772\n",
       "prefer_not_to_say          1350\n",
       "non_binary                  473\n",
       "unknown                     196\n",
       "not_listed                  180\n",
       "Non-Binary                   34\n",
       "not_specified                28\n",
       "My gender isn't listed        5\n",
       "Prefer not to say             1\n",
       "Name: count, dtype: int64"
      ]
     },
     "execution_count": 1206,
     "metadata": {},
     "output_type": "execute_result"
    }
   ],
   "source": [
    "df_user.GENDER.value_counts(dropna=False)"
   ]
  },
  {
   "cell_type": "code",
   "execution_count": 1207,
   "id": "7dfee26c-ce0a-4075-ad19-30f3ca5122be",
   "metadata": {},
   "outputs": [],
   "source": [
    "#### We will try to make it more precise and concise by making it into 4 categories\n",
    "\n",
    "# Define a mapping dictionary\n",
    "gender_mapping = {\n",
    "    'male': 'Male',\n",
    "    'female': 'Female',\n",
    "    'transgender': 'Non-Binary',\n",
    "    'non_binary': 'Non-Binary',\n",
    "    'Non-Binary': 'Non-Binary',\n",
    "    'not_listed': 'Non-Binary',\n",
    "    'unknown': 'Prefer Not to Say',\n",
    "    'not_specified': 'Prefer Not to Say',\n",
    "    'prefer_not_to_say': 'Prefer Not to Say',\n",
    "    'Prefer not to say': 'Prefer Not to Say',\n",
    "    'My gender isn\\'t listed': 'Non-Binary',\n",
    "    'NaN': 'Prefer Not to Say',  # For textual 'NaN' if exists\n",
    "    None: 'Prefer Not to Say'     # For actual missing values\n",
    "}\n",
    "\n",
    "# Replace NaN values with 'Prefer Not to Say'\n",
    "df_user['GENDER'] = df_user['GENDER'].fillna('Prefer Not to Say')\n",
    "\n",
    "# Apply the mapping\n",
    "df_user['GENDER'] = df_user['GENDER'].replace(gender_mapping)"
   ]
  },
  {
   "cell_type": "code",
   "execution_count": 1208,
   "id": "ab05088a-8d46-403d-b3a4-8205e684d42e",
   "metadata": {},
   "outputs": [
    {
     "data": {
      "text/plain": [
       "GENDER\n",
       "Female               64240\n",
       "Male                 25829\n",
       "Prefer Not to Say     7467\n",
       "Non-Binary            2464\n",
       "Name: count, dtype: int64"
      ]
     },
     "execution_count": 1208,
     "metadata": {},
     "output_type": "execute_result"
    }
   ],
   "source": [
    "df_user.GENDER.value_counts(dropna=False)                     #### This looks more precise"
   ]
  },
  {
   "cell_type": "code",
   "execution_count": 1209,
   "id": "0e728a3a-e8fc-442d-98cb-828c4ad08c67",
   "metadata": {},
   "outputs": [
    {
     "data": {
      "text/plain": [
       "Text(0.5, 1.0, 'Missing Data Heatmap')"
      ]
     },
     "execution_count": 1209,
     "metadata": {},
     "output_type": "execute_result"
    },
    {
     "data": {
      "image/png": "[encoded data removed]",
      "text/plain": [
       "<Figure size 2000x800 with 1 Axes>"
      ]
     },
     "metadata": {},
     "output_type": "display_data"
    }
   ],
   "source": [
    "from matplotlib.colors import LinearSegmentedColormap\n",
    "\n",
    "Amelia = LinearSegmentedColormap.from_list('black_yellow', ['black', 'yellow'])\n",
    "fig, ax = plt.subplots(figsize=(20,8))\n",
    "\n",
    "sns.heatmap(df_user.isnull(),yticklabels=False,cbar=False,cmap=Amelia,ax=ax)\n",
    "\n",
    "ax.set_xlabel('Columns')\n",
    "ax.set_ylabel('Rows')\n",
    "ax.set_title('Missing Data Heatmap')"
   ]
  },
  {
   "cell_type": "code",
   "execution_count": 1210,
   "id": "3f34965f-95c3-401e-857d-81a29dfa11db",
   "metadata": {},
   "outputs": [
    {
     "data": {
      "text/plain": [
       "ID              False\n",
       "CREATED_DATE    False\n",
       "BIRTH_DATE      False\n",
       "STATE           False\n",
       "LANGUAGE        False\n",
       "GENDER          False\n",
       "dtype: bool"
      ]
     },
     "execution_count": 1210,
     "metadata": {},
     "output_type": "execute_result"
    }
   ],
   "source": [
    "df_user.isna().any()                #### We took care of all the missing values here"
   ]
  },
  {
   "cell_type": "code",
   "execution_count": 1211,
   "id": "28e27d3d-e152-482a-8cd5-380d9cd9c323",
   "metadata": {},
   "outputs": [],
   "source": [
    "######################################################################\n",
    "############## Part IV - FEATURE ENGINEERING\n",
    "######################################################################\n"
   ]
  },
  {
   "cell_type": "code",
   "execution_count": 1212,
   "id": "4166378e-553e-4733-8d76-cf5ae75ab591",
   "metadata": {},
   "outputs": [
    {
     "name": "stdout",
     "output_type": "stream",
     "text": [
      "<class 'pandas.core.frame.DataFrame'>\n",
      "Index: 845337 entries, 0 to 845551\n",
      "Data columns (total 7 columns):\n",
      " #   Column        Non-Null Count   Dtype \n",
      "---  ------        --------------   ----- \n",
      " 0   CATEGORY_1    845337 non-null  object\n",
      " 1   CATEGORY_2    845337 non-null  object\n",
      " 2   CATEGORY_3    845337 non-null  object\n",
      " 3   CATEGORY_4    845337 non-null  object\n",
      " 4   MANUFACTURER  845337 non-null  object\n",
      " 5   BRAND         845337 non-null  object\n",
      " 6   BARCODE       845337 non-null  object\n",
      "dtypes: object(7)\n",
      "memory usage: 83.8+ MB\n"
     ]
    }
   ],
   "source": [
    "df_product.info()"
   ]
  },
  {
   "cell_type": "code",
   "execution_count": 1213,
   "id": "01eda9cb-1f2f-47b8-a1a2-ca123b4cbb51",
   "metadata": {},
   "outputs": [
    {
     "name": "stdout",
     "output_type": "stream",
     "text": [
      "<class 'pandas.core.frame.DataFrame'>\n",
      "Index: 49829 entries, 0 to 49999\n",
      "Data columns (total 8 columns):\n",
      " #   Column          Non-Null Count  Dtype  \n",
      "---  ------          --------------  -----  \n",
      " 0   RECEIPT_ID      49829 non-null  object \n",
      " 1   PURCHASE_DATE   49829 non-null  object \n",
      " 2   SCAN_DATE       49829 non-null  object \n",
      " 3   STORE_NAME      49829 non-null  object \n",
      " 4   USER_ID         49829 non-null  object \n",
      " 5   BARCODE         49829 non-null  object \n",
      " 6   FINAL_QUANTITY  49829 non-null  float64\n",
      " 7   FINAL_SALE      49829 non-null  float64\n",
      "dtypes: float64(2), object(6)\n",
      "memory usage: 4.4+ MB\n"
     ]
    }
   ],
   "source": [
    "df_transaction.info()"
   ]
  },
  {
   "cell_type": "code",
   "execution_count": 1214,
   "id": "6cdd6b06-765e-479d-b7da-1b1b143740b9",
   "metadata": {},
   "outputs": [
    {
     "name": "stdout",
     "output_type": "stream",
     "text": [
      "<class 'pandas.core.frame.DataFrame'>\n",
      "RangeIndex: 100000 entries, 0 to 99999\n",
      "Data columns (total 6 columns):\n",
      " #   Column        Non-Null Count   Dtype              \n",
      "---  ------        --------------   -----              \n",
      " 0   ID            100000 non-null  object             \n",
      " 1   CREATED_DATE  100000 non-null  object             \n",
      " 2   BIRTH_DATE    100000 non-null  datetime64[ns, UTC]\n",
      " 3   STATE         100000 non-null  object             \n",
      " 4   LANGUAGE      100000 non-null  object             \n",
      " 5   GENDER        100000 non-null  object             \n",
      "dtypes: datetime64[ns, UTC](1), object(5)\n",
      "memory usage: 4.6+ MB\n"
     ]
    }
   ],
   "source": [
    "df_user.info()"
   ]
  },
  {
   "cell_type": "markdown",
   "id": "5118d0ef-ada8-4d1c-b45e-7f08649d05f2",
   "metadata": {},
   "source": [
    "#### We will now merge all three tables into as a final dataset"
   ]
  },
  {
   "cell_type": "code",
   "execution_count": 1248,
   "id": "dbb1eb24-b18c-4807-bd20-8682cc712661",
   "metadata": {},
   "outputs": [
    {
     "data": {
      "text/html": [
       "<div>\n",
       "<style scoped>\n",
       "    .dataframe tbody tr th:only-of-type {\n",
       "        vertical-align: middle;\n",
       "    }\n",
       "\n",
       "    .dataframe tbody tr th {\n",
       "        vertical-align: top;\n",
       "    }\n",
       "\n",
       "    .dataframe thead th {\n",
       "        text-align: right;\n",
       "    }\n",
       "</style>\n",
       "<table border=\"1\" class=\"dataframe\">\n",
       "  <thead>\n",
       "    <tr style=\"text-align: right;\">\n",
       "      <th></th>\n",
       "      <th>ID</th>\n",
       "      <th>CREATED_DATE</th>\n",
       "      <th>BIRTH_DATE</th>\n",
       "      <th>STATE</th>\n",
       "      <th>LANGUAGE</th>\n",
       "      <th>GENDER</th>\n",
       "      <th>RECEIPT_ID</th>\n",
       "      <th>PURCHASE_DATE</th>\n",
       "      <th>SCAN_DATE</th>\n",
       "      <th>STORE_NAME</th>\n",
       "      <th>USER_ID</th>\n",
       "      <th>BARCODE</th>\n",
       "      <th>FINAL_QUANTITY</th>\n",
       "      <th>FINAL_SALE</th>\n",
       "      <th>CATEGORY_1</th>\n",
       "      <th>CATEGORY_2</th>\n",
       "      <th>CATEGORY_3</th>\n",
       "      <th>CATEGORY_4</th>\n",
       "      <th>MANUFACTURER</th>\n",
       "      <th>BRAND</th>\n",
       "    </tr>\n",
       "  </thead>\n",
       "  <tbody>\n",
       "    <tr>\n",
       "      <th>0</th>\n",
       "      <td>62c303aebaa38d1a1f6d0d51</td>\n",
       "      <td>2022-07-04 15:13:50.000 Z</td>\n",
       "      <td>1958-09-27 00:00:00+00:00</td>\n",
       "      <td>FL</td>\n",
       "      <td>en</td>\n",
       "      <td>Female</td>\n",
       "      <td>cdcc0ef0-9f72-45d4-aecf-701ce553f792</td>\n",
       "      <td>2024-06-12</td>\n",
       "      <td>2024-06-16 10:00:31.951 Z</td>\n",
       "      <td>WALMART</td>\n",
       "      <td>62c303aebaa38d1a1f6d0d51</td>\n",
       "      <td>78742222349.0</td>\n",
       "      <td>1.0</td>\n",
       "      <td>3.00</td>\n",
       "      <td>Snacks</td>\n",
       "      <td>Snack Cakes</td>\n",
       "      <td>Donut Snack Cakes</td>\n",
       "      <td>Unknown</td>\n",
       "      <td>WALMART INC.</td>\n",
       "      <td>FRESHNESS GUARANTEED</td>\n",
       "    </tr>\n",
       "    <tr>\n",
       "      <th>1</th>\n",
       "      <td>62c303aebaa38d1a1f6d0d51</td>\n",
       "      <td>2022-07-04 15:13:50.000 Z</td>\n",
       "      <td>1958-09-27 00:00:00+00:00</td>\n",
       "      <td>FL</td>\n",
       "      <td>en</td>\n",
       "      <td>Female</td>\n",
       "      <td>cdcc0ef0-9f72-45d4-aecf-701ce553f792</td>\n",
       "      <td>2024-06-12</td>\n",
       "      <td>2024-06-16 10:00:31.951 Z</td>\n",
       "      <td>WALMART</td>\n",
       "      <td>62c303aebaa38d1a1f6d0d51</td>\n",
       "      <td>78742222349.0</td>\n",
       "      <td>1.0</td>\n",
       "      <td>3.24</td>\n",
       "      <td>Snacks</td>\n",
       "      <td>Snack Cakes</td>\n",
       "      <td>Donut Snack Cakes</td>\n",
       "      <td>Unknown</td>\n",
       "      <td>WALMART INC.</td>\n",
       "      <td>FRESHNESS GUARANTEED</td>\n",
       "    </tr>\n",
       "    <tr>\n",
       "      <th>2</th>\n",
       "      <td>5fd4fb485f410d44bae3a776</td>\n",
       "      <td>2020-12-12 17:18:00.000 Z</td>\n",
       "      <td>1979-01-23 00:00:00+00:00</td>\n",
       "      <td>CA</td>\n",
       "      <td>es-419</td>\n",
       "      <td>Female</td>\n",
       "      <td>3c6b21b7-4f9e-4316-98e5-8842c5491871</td>\n",
       "      <td>2024-08-30</td>\n",
       "      <td>2024-09-03 12:35:17.267 Z</td>\n",
       "      <td>TARGET</td>\n",
       "      <td>5fd4fb485f410d44bae3a776</td>\n",
       "      <td>22400643366.0</td>\n",
       "      <td>2.0</td>\n",
       "      <td>3.00</td>\n",
       "      <td>Health &amp; Wellness</td>\n",
       "      <td>Hair Care</td>\n",
       "      <td>Hair Styling Products</td>\n",
       "      <td>Unknown</td>\n",
       "      <td>UNILEVER</td>\n",
       "      <td>TRESEMMÉ</td>\n",
       "    </tr>\n",
       "    <tr>\n",
       "      <th>3</th>\n",
       "      <td>5fd4fb485f410d44bae3a776</td>\n",
       "      <td>2020-12-12 17:18:00.000 Z</td>\n",
       "      <td>1979-01-23 00:00:00+00:00</td>\n",
       "      <td>CA</td>\n",
       "      <td>es-419</td>\n",
       "      <td>Female</td>\n",
       "      <td>3c6b21b7-4f9e-4316-98e5-8842c5491871</td>\n",
       "      <td>2024-08-30</td>\n",
       "      <td>2024-09-03 12:35:17.267 Z</td>\n",
       "      <td>TARGET</td>\n",
       "      <td>5fd4fb485f410d44bae3a776</td>\n",
       "      <td>22400643366.0</td>\n",
       "      <td>2.0</td>\n",
       "      <td>14.58</td>\n",
       "      <td>Health &amp; Wellness</td>\n",
       "      <td>Hair Care</td>\n",
       "      <td>Hair Styling Products</td>\n",
       "      <td>Unknown</td>\n",
       "      <td>UNILEVER</td>\n",
       "      <td>TRESEMMÉ</td>\n",
       "    </tr>\n",
       "    <tr>\n",
       "      <th>4</th>\n",
       "      <td>5b441360be53340f289b0795</td>\n",
       "      <td>2018-07-10 02:01:04.000 Z</td>\n",
       "      <td>1982-09-27 06:00:00+00:00</td>\n",
       "      <td>IL</td>\n",
       "      <td>en</td>\n",
       "      <td>Female</td>\n",
       "      <td>a7e6adf6-3dac-497f-90f1-7f371c639a1f</td>\n",
       "      <td>2024-07-22</td>\n",
       "      <td>2024-07-22 09:49:41.406 Z</td>\n",
       "      <td>TARGET</td>\n",
       "      <td>5b441360be53340f289b0795</td>\n",
       "      <td>2700717433990.0</td>\n",
       "      <td>0.0</td>\n",
       "      <td>7.99</td>\n",
       "      <td>Health &amp; Wellness</td>\n",
       "      <td>Bath &amp; Body</td>\n",
       "      <td>Body Wash</td>\n",
       "      <td>Unknown</td>\n",
       "      <td>UNILEVER</td>\n",
       "      <td>AXE</td>\n",
       "    </tr>\n",
       "  </tbody>\n",
       "</table>\n",
       "</div>"
      ],
      "text/plain": [
       "                         ID               CREATED_DATE  \\\n",
       "0  62c303aebaa38d1a1f6d0d51  2022-07-04 15:13:50.000 Z   \n",
       "1  62c303aebaa38d1a1f6d0d51  2022-07-04 15:13:50.000 Z   \n",
       "2  5fd4fb485f410d44bae3a776  2020-12-12 17:18:00.000 Z   \n",
       "3  5fd4fb485f410d44bae3a776  2020-12-12 17:18:00.000 Z   \n",
       "4  5b441360be53340f289b0795  2018-07-10 02:01:04.000 Z   \n",
       "\n",
       "                 BIRTH_DATE STATE LANGUAGE  GENDER  \\\n",
       "0 1958-09-27 00:00:00+00:00    FL       en  Female   \n",
       "1 1958-09-27 00:00:00+00:00    FL       en  Female   \n",
       "2 1979-01-23 00:00:00+00:00    CA   es-419  Female   \n",
       "3 1979-01-23 00:00:00+00:00    CA   es-419  Female   \n",
       "4 1982-09-27 06:00:00+00:00    IL       en  Female   \n",
       "\n",
       "                             RECEIPT_ID PURCHASE_DATE  \\\n",
       "0  cdcc0ef0-9f72-45d4-aecf-701ce553f792    2024-06-12   \n",
       "1  cdcc0ef0-9f72-45d4-aecf-701ce553f792    2024-06-12   \n",
       "2  3c6b21b7-4f9e-4316-98e5-8842c5491871    2024-08-30   \n",
       "3  3c6b21b7-4f9e-4316-98e5-8842c5491871    2024-08-30   \n",
       "4  a7e6adf6-3dac-497f-90f1-7f371c639a1f    2024-07-22   \n",
       "\n",
       "                   SCAN_DATE STORE_NAME                   USER_ID  \\\n",
       "0  2024-06-16 10:00:31.951 Z    WALMART  62c303aebaa38d1a1f6d0d51   \n",
       "1  2024-06-16 10:00:31.951 Z    WALMART  62c303aebaa38d1a1f6d0d51   \n",
       "2  2024-09-03 12:35:17.267 Z     TARGET  5fd4fb485f410d44bae3a776   \n",
       "3  2024-09-03 12:35:17.267 Z     TARGET  5fd4fb485f410d44bae3a776   \n",
       "4  2024-07-22 09:49:41.406 Z     TARGET  5b441360be53340f289b0795   \n",
       "\n",
       "           BARCODE  FINAL_QUANTITY  FINAL_SALE         CATEGORY_1  \\\n",
       "0    78742222349.0             1.0        3.00             Snacks   \n",
       "1    78742222349.0             1.0        3.24             Snacks   \n",
       "2    22400643366.0             2.0        3.00  Health & Wellness   \n",
       "3    22400643366.0             2.0       14.58  Health & Wellness   \n",
       "4  2700717433990.0             0.0        7.99  Health & Wellness   \n",
       "\n",
       "    CATEGORY_2             CATEGORY_3 CATEGORY_4  MANUFACTURER  \\\n",
       "0  Snack Cakes      Donut Snack Cakes    Unknown  WALMART INC.   \n",
       "1  Snack Cakes      Donut Snack Cakes    Unknown  WALMART INC.   \n",
       "2    Hair Care  Hair Styling Products    Unknown      UNILEVER   \n",
       "3    Hair Care  Hair Styling Products    Unknown      UNILEVER   \n",
       "4  Bath & Body              Body Wash    Unknown      UNILEVER   \n",
       "\n",
       "                  BRAND  \n",
       "0  FRESHNESS GUARANTEED  \n",
       "1  FRESHNESS GUARANTEED  \n",
       "2              TRESEMMÉ  \n",
       "3              TRESEMMÉ  \n",
       "4                   AXE  "
      ]
     },
     "execution_count": 1248,
     "metadata": {},
     "output_type": "execute_result"
    }
   ],
   "source": [
    "# First join Users with Transactions\n",
    "user_transactions = pd.merge(df_user, df_transaction, left_on='ID', right_on='USER_ID', how='inner')\n",
    "\n",
    "# Then join with Products\n",
    "full_data = pd.merge(user_transactions, df_product, left_on='BARCODE', right_on='BARCODE', how='inner')\n",
    "\n",
    "full_data.head()\n",
    "\n",
    "#### But this will give us only 144 rows due to the barcode"
   ]
  },
  {
   "cell_type": "code",
   "execution_count": null,
   "id": "098a0155-89af-41d8-a70c-34166c21a8ee",
   "metadata": {},
   "outputs": [],
   "source": []
  },
  {
   "cell_type": "code",
   "execution_count": 1250,
   "id": "3f38303d-1425-4edf-9287-4fef3357f264",
   "metadata": {},
   "outputs": [
    {
     "name": "stdout",
     "output_type": "stream",
     "text": [
      "<class 'pandas.core.frame.DataFrame'>\n",
      "RangeIndex: 144 entries, 0 to 143\n",
      "Data columns (total 20 columns):\n",
      " #   Column          Non-Null Count  Dtype              \n",
      "---  ------          --------------  -----              \n",
      " 0   ID              144 non-null    object             \n",
      " 1   CREATED_DATE    144 non-null    object             \n",
      " 2   BIRTH_DATE      144 non-null    datetime64[ns, UTC]\n",
      " 3   STATE           144 non-null    object             \n",
      " 4   LANGUAGE        144 non-null    object             \n",
      " 5   GENDER          144 non-null    object             \n",
      " 6   RECEIPT_ID      144 non-null    object             \n",
      " 7   PURCHASE_DATE   144 non-null    object             \n",
      " 8   SCAN_DATE       144 non-null    object             \n",
      " 9   STORE_NAME      144 non-null    object             \n",
      " 10  USER_ID         144 non-null    object             \n",
      " 11  BARCODE         144 non-null    object             \n",
      " 12  FINAL_QUANTITY  144 non-null    float64            \n",
      " 13  FINAL_SALE      144 non-null    float64            \n",
      " 14  CATEGORY_1      144 non-null    object             \n",
      " 15  CATEGORY_2      144 non-null    object             \n",
      " 16  CATEGORY_3      144 non-null    object             \n",
      " 17  CATEGORY_4      144 non-null    object             \n",
      " 18  MANUFACTURER    144 non-null    object             \n",
      " 19  BRAND           144 non-null    object             \n",
      "dtypes: datetime64[ns, UTC](1), float64(2), object(17)\n",
      "memory usage: 22.6+ KB\n"
     ]
    }
   ],
   "source": [
    "full_data.info()"
   ]
  },
  {
   "cell_type": "markdown",
   "id": "38d4a2f2-2b4f-401f-8435-bbd19c2cf007",
   "metadata": {},
   "source": [
    "#### Problem is here that matching columns for ID and Barcode is 144 only\n",
    "\n",
    "#### Now we will do the merging first and then take care of the missing values"
   ]
  },
  {
   "cell_type": "code",
   "execution_count": 1253,
   "id": "6c156b39-4378-47d5-930e-fdfe177aa11c",
   "metadata": {},
   "outputs": [
    {
     "data": {
      "text/plain": [
       "96744"
      ]
     },
     "execution_count": 1253,
     "metadata": {},
     "output_type": "execute_result"
    }
   ],
   "source": [
    "import pandas as pd\n",
    "\n",
    "# Load the datasets\n",
    "user_df = pd.read_csv('USER_TAKEHOME.csv')\n",
    "transaction_df = pd.read_csv('TRANSACTION_TAKEHOME.csv')\n",
    "product_df = pd.read_csv('PRODUCTS_TAKEHOME.csv')\n",
    "\n",
    "# Strip and standardize IDs for consistency\n",
    "user_df['ID'] = user_df['ID'].astype(str).str.strip().str.upper()\n",
    "transaction_df['USER_ID'] = transaction_df['USER_ID'].astype(str).str.strip().str.upper()\n",
    "\n",
    "# Join user and transaction data\n",
    "user_transaction_joined = pd.merge(user_df, transaction_df, left_on='ID', right_on='USER_ID', how='inner')\n",
    "\n",
    "# Join the resulting dataframe with product data using the barcode\n",
    "full_joined_data = pd.merge(user_transaction_joined, product_df, left_on='BARCODE', right_on='BARCODE', how='inner')\n",
    "\n",
    "# Display the number of rows after joining all three tables\n",
    "full_joined_data.shape[0]\n"
   ]
  },
  {
   "cell_type": "code",
   "execution_count": 1255,
   "id": "fcb53526-b5cf-4aaa-accf-896db512d8a5",
   "metadata": {},
   "outputs": [
    {
     "name": "stdout",
     "output_type": "stream",
     "text": [
      "<class 'pandas.core.frame.DataFrame'>\n",
      "RangeIndex: 96744 entries, 0 to 96743\n",
      "Data columns (total 20 columns):\n",
      " #   Column          Non-Null Count  Dtype  \n",
      "---  ------          --------------  -----  \n",
      " 0   ID              96744 non-null  object \n",
      " 1   CREATED_DATE    96744 non-null  object \n",
      " 2   BIRTH_DATE      96744 non-null  object \n",
      " 3   STATE           96744 non-null  object \n",
      " 4   LANGUAGE        96744 non-null  object \n",
      " 5   GENDER          96744 non-null  object \n",
      " 6   RECEIPT_ID      96744 non-null  object \n",
      " 7   PURCHASE_DATE   96744 non-null  object \n",
      " 8   SCAN_DATE       96744 non-null  object \n",
      " 9   STORE_NAME      96744 non-null  object \n",
      " 10  USER_ID         96744 non-null  object \n",
      " 11  BARCODE         144 non-null    float64\n",
      " 12  FINAL_QUANTITY  96744 non-null  object \n",
      " 13  FINAL_SALE      96744 non-null  object \n",
      " 14  CATEGORY_1      96744 non-null  object \n",
      " 15  CATEGORY_2      78432 non-null  object \n",
      " 16  CATEGORY_3      52284 non-null  object \n",
      " 17  CATEGORY_4      5366 non-null   object \n",
      " 18  MANUFACTURER    90810 non-null  object \n",
      " 19  BRAND           90810 non-null  object \n",
      "dtypes: float64(1), object(19)\n",
      "memory usage: 14.8+ MB\n"
     ]
    }
   ],
   "source": [
    "full_joined_data.info()"
   ]
  },
  {
   "cell_type": "markdown",
   "id": "ffde28e0-21fe-452b-a3cd-95414223db6f",
   "metadata": {},
   "source": [
    "#### We will drop Barcode because its way too low count and its just not possible to justify its imputations"
   ]
  },
  {
   "cell_type": "code",
   "execution_count": 1257,
   "id": "48a31735-e2e5-450b-955f-c3ed7e1dcfdc",
   "metadata": {},
   "outputs": [
    {
     "name": "stdout",
     "output_type": "stream",
     "text": [
      "<class 'pandas.core.frame.DataFrame'>\n",
      "RangeIndex: 96744 entries, 0 to 96743\n",
      "Data columns (total 19 columns):\n",
      " #   Column          Non-Null Count  Dtype \n",
      "---  ------          --------------  ----- \n",
      " 0   ID              96744 non-null  object\n",
      " 1   CREATED_DATE    96744 non-null  object\n",
      " 2   BIRTH_DATE      96744 non-null  object\n",
      " 3   STATE           96744 non-null  object\n",
      " 4   LANGUAGE        96744 non-null  object\n",
      " 5   GENDER          96744 non-null  object\n",
      " 6   RECEIPT_ID      96744 non-null  object\n",
      " 7   PURCHASE_DATE   96744 non-null  object\n",
      " 8   SCAN_DATE       96744 non-null  object\n",
      " 9   STORE_NAME      96744 non-null  object\n",
      " 10  USER_ID         96744 non-null  object\n",
      " 11  FINAL_QUANTITY  96744 non-null  object\n",
      " 12  FINAL_SALE      96744 non-null  object\n",
      " 13  CATEGORY_1      96744 non-null  object\n",
      " 14  CATEGORY_2      78432 non-null  object\n",
      " 15  CATEGORY_3      52284 non-null  object\n",
      " 16  CATEGORY_4      5366 non-null   object\n",
      " 17  MANUFACTURER    90810 non-null  object\n",
      " 18  BRAND           90810 non-null  object\n",
      "dtypes: object(19)\n",
      "memory usage: 14.0+ MB\n"
     ]
    }
   ],
   "source": [
    "full_joined_data.drop(columns='BARCODE',inplace=True)\n",
    "\n",
    "full_joined_data.info()"
   ]
  },
  {
   "cell_type": "code",
   "execution_count": 1259,
   "id": "e4a469a3-7168-4a64-ad9a-fb7a52deb1de",
   "metadata": {},
   "outputs": [
    {
     "data": {
      "text/html": [
       "<div>\n",
       "<style scoped>\n",
       "    .dataframe tbody tr th:only-of-type {\n",
       "        vertical-align: middle;\n",
       "    }\n",
       "\n",
       "    .dataframe tbody tr th {\n",
       "        vertical-align: top;\n",
       "    }\n",
       "\n",
       "    .dataframe thead th {\n",
       "        text-align: right;\n",
       "    }\n",
       "</style>\n",
       "<table border=\"1\" class=\"dataframe\">\n",
       "  <thead>\n",
       "    <tr style=\"text-align: right;\">\n",
       "      <th></th>\n",
       "      <th>ID</th>\n",
       "      <th>CREATED_DATE</th>\n",
       "      <th>BIRTH_DATE</th>\n",
       "      <th>STATE</th>\n",
       "      <th>LANGUAGE</th>\n",
       "      <th>GENDER</th>\n",
       "      <th>RECEIPT_ID</th>\n",
       "      <th>PURCHASE_DATE</th>\n",
       "      <th>SCAN_DATE</th>\n",
       "      <th>STORE_NAME</th>\n",
       "      <th>USER_ID</th>\n",
       "      <th>FINAL_QUANTITY</th>\n",
       "      <th>FINAL_SALE</th>\n",
       "      <th>CATEGORY_1</th>\n",
       "      <th>CATEGORY_2</th>\n",
       "      <th>CATEGORY_3</th>\n",
       "      <th>CATEGORY_4</th>\n",
       "      <th>MANUFACTURER</th>\n",
       "      <th>BRAND</th>\n",
       "    </tr>\n",
       "  </thead>\n",
       "  <tbody>\n",
       "    <tr>\n",
       "      <th>0</th>\n",
       "      <td>62C303AEBAA38D1A1F6D0D51</td>\n",
       "      <td>2022-07-04 15:13:50.000 Z</td>\n",
       "      <td>1958-09-27 00:00:00.000 Z</td>\n",
       "      <td>FL</td>\n",
       "      <td>en</td>\n",
       "      <td>female</td>\n",
       "      <td>cdcc0ef0-9f72-45d4-aecf-701ce553f792</td>\n",
       "      <td>2024-06-12</td>\n",
       "      <td>2024-06-16 10:00:31.951 Z</td>\n",
       "      <td>WALMART</td>\n",
       "      <td>62C303AEBAA38D1A1F6D0D51</td>\n",
       "      <td>1.00</td>\n",
       "      <td></td>\n",
       "      <td>Snacks</td>\n",
       "      <td>Snack Cakes</td>\n",
       "      <td>Donut Snack Cakes</td>\n",
       "      <td>NaN</td>\n",
       "      <td>WALMART INC.</td>\n",
       "      <td>FRESHNESS GUARANTEED</td>\n",
       "    </tr>\n",
       "    <tr>\n",
       "      <th>1</th>\n",
       "      <td>62C303AEBAA38D1A1F6D0D51</td>\n",
       "      <td>2022-07-04 15:13:50.000 Z</td>\n",
       "      <td>1958-09-27 00:00:00.000 Z</td>\n",
       "      <td>FL</td>\n",
       "      <td>en</td>\n",
       "      <td>female</td>\n",
       "      <td>cdcc0ef0-9f72-45d4-aecf-701ce553f792</td>\n",
       "      <td>2024-06-12</td>\n",
       "      <td>2024-06-16 10:00:31.951 Z</td>\n",
       "      <td>WALMART</td>\n",
       "      <td>62C303AEBAA38D1A1F6D0D51</td>\n",
       "      <td>1.00</td>\n",
       "      <td>3.24</td>\n",
       "      <td>Snacks</td>\n",
       "      <td>Snack Cakes</td>\n",
       "      <td>Donut Snack Cakes</td>\n",
       "      <td>NaN</td>\n",
       "      <td>WALMART INC.</td>\n",
       "      <td>FRESHNESS GUARANTEED</td>\n",
       "    </tr>\n",
       "    <tr>\n",
       "      <th>2</th>\n",
       "      <td>5FD4FB485F410D44BAE3A776</td>\n",
       "      <td>2020-12-12 17:18:00.000 Z</td>\n",
       "      <td>1979-01-23 00:00:00.000 Z</td>\n",
       "      <td>CA</td>\n",
       "      <td>es-419</td>\n",
       "      <td>female</td>\n",
       "      <td>3c6b21b7-4f9e-4316-98e5-8842c5491871</td>\n",
       "      <td>2024-08-30</td>\n",
       "      <td>2024-09-03 12:35:17.267 Z</td>\n",
       "      <td>TARGET</td>\n",
       "      <td>5FD4FB485F410D44BAE3A776</td>\n",
       "      <td>2.00</td>\n",
       "      <td></td>\n",
       "      <td>Health &amp; Wellness</td>\n",
       "      <td>Hair Care</td>\n",
       "      <td>Hair Styling Products</td>\n",
       "      <td>NaN</td>\n",
       "      <td>UNILEVER</td>\n",
       "      <td>TRESEMMÉ</td>\n",
       "    </tr>\n",
       "    <tr>\n",
       "      <th>3</th>\n",
       "      <td>5FD4FB485F410D44BAE3A776</td>\n",
       "      <td>2020-12-12 17:18:00.000 Z</td>\n",
       "      <td>1979-01-23 00:00:00.000 Z</td>\n",
       "      <td>CA</td>\n",
       "      <td>es-419</td>\n",
       "      <td>female</td>\n",
       "      <td>3c6b21b7-4f9e-4316-98e5-8842c5491871</td>\n",
       "      <td>2024-08-30</td>\n",
       "      <td>2024-09-03 12:35:17.267 Z</td>\n",
       "      <td>TARGET</td>\n",
       "      <td>5FD4FB485F410D44BAE3A776</td>\n",
       "      <td>2.00</td>\n",
       "      <td>14.58</td>\n",
       "      <td>Health &amp; Wellness</td>\n",
       "      <td>Hair Care</td>\n",
       "      <td>Hair Styling Products</td>\n",
       "      <td>NaN</td>\n",
       "      <td>UNILEVER</td>\n",
       "      <td>TRESEMMÉ</td>\n",
       "    </tr>\n",
       "    <tr>\n",
       "      <th>4</th>\n",
       "      <td>5B441360BE53340F289B0795</td>\n",
       "      <td>2018-07-10 02:01:04.000 Z</td>\n",
       "      <td>1982-09-27 06:00:00.000 Z</td>\n",
       "      <td>IL</td>\n",
       "      <td>en</td>\n",
       "      <td>female</td>\n",
       "      <td>a7e6adf6-3dac-497f-90f1-7f371c639a1f</td>\n",
       "      <td>2024-07-22</td>\n",
       "      <td>2024-07-22 09:49:41.406 Z</td>\n",
       "      <td>TARGET</td>\n",
       "      <td>5B441360BE53340F289B0795</td>\n",
       "      <td>zero</td>\n",
       "      <td>7.99</td>\n",
       "      <td>Health &amp; Wellness</td>\n",
       "      <td>Bath &amp; Body</td>\n",
       "      <td>Body Wash</td>\n",
       "      <td>NaN</td>\n",
       "      <td>UNILEVER</td>\n",
       "      <td>AXE</td>\n",
       "    </tr>\n",
       "  </tbody>\n",
       "</table>\n",
       "</div>"
      ],
      "text/plain": [
       "                         ID               CREATED_DATE  \\\n",
       "0  62C303AEBAA38D1A1F6D0D51  2022-07-04 15:13:50.000 Z   \n",
       "1  62C303AEBAA38D1A1F6D0D51  2022-07-04 15:13:50.000 Z   \n",
       "2  5FD4FB485F410D44BAE3A776  2020-12-12 17:18:00.000 Z   \n",
       "3  5FD4FB485F410D44BAE3A776  2020-12-12 17:18:00.000 Z   \n",
       "4  5B441360BE53340F289B0795  2018-07-10 02:01:04.000 Z   \n",
       "\n",
       "                  BIRTH_DATE STATE LANGUAGE  GENDER  \\\n",
       "0  1958-09-27 00:00:00.000 Z    FL       en  female   \n",
       "1  1958-09-27 00:00:00.000 Z    FL       en  female   \n",
       "2  1979-01-23 00:00:00.000 Z    CA   es-419  female   \n",
       "3  1979-01-23 00:00:00.000 Z    CA   es-419  female   \n",
       "4  1982-09-27 06:00:00.000 Z    IL       en  female   \n",
       "\n",
       "                             RECEIPT_ID PURCHASE_DATE  \\\n",
       "0  cdcc0ef0-9f72-45d4-aecf-701ce553f792    2024-06-12   \n",
       "1  cdcc0ef0-9f72-45d4-aecf-701ce553f792    2024-06-12   \n",
       "2  3c6b21b7-4f9e-4316-98e5-8842c5491871    2024-08-30   \n",
       "3  3c6b21b7-4f9e-4316-98e5-8842c5491871    2024-08-30   \n",
       "4  a7e6adf6-3dac-497f-90f1-7f371c639a1f    2024-07-22   \n",
       "\n",
       "                   SCAN_DATE STORE_NAME                   USER_ID  \\\n",
       "0  2024-06-16 10:00:31.951 Z    WALMART  62C303AEBAA38D1A1F6D0D51   \n",
       "1  2024-06-16 10:00:31.951 Z    WALMART  62C303AEBAA38D1A1F6D0D51   \n",
       "2  2024-09-03 12:35:17.267 Z     TARGET  5FD4FB485F410D44BAE3A776   \n",
       "3  2024-09-03 12:35:17.267 Z     TARGET  5FD4FB485F410D44BAE3A776   \n",
       "4  2024-07-22 09:49:41.406 Z     TARGET  5B441360BE53340F289B0795   \n",
       "\n",
       "  FINAL_QUANTITY FINAL_SALE         CATEGORY_1   CATEGORY_2  \\\n",
       "0           1.00                        Snacks  Snack Cakes   \n",
       "1           1.00       3.24             Snacks  Snack Cakes   \n",
       "2           2.00             Health & Wellness    Hair Care   \n",
       "3           2.00      14.58  Health & Wellness    Hair Care   \n",
       "4           zero       7.99  Health & Wellness  Bath & Body   \n",
       "\n",
       "              CATEGORY_3 CATEGORY_4  MANUFACTURER                 BRAND  \n",
       "0      Donut Snack Cakes        NaN  WALMART INC.  FRESHNESS GUARANTEED  \n",
       "1      Donut Snack Cakes        NaN  WALMART INC.  FRESHNESS GUARANTEED  \n",
       "2  Hair Styling Products        NaN      UNILEVER              TRESEMMÉ  \n",
       "3  Hair Styling Products        NaN      UNILEVER              TRESEMMÉ  \n",
       "4              Body Wash        NaN      UNILEVER                   AXE  "
      ]
     },
     "execution_count": 1259,
     "metadata": {},
     "output_type": "execute_result"
    }
   ],
   "source": [
    "full_joined_data.head()"
   ]
  },
  {
   "cell_type": "code",
   "execution_count": 1261,
   "id": "90743e1d-1c89-4496-ac3f-93299a83b9e4",
   "metadata": {},
   "outputs": [],
   "source": [
    "# Convert FINAL_SALE and FINAL_QUANTITY to numeric\n",
    "full_joined_data['FINAL_SALE'] = pd.to_numeric(full_joined_data['FINAL_SALE'], errors='coerce')\n",
    "full_joined_data['FINAL_QUANTITY'] = pd.to_numeric(full_joined_data['FINAL_QUANTITY'], errors='coerce')\n"
   ]
  },
  {
   "cell_type": "code",
   "execution_count": 1263,
   "id": "fca8feba-8604-43ad-8690-dadc388e2410",
   "metadata": {},
   "outputs": [],
   "source": [
    "median_sale = full_joined_data['FINAL_SALE'].median()\n",
    "\n",
    "# Fill missing values with the median\n",
    "full_joined_data['FINAL_SALE'] = full_joined_data['FINAL_SALE'].fillna(median_sale)\n"
   ]
  },
  {
   "cell_type": "code",
   "execution_count": 1265,
   "id": "7ec7a5d1-1739-4f20-9c9e-07a64cdca8e5",
   "metadata": {},
   "outputs": [],
   "source": [
    "full_joined_data['FINAL_QUANTITY'] = full_joined_data.FINAL_QUANTITY.fillna(0)"
   ]
  },
  {
   "cell_type": "code",
   "execution_count": 1267,
   "id": "99024096-d0ad-45ab-8a4a-7745e52919fc",
   "metadata": {},
   "outputs": [],
   "source": [
    "from datetime import datetime\n",
    "\n",
    "# Handling missing values\n",
    "# Fill missing values for categorical columns with 'Unknown'\n",
    "categorical_columns = ['STATE', 'LANGUAGE', 'GENDER', 'CATEGORY_1', 'CATEGORY_2', \n",
    "                        'CATEGORY_3', 'CATEGORY_4', 'BRAND', 'MANUFACTURER', 'STORE_NAME']\n",
    "\n",
    "for col in categorical_columns:\n",
    "    if col in full_joined_data.columns:\n",
    "        full_joined_data[col] = full_joined_data[col].fillna('Unknown')\n",
    "\n",
    "\n",
    "# Convert date columns to datetime\n",
    "date_columns = ['CREATED_DATE', 'BIRTH_DATE', 'PURCHASE_DATE', 'SCAN_DATE']\n",
    "\n",
    "for col in date_columns:\n",
    "    if col in full_joined_data.columns:\n",
    "        full_joined_data[col] = pd.to_datetime(full_joined_data[col], errors='coerce').dt.tz_localize(None)\n",
    "\n",
    "\n"
   ]
  },
  {
   "cell_type": "code",
   "execution_count": 1269,
   "id": "0094b221-5475-4c70-8afb-e0e42e277b04",
   "metadata": {},
   "outputs": [],
   "source": [
    "# Convert FINAL_SALE and FINAL_QUANTITY to float\n",
    "full_joined_data['FINAL_SALE'] = pd.to_numeric(full_joined_data['FINAL_SALE'], errors='coerce').astype(float)\n",
    "full_joined_data['FINAL_QUANTITY'] = pd.to_numeric(full_joined_data['FINAL_QUANTITY'], errors='coerce').astype(float)\n"
   ]
  },
  {
   "cell_type": "code",
   "execution_count": 1271,
   "id": "22bd7871-82b4-452e-8cf6-99ca8d978a62",
   "metadata": {},
   "outputs": [
    {
     "name": "stdout",
     "output_type": "stream",
     "text": [
      "<class 'pandas.core.frame.DataFrame'>\n",
      "RangeIndex: 96744 entries, 0 to 96743\n",
      "Data columns (total 25 columns):\n",
      " #   Column               Non-Null Count  Dtype         \n",
      "---  ------               --------------  -----         \n",
      " 0   ID                   96744 non-null  object        \n",
      " 1   CREATED_DATE         96744 non-null  datetime64[ns]\n",
      " 2   BIRTH_DATE           96744 non-null  datetime64[ns]\n",
      " 3   STATE                96744 non-null  category      \n",
      " 4   LANGUAGE             96744 non-null  category      \n",
      " 5   GENDER               96744 non-null  category      \n",
      " 6   RECEIPT_ID           96744 non-null  object        \n",
      " 7   PURCHASE_DATE        96744 non-null  datetime64[ns]\n",
      " 8   SCAN_DATE            96744 non-null  datetime64[ns]\n",
      " 9   STORE_NAME           96744 non-null  object        \n",
      " 10  USER_ID              96744 non-null  object        \n",
      " 11  FINAL_QUANTITY       96744 non-null  float64       \n",
      " 12  FINAL_SALE           96744 non-null  float64       \n",
      " 13  CATEGORY_1           96744 non-null  category      \n",
      " 14  CATEGORY_2           96744 non-null  category      \n",
      " 15  CATEGORY_3           96744 non-null  category      \n",
      " 16  CATEGORY_4           96744 non-null  category      \n",
      " 17  MANUFACTURER         96744 non-null  category      \n",
      " 18  BRAND                96744 non-null  category      \n",
      " 19  AGE                  96744 non-null  int64         \n",
      " 20  MEMBERSHIP_DURATION  96744 non-null  int64         \n",
      " 21  TOTAL_SALE           96744 non-null  float64       \n",
      " 22  PURCHASE_YEAR        96744 non-null  int32         \n",
      " 23  PURCHASE_MONTH       96744 non-null  int32         \n",
      " 24  AGE_GROUP            96744 non-null  category      \n",
      "dtypes: category(10), datetime64[ns](4), float64(3), int32(2), int64(2), object(4)\n",
      "memory usage: 11.6+ MB\n"
     ]
    }
   ],
   "source": [
    "# Create Age Feature from BIRTH_DATE\n",
    "full_joined_data['AGE'] = (datetime.now() - full_joined_data['BIRTH_DATE']).dt.days // 365\n",
    "\n",
    "# Create Membership Duration Feature (account age in days)\n",
    "full_joined_data['MEMBERSHIP_DURATION'] = (datetime.now() - full_joined_data['CREATED_DATE']).dt.days\n",
    "\n",
    "# Total Sale Feature (if FINAL_SALE represents unit price)\n",
    "full_joined_data['TOTAL_SALE'] = full_joined_data['FINAL_SALE'] * full_joined_data['FINAL_QUANTITY']\n",
    "\n",
    "# Extract Year and Month from PURCHASE_DATE for time-based analysis\n",
    "full_joined_data['PURCHASE_YEAR'] = full_joined_data['PURCHASE_DATE'].dt.year\n",
    "full_joined_data['PURCHASE_MONTH'] = full_joined_data['PURCHASE_DATE'].dt.month\n",
    "\n",
    "# Categorize Age Groups\n",
    "def categorize_age(age):\n",
    "    if pd.isnull(age):\n",
    "        return 'Unknown'\n",
    "    elif age < 18:\n",
    "        return 'Under 18'\n",
    "    elif 18 <= age < 30:\n",
    "        return '18-29'\n",
    "    elif 30 <= age < 45:\n",
    "        return '30-44'\n",
    "    elif 45 <= age < 60:\n",
    "        return '45-59'\n",
    "    else:\n",
    "        return '60+'\n",
    "\n",
    "full_joined_data['AGE_GROUP'] = full_joined_data['AGE'].apply(categorize_age)\n",
    "\n",
    "# Convert categorical columns to category dtype\n",
    "final_categorical_cols = ['STATE', 'LANGUAGE', 'GENDER', 'CATEGORY_1', 'CATEGORY_2', \n",
    "                           'CATEGORY_3', 'CATEGORY_4', 'MANUFACTURER', 'BRAND', 'AGE_GROUP']\n",
    "\n",
    "for col in final_categorical_cols:\n",
    "    if col in full_joined_data.columns:\n",
    "        full_joined_data[col] = full_joined_data[col].astype('category')\n",
    "\n",
    "# Confirm changes\n",
    "full_joined_data.info()"
   ]
  },
  {
   "cell_type": "code",
   "execution_count": 1273,
   "id": "db41dd89-d04c-4afc-a81a-7e3929a67d80",
   "metadata": {},
   "outputs": [
    {
     "data": {
      "text/html": [
       "<div>\n",
       "<style scoped>\n",
       "    .dataframe tbody tr th:only-of-type {\n",
       "        vertical-align: middle;\n",
       "    }\n",
       "\n",
       "    .dataframe tbody tr th {\n",
       "        vertical-align: top;\n",
       "    }\n",
       "\n",
       "    .dataframe thead th {\n",
       "        text-align: right;\n",
       "    }\n",
       "</style>\n",
       "<table border=\"1\" class=\"dataframe\">\n",
       "  <thead>\n",
       "    <tr style=\"text-align: right;\">\n",
       "      <th></th>\n",
       "      <th>ID</th>\n",
       "      <th>CREATED_DATE</th>\n",
       "      <th>BIRTH_DATE</th>\n",
       "      <th>STATE</th>\n",
       "      <th>LANGUAGE</th>\n",
       "      <th>GENDER</th>\n",
       "      <th>RECEIPT_ID</th>\n",
       "      <th>PURCHASE_DATE</th>\n",
       "      <th>SCAN_DATE</th>\n",
       "      <th>STORE_NAME</th>\n",
       "      <th>...</th>\n",
       "      <th>CATEGORY_3</th>\n",
       "      <th>CATEGORY_4</th>\n",
       "      <th>MANUFACTURER</th>\n",
       "      <th>BRAND</th>\n",
       "      <th>AGE</th>\n",
       "      <th>MEMBERSHIP_DURATION</th>\n",
       "      <th>TOTAL_SALE</th>\n",
       "      <th>PURCHASE_YEAR</th>\n",
       "      <th>PURCHASE_MONTH</th>\n",
       "      <th>AGE_GROUP</th>\n",
       "    </tr>\n",
       "  </thead>\n",
       "  <tbody>\n",
       "    <tr>\n",
       "      <th>0</th>\n",
       "      <td>62C303AEBAA38D1A1F6D0D51</td>\n",
       "      <td>2022-07-04 15:13:50</td>\n",
       "      <td>1958-09-27 00:00:00</td>\n",
       "      <td>FL</td>\n",
       "      <td>en</td>\n",
       "      <td>female</td>\n",
       "      <td>cdcc0ef0-9f72-45d4-aecf-701ce553f792</td>\n",
       "      <td>2024-06-12</td>\n",
       "      <td>2024-06-16 10:00:31.951</td>\n",
       "      <td>WALMART</td>\n",
       "      <td>...</td>\n",
       "      <td>Donut Snack Cakes</td>\n",
       "      <td>Unknown</td>\n",
       "      <td>WALMART INC.</td>\n",
       "      <td>FRESHNESS GUARANTEED</td>\n",
       "      <td>66</td>\n",
       "      <td>944</td>\n",
       "      <td>2.99</td>\n",
       "      <td>2024</td>\n",
       "      <td>6</td>\n",
       "      <td>60+</td>\n",
       "    </tr>\n",
       "    <tr>\n",
       "      <th>1</th>\n",
       "      <td>62C303AEBAA38D1A1F6D0D51</td>\n",
       "      <td>2022-07-04 15:13:50</td>\n",
       "      <td>1958-09-27 00:00:00</td>\n",
       "      <td>FL</td>\n",
       "      <td>en</td>\n",
       "      <td>female</td>\n",
       "      <td>cdcc0ef0-9f72-45d4-aecf-701ce553f792</td>\n",
       "      <td>2024-06-12</td>\n",
       "      <td>2024-06-16 10:00:31.951</td>\n",
       "      <td>WALMART</td>\n",
       "      <td>...</td>\n",
       "      <td>Donut Snack Cakes</td>\n",
       "      <td>Unknown</td>\n",
       "      <td>WALMART INC.</td>\n",
       "      <td>FRESHNESS GUARANTEED</td>\n",
       "      <td>66</td>\n",
       "      <td>944</td>\n",
       "      <td>3.24</td>\n",
       "      <td>2024</td>\n",
       "      <td>6</td>\n",
       "      <td>60+</td>\n",
       "    </tr>\n",
       "    <tr>\n",
       "      <th>2</th>\n",
       "      <td>5FD4FB485F410D44BAE3A776</td>\n",
       "      <td>2020-12-12 17:18:00</td>\n",
       "      <td>1979-01-23 00:00:00</td>\n",
       "      <td>CA</td>\n",
       "      <td>es-419</td>\n",
       "      <td>female</td>\n",
       "      <td>3c6b21b7-4f9e-4316-98e5-8842c5491871</td>\n",
       "      <td>2024-08-30</td>\n",
       "      <td>2024-09-03 12:35:17.267</td>\n",
       "      <td>TARGET</td>\n",
       "      <td>...</td>\n",
       "      <td>Hair Styling Products</td>\n",
       "      <td>Unknown</td>\n",
       "      <td>UNILEVER</td>\n",
       "      <td>TRESEMMÉ</td>\n",
       "      <td>46</td>\n",
       "      <td>1513</td>\n",
       "      <td>5.98</td>\n",
       "      <td>2024</td>\n",
       "      <td>8</td>\n",
       "      <td>45-59</td>\n",
       "    </tr>\n",
       "    <tr>\n",
       "      <th>3</th>\n",
       "      <td>5FD4FB485F410D44BAE3A776</td>\n",
       "      <td>2020-12-12 17:18:00</td>\n",
       "      <td>1979-01-23 00:00:00</td>\n",
       "      <td>CA</td>\n",
       "      <td>es-419</td>\n",
       "      <td>female</td>\n",
       "      <td>3c6b21b7-4f9e-4316-98e5-8842c5491871</td>\n",
       "      <td>2024-08-30</td>\n",
       "      <td>2024-09-03 12:35:17.267</td>\n",
       "      <td>TARGET</td>\n",
       "      <td>...</td>\n",
       "      <td>Hair Styling Products</td>\n",
       "      <td>Unknown</td>\n",
       "      <td>UNILEVER</td>\n",
       "      <td>TRESEMMÉ</td>\n",
       "      <td>46</td>\n",
       "      <td>1513</td>\n",
       "      <td>29.16</td>\n",
       "      <td>2024</td>\n",
       "      <td>8</td>\n",
       "      <td>45-59</td>\n",
       "    </tr>\n",
       "    <tr>\n",
       "      <th>4</th>\n",
       "      <td>5B441360BE53340F289B0795</td>\n",
       "      <td>2018-07-10 02:01:04</td>\n",
       "      <td>1982-09-27 06:00:00</td>\n",
       "      <td>IL</td>\n",
       "      <td>en</td>\n",
       "      <td>female</td>\n",
       "      <td>a7e6adf6-3dac-497f-90f1-7f371c639a1f</td>\n",
       "      <td>2024-07-22</td>\n",
       "      <td>2024-07-22 09:49:41.406</td>\n",
       "      <td>TARGET</td>\n",
       "      <td>...</td>\n",
       "      <td>Body Wash</td>\n",
       "      <td>Unknown</td>\n",
       "      <td>UNILEVER</td>\n",
       "      <td>AXE</td>\n",
       "      <td>42</td>\n",
       "      <td>2399</td>\n",
       "      <td>0.00</td>\n",
       "      <td>2024</td>\n",
       "      <td>7</td>\n",
       "      <td>30-44</td>\n",
       "    </tr>\n",
       "  </tbody>\n",
       "</table>\n",
       "<p>5 rows × 25 columns</p>\n",
       "</div>"
      ],
      "text/plain": [
       "                         ID        CREATED_DATE          BIRTH_DATE STATE  \\\n",
       "0  62C303AEBAA38D1A1F6D0D51 2022-07-04 15:13:50 1958-09-27 00:00:00    FL   \n",
       "1  62C303AEBAA38D1A1F6D0D51 2022-07-04 15:13:50 1958-09-27 00:00:00    FL   \n",
       "2  5FD4FB485F410D44BAE3A776 2020-12-12 17:18:00 1979-01-23 00:00:00    CA   \n",
       "3  5FD4FB485F410D44BAE3A776 2020-12-12 17:18:00 1979-01-23 00:00:00    CA   \n",
       "4  5B441360BE53340F289B0795 2018-07-10 02:01:04 1982-09-27 06:00:00    IL   \n",
       "\n",
       "  LANGUAGE  GENDER                            RECEIPT_ID PURCHASE_DATE  \\\n",
       "0       en  female  cdcc0ef0-9f72-45d4-aecf-701ce553f792    2024-06-12   \n",
       "1       en  female  cdcc0ef0-9f72-45d4-aecf-701ce553f792    2024-06-12   \n",
       "2   es-419  female  3c6b21b7-4f9e-4316-98e5-8842c5491871    2024-08-30   \n",
       "3   es-419  female  3c6b21b7-4f9e-4316-98e5-8842c5491871    2024-08-30   \n",
       "4       en  female  a7e6adf6-3dac-497f-90f1-7f371c639a1f    2024-07-22   \n",
       "\n",
       "                SCAN_DATE STORE_NAME  ...             CATEGORY_3  CATEGORY_4  \\\n",
       "0 2024-06-16 10:00:31.951    WALMART  ...      Donut Snack Cakes     Unknown   \n",
       "1 2024-06-16 10:00:31.951    WALMART  ...      Donut Snack Cakes     Unknown   \n",
       "2 2024-09-03 12:35:17.267     TARGET  ...  Hair Styling Products     Unknown   \n",
       "3 2024-09-03 12:35:17.267     TARGET  ...  Hair Styling Products     Unknown   \n",
       "4 2024-07-22 09:49:41.406     TARGET  ...              Body Wash     Unknown   \n",
       "\n",
       "   MANUFACTURER                 BRAND AGE MEMBERSHIP_DURATION TOTAL_SALE  \\\n",
       "0  WALMART INC.  FRESHNESS GUARANTEED  66                 944       2.99   \n",
       "1  WALMART INC.  FRESHNESS GUARANTEED  66                 944       3.24   \n",
       "2      UNILEVER              TRESEMMÉ  46                1513       5.98   \n",
       "3      UNILEVER              TRESEMMÉ  46                1513      29.16   \n",
       "4      UNILEVER                   AXE  42                2399       0.00   \n",
       "\n",
       "  PURCHASE_YEAR PURCHASE_MONTH  AGE_GROUP  \n",
       "0          2024              6        60+  \n",
       "1          2024              6        60+  \n",
       "2          2024              8      45-59  \n",
       "3          2024              8      45-59  \n",
       "4          2024              7      30-44  \n",
       "\n",
       "[5 rows x 25 columns]"
      ]
     },
     "execution_count": 1273,
     "metadata": {},
     "output_type": "execute_result"
    }
   ],
   "source": [
    "full_joined_data.head()"
   ]
  },
  {
   "cell_type": "code",
   "execution_count": 1275,
   "id": "a38d86be-68ea-40fd-a668-332062a77669",
   "metadata": {},
   "outputs": [
    {
     "data": {
      "text/plain": [
       "LANGUAGE\n",
       "en        96740\n",
       "es-419        4\n",
       "Name: count, dtype: int64"
      ]
     },
     "execution_count": 1275,
     "metadata": {},
     "output_type": "execute_result"
    }
   ],
   "source": [
    "full_joined_data.LANGUAGE.value_counts(dropna=False)"
   ]
  },
  {
   "cell_type": "code",
   "execution_count": 1277,
   "id": "92aef97e-74e0-4853-8e2e-3e7c077c476f",
   "metadata": {},
   "outputs": [],
   "source": [
    "full_joined_data['LANGUAGE'] = full_joined_data.LANGUAGE.map({'en':'English',\n",
    "                       'es-419':'Spanish'})"
   ]
  },
  {
   "cell_type": "code",
   "execution_count": 1279,
   "id": "0906f299-9aad-4768-8c5b-d50aa1746649",
   "metadata": {},
   "outputs": [
    {
     "data": {
      "text/plain": [
       "GENDER\n",
       "female    88670\n",
       "male       8074\n",
       "Name: count, dtype: int64"
      ]
     },
     "execution_count": 1279,
     "metadata": {},
     "output_type": "execute_result"
    }
   ],
   "source": [
    "full_joined_data.GENDER.value_counts(dropna=False)"
   ]
  },
  {
   "cell_type": "code",
   "execution_count": 1281,
   "id": "844043b1-df3a-40b3-b73f-6f6590203284",
   "metadata": {},
   "outputs": [
    {
     "data": {
      "text/html": [
       "<div>\n",
       "<style scoped>\n",
       "    .dataframe tbody tr th:only-of-type {\n",
       "        vertical-align: middle;\n",
       "    }\n",
       "\n",
       "    .dataframe tbody tr th {\n",
       "        vertical-align: top;\n",
       "    }\n",
       "\n",
       "    .dataframe thead th {\n",
       "        text-align: right;\n",
       "    }\n",
       "</style>\n",
       "<table border=\"1\" class=\"dataframe\">\n",
       "  <thead>\n",
       "    <tr style=\"text-align: right;\">\n",
       "      <th></th>\n",
       "      <th>ID</th>\n",
       "      <th>CREATED_DATE</th>\n",
       "      <th>BIRTH_DATE</th>\n",
       "      <th>STATE</th>\n",
       "      <th>LANGUAGE</th>\n",
       "      <th>GENDER</th>\n",
       "      <th>RECEIPT_ID</th>\n",
       "      <th>PURCHASE_DATE</th>\n",
       "      <th>SCAN_DATE</th>\n",
       "      <th>STORE_NAME</th>\n",
       "      <th>...</th>\n",
       "      <th>CATEGORY_3</th>\n",
       "      <th>CATEGORY_4</th>\n",
       "      <th>MANUFACTURER</th>\n",
       "      <th>BRAND</th>\n",
       "      <th>AGE</th>\n",
       "      <th>MEMBERSHIP_DURATION</th>\n",
       "      <th>TOTAL_SALE</th>\n",
       "      <th>PURCHASE_YEAR</th>\n",
       "      <th>PURCHASE_MONTH</th>\n",
       "      <th>AGE_GROUP</th>\n",
       "    </tr>\n",
       "  </thead>\n",
       "  <tbody>\n",
       "    <tr>\n",
       "      <th>0</th>\n",
       "      <td>62C303AEBAA38D1A1F6D0D51</td>\n",
       "      <td>2022-07-04 15:13:50</td>\n",
       "      <td>1958-09-27 00:00:00</td>\n",
       "      <td>FL</td>\n",
       "      <td>English</td>\n",
       "      <td>female</td>\n",
       "      <td>cdcc0ef0-9f72-45d4-aecf-701ce553f792</td>\n",
       "      <td>2024-06-12</td>\n",
       "      <td>2024-06-16 10:00:31.951</td>\n",
       "      <td>WALMART</td>\n",
       "      <td>...</td>\n",
       "      <td>Donut Snack Cakes</td>\n",
       "      <td>Unknown</td>\n",
       "      <td>WALMART INC.</td>\n",
       "      <td>FRESHNESS GUARANTEED</td>\n",
       "      <td>66</td>\n",
       "      <td>944</td>\n",
       "      <td>2.99</td>\n",
       "      <td>2024</td>\n",
       "      <td>6</td>\n",
       "      <td>60+</td>\n",
       "    </tr>\n",
       "    <tr>\n",
       "      <th>1</th>\n",
       "      <td>62C303AEBAA38D1A1F6D0D51</td>\n",
       "      <td>2022-07-04 15:13:50</td>\n",
       "      <td>1958-09-27 00:00:00</td>\n",
       "      <td>FL</td>\n",
       "      <td>English</td>\n",
       "      <td>female</td>\n",
       "      <td>cdcc0ef0-9f72-45d4-aecf-701ce553f792</td>\n",
       "      <td>2024-06-12</td>\n",
       "      <td>2024-06-16 10:00:31.951</td>\n",
       "      <td>WALMART</td>\n",
       "      <td>...</td>\n",
       "      <td>Donut Snack Cakes</td>\n",
       "      <td>Unknown</td>\n",
       "      <td>WALMART INC.</td>\n",
       "      <td>FRESHNESS GUARANTEED</td>\n",
       "      <td>66</td>\n",
       "      <td>944</td>\n",
       "      <td>3.24</td>\n",
       "      <td>2024</td>\n",
       "      <td>6</td>\n",
       "      <td>60+</td>\n",
       "    </tr>\n",
       "    <tr>\n",
       "      <th>2</th>\n",
       "      <td>5FD4FB485F410D44BAE3A776</td>\n",
       "      <td>2020-12-12 17:18:00</td>\n",
       "      <td>1979-01-23 00:00:00</td>\n",
       "      <td>CA</td>\n",
       "      <td>Spanish</td>\n",
       "      <td>female</td>\n",
       "      <td>3c6b21b7-4f9e-4316-98e5-8842c5491871</td>\n",
       "      <td>2024-08-30</td>\n",
       "      <td>2024-09-03 12:35:17.267</td>\n",
       "      <td>TARGET</td>\n",
       "      <td>...</td>\n",
       "      <td>Hair Styling Products</td>\n",
       "      <td>Unknown</td>\n",
       "      <td>UNILEVER</td>\n",
       "      <td>TRESEMMÉ</td>\n",
       "      <td>46</td>\n",
       "      <td>1513</td>\n",
       "      <td>5.98</td>\n",
       "      <td>2024</td>\n",
       "      <td>8</td>\n",
       "      <td>45-59</td>\n",
       "    </tr>\n",
       "    <tr>\n",
       "      <th>3</th>\n",
       "      <td>5FD4FB485F410D44BAE3A776</td>\n",
       "      <td>2020-12-12 17:18:00</td>\n",
       "      <td>1979-01-23 00:00:00</td>\n",
       "      <td>CA</td>\n",
       "      <td>Spanish</td>\n",
       "      <td>female</td>\n",
       "      <td>3c6b21b7-4f9e-4316-98e5-8842c5491871</td>\n",
       "      <td>2024-08-30</td>\n",
       "      <td>2024-09-03 12:35:17.267</td>\n",
       "      <td>TARGET</td>\n",
       "      <td>...</td>\n",
       "      <td>Hair Styling Products</td>\n",
       "      <td>Unknown</td>\n",
       "      <td>UNILEVER</td>\n",
       "      <td>TRESEMMÉ</td>\n",
       "      <td>46</td>\n",
       "      <td>1513</td>\n",
       "      <td>29.16</td>\n",
       "      <td>2024</td>\n",
       "      <td>8</td>\n",
       "      <td>45-59</td>\n",
       "    </tr>\n",
       "    <tr>\n",
       "      <th>4</th>\n",
       "      <td>5B441360BE53340F289B0795</td>\n",
       "      <td>2018-07-10 02:01:04</td>\n",
       "      <td>1982-09-27 06:00:00</td>\n",
       "      <td>IL</td>\n",
       "      <td>English</td>\n",
       "      <td>female</td>\n",
       "      <td>a7e6adf6-3dac-497f-90f1-7f371c639a1f</td>\n",
       "      <td>2024-07-22</td>\n",
       "      <td>2024-07-22 09:49:41.406</td>\n",
       "      <td>TARGET</td>\n",
       "      <td>...</td>\n",
       "      <td>Body Wash</td>\n",
       "      <td>Unknown</td>\n",
       "      <td>UNILEVER</td>\n",
       "      <td>AXE</td>\n",
       "      <td>42</td>\n",
       "      <td>2399</td>\n",
       "      <td>0.00</td>\n",
       "      <td>2024</td>\n",
       "      <td>7</td>\n",
       "      <td>30-44</td>\n",
       "    </tr>\n",
       "  </tbody>\n",
       "</table>\n",
       "<p>5 rows × 25 columns</p>\n",
       "</div>"
      ],
      "text/plain": [
       "                         ID        CREATED_DATE          BIRTH_DATE STATE  \\\n",
       "0  62C303AEBAA38D1A1F6D0D51 2022-07-04 15:13:50 1958-09-27 00:00:00    FL   \n",
       "1  62C303AEBAA38D1A1F6D0D51 2022-07-04 15:13:50 1958-09-27 00:00:00    FL   \n",
       "2  5FD4FB485F410D44BAE3A776 2020-12-12 17:18:00 1979-01-23 00:00:00    CA   \n",
       "3  5FD4FB485F410D44BAE3A776 2020-12-12 17:18:00 1979-01-23 00:00:00    CA   \n",
       "4  5B441360BE53340F289B0795 2018-07-10 02:01:04 1982-09-27 06:00:00    IL   \n",
       "\n",
       "  LANGUAGE  GENDER                            RECEIPT_ID PURCHASE_DATE  \\\n",
       "0  English  female  cdcc0ef0-9f72-45d4-aecf-701ce553f792    2024-06-12   \n",
       "1  English  female  cdcc0ef0-9f72-45d4-aecf-701ce553f792    2024-06-12   \n",
       "2  Spanish  female  3c6b21b7-4f9e-4316-98e5-8842c5491871    2024-08-30   \n",
       "3  Spanish  female  3c6b21b7-4f9e-4316-98e5-8842c5491871    2024-08-30   \n",
       "4  English  female  a7e6adf6-3dac-497f-90f1-7f371c639a1f    2024-07-22   \n",
       "\n",
       "                SCAN_DATE STORE_NAME  ...             CATEGORY_3  CATEGORY_4  \\\n",
       "0 2024-06-16 10:00:31.951    WALMART  ...      Donut Snack Cakes     Unknown   \n",
       "1 2024-06-16 10:00:31.951    WALMART  ...      Donut Snack Cakes     Unknown   \n",
       "2 2024-09-03 12:35:17.267     TARGET  ...  Hair Styling Products     Unknown   \n",
       "3 2024-09-03 12:35:17.267     TARGET  ...  Hair Styling Products     Unknown   \n",
       "4 2024-07-22 09:49:41.406     TARGET  ...              Body Wash     Unknown   \n",
       "\n",
       "   MANUFACTURER                 BRAND AGE MEMBERSHIP_DURATION TOTAL_SALE  \\\n",
       "0  WALMART INC.  FRESHNESS GUARANTEED  66                 944       2.99   \n",
       "1  WALMART INC.  FRESHNESS GUARANTEED  66                 944       3.24   \n",
       "2      UNILEVER              TRESEMMÉ  46                1513       5.98   \n",
       "3      UNILEVER              TRESEMMÉ  46                1513      29.16   \n",
       "4      UNILEVER                   AXE  42                2399       0.00   \n",
       "\n",
       "  PURCHASE_YEAR PURCHASE_MONTH  AGE_GROUP  \n",
       "0          2024              6        60+  \n",
       "1          2024              6        60+  \n",
       "2          2024              8      45-59  \n",
       "3          2024              8      45-59  \n",
       "4          2024              7      30-44  \n",
       "\n",
       "[5 rows x 25 columns]"
      ]
     },
     "execution_count": 1281,
     "metadata": {},
     "output_type": "execute_result"
    }
   ],
   "source": [
    "full_joined_data.head()"
   ]
  },
  {
   "cell_type": "markdown",
   "id": "3ad7cf57-4cda-4364-a23c-c7425030b60a",
   "metadata": {},
   "source": [
    "#### Are there any data quality issues present?\n",
    "#### Are there any fields that are challenging to understand?\n",
    "\n",
    "CATEGORY_3 & CATEGORY_4:\n",
    "High percentage of missing values makes these features difficult to interpret.\n",
    "Their purpose and hierarchy in relation to CATEGORY_1 and CATEGORY_2 are unclear.\n",
    "\n",
    "FINAL_SALE vs TOTAL_SALE:\n",
    "Ambiguity regarding whether FINAL_SALE is per unit or aggregated, especially with extreme outliers present.\n",
    "\n",
    "AGE Calculation:\n",
    "Some unrealistic ages may exist due to incorrect BIRTH_DATE entries.\n",
    "\n",
    "BARCODE Field:\n",
    "The uniqueness and format of BARCODE values are inconsistent, with varying lengths."
   ]
  },
  {
   "cell_type": "code",
   "execution_count": 1283,
   "id": "32ac8363-a49e-4b08-96e7-4ffb7ba19c71",
   "metadata": {},
   "outputs": [
    {
     "data": {
      "text/plain": [
       "50.335586703051355"
      ]
     },
     "execution_count": 1283,
     "metadata": {},
     "output_type": "execute_result"
    }
   ],
   "source": [
    "full_joined_data.AGE.mean()"
   ]
  },
  {
   "cell_type": "code",
   "execution_count": 1285,
   "id": "5940aecf-549a-4359-81da-06ccd73c4459",
   "metadata": {},
   "outputs": [
    {
     "data": {
      "text/plain": [
       "13.560825977033343"
      ]
     },
     "execution_count": 1285,
     "metadata": {},
     "output_type": "execute_result"
    }
   ],
   "source": [
    "full_joined_data.AGE.std()"
   ]
  },
  {
   "cell_type": "code",
   "execution_count": 712,
   "id": "197478cc-2778-4e5b-9d04-989a39d089d6",
   "metadata": {},
   "outputs": [],
   "source": [
    "######################################################################\n",
    "############## Part V - EDA\n",
    "######################################################################"
   ]
  },
  {
   "cell_type": "code",
   "execution_count": 1287,
   "id": "5c1d76f8-cff2-488d-9a29-eed2db172d8d",
   "metadata": {},
   "outputs": [
    {
     "data": {
      "text/plain": [
       "Text(0, 0.5, 'Age Ratio')"
      ]
     },
     "execution_count": 1287,
     "metadata": {},
     "output_type": "execute_result"
    },
    {
     "data": {
      "image/png": "[encoded data removed]",
      "text/plain": [
       "<Figure size 2000x700 with 1 Axes>"
      ]
     },
     "metadata": {},
     "output_type": "display_data"
    }
   ],
   "source": [
    "full_joined_data['AGE'].plot(legend=True,figsize=(20,7),marker='o',markerfacecolor='red',color='black',markersize=10)\n",
    "\n",
    "plt.title('Age Distribution')\n",
    "\n",
    "plt.xlabel('Number of Customers')\n",
    "\n",
    "plt.ylabel('Age Ratio')\n",
    "\n",
    "\n",
    "#### seems like the mean is between 60-70"
   ]
  },
  {
   "cell_type": "code",
   "execution_count": 1289,
   "id": "7a9eca50-1705-44d4-9712-97594b597e76",
   "metadata": {},
   "outputs": [],
   "source": [
    "mean_df = full_joined_data.AGE.mean()\n",
    "std_df = full_joined_data.AGE.std()"
   ]
  },
  {
   "cell_type": "code",
   "execution_count": 1291,
   "id": "ecc56661-b76e-4d4e-804d-95d8448cbdff",
   "metadata": {},
   "outputs": [
    {
     "data": {
      "text/plain": [
       "<matplotlib.legend.Legend at 0x221202fb770>"
      ]
     },
     "execution_count": 1291,
     "metadata": {},
     "output_type": "execute_result"
    },
    {
     "data": {
      "image/png": "[encoded data removed]",
      "text/plain": [
       "<Figure size 2000x700 with 1 Axes>"
      ]
     },
     "metadata": {},
     "output_type": "display_data"
    }
   ],
   "source": [
    "#### Comprehensive time\n",
    "\n",
    "from scipy.stats import norm\n",
    "\n",
    "x = np.linspace(mean_df - 4*std_df, mean_df + 4*std_df, 1000)\n",
    "y = norm.pdf(x, mean_df, std_df)\n",
    "\n",
    "#### plot\n",
    "plt.figure(figsize=(20, 7))\n",
    "\n",
    "#### normal distribution curve\n",
    "plt.plot(x, y, label='Normal Distribution')\n",
    "\n",
    "#### areas under the curve\n",
    "plt.fill_between(x, y, where=(x >= mean_df - std_df) & (x <= mean_df + std_df), color='green', alpha=0.2, label='68%')\n",
    "plt.fill_between(x, y, where=(x >= mean_df - 2*std_df) & (x <= mean_df + 2*std_df), color='orange', alpha=0.2, label='95%')\n",
    "plt.fill_between(x, y, where=(x >= mean_df - 3*std_df) & (x <= mean_df + 3*std_df), color='yellow', alpha=0.2, label='99.7%')\n",
    "\n",
    "#### mean and standard deviations\n",
    "plt.axvline(mean_df, color='black', linestyle='dashed', linewidth=1)\n",
    "plt.axvline(mean_df - std_df, color='red', linestyle='dashed', linewidth=1)\n",
    "plt.axvline(mean_df + std_df, color='red', linestyle='dashed', linewidth=1)\n",
    "plt.axvline(mean_df - 2*std_df, color='orange', linestyle='dashed', linewidth=1)\n",
    "plt.axvline(mean_df + 2*std_df, color='orange', linestyle='dashed', linewidth=1)\n",
    "plt.axvline(mean_df - 3*std_df, color='yellow', linestyle='dashed', linewidth=1)\n",
    "plt.axvline(mean_df + 3*std_df, color='yellow', linestyle='dashed', linewidth=1)\n",
    "\n",
    "plt.text(mean_df, plt.gca().get_ylim()[1]*0.9, f'Mean: {mean_df:.2f}', horizontalalignment='center', fontsize=12, verticalalignment='bottom', color='black')\n",
    "plt.text(mean_df + std_df, plt.gca().get_ylim()[1]*0.05, f'z=1    {mean_df + std_df:.2f}', horizontalalignment='center', fontsize=12, verticalalignment='bottom', color='black')\n",
    "plt.text(mean_df - std_df, plt.gca().get_ylim()[1]*0.05, f'z=-1   {mean_df - std_df:.2f}', horizontalalignment='center', fontsize=12, verticalalignment='bottom', color='black')\n",
    "plt.text(mean_df + 2*std_df, plt.gca().get_ylim()[1]*0.05, f'z=2  {mean_df + 2*std_df:.2f}', horizontalalignment='center', fontsize=12, verticalalignment='bottom', color='black')\n",
    "plt.text(mean_df - 2*std_df, plt.gca().get_ylim()[1]*0.05, f'z=-2 {mean_df - 2*std_df:.2f}', horizontalalignment='center', fontsize=12, verticalalignment='bottom', color='black')\n",
    "plt.text(mean_df + 3*std_df, plt.gca().get_ylim()[1]*0.05, f'z=3  {mean_df + 3*std_df:.2f}', horizontalalignment='center', fontsize=12, verticalalignment='bottom', color='black')\n",
    "plt.text(mean_df - 3*std_df, plt.gca().get_ylim()[1]*0.05, f'z=-3 {mean_df - 3*std_df:.2f}', horizontalalignment='center', fontsize=12, verticalalignment='bottom', color='black')\n",
    "\n",
    "\n",
    "#### annotate the plot\n",
    "plt.text(mean_df, max(y), 'Mean', horizontalalignment='center', fontsize=12, verticalalignment='bottom', color='black')\n",
    "plt.text(mean_df - std_df, max(y), '-1σ', horizontalalignment='center', fontsize=12, verticalalignment='bottom', color='black')\n",
    "plt.text(mean_df + std_df, max(y), '+1σ', horizontalalignment='center', fontsize=12, verticalalignment='bottom', color='black')\n",
    "plt.text(mean_df - 2*std_df, max(y), '-2σ', horizontalalignment='center', fontsize=12, verticalalignment='bottom', color='black')\n",
    "plt.text(mean_df + 2*std_df, max(y), '+2σ', horizontalalignment='center', fontsize=12, verticalalignment='bottom', color='black')\n",
    "plt.text(mean_df - 3*std_df, max(y), '-3σ', horizontalalignment='center', fontsize=12, verticalalignment='bottom', color='black')\n",
    "plt.text(mean_df + 3*std_df, max(y), '+3σ', horizontalalignment='center', fontsize=12, verticalalignment='bottom', color='black')\n",
    "\n",
    "#### labels\n",
    "plt.title('Age distribution')\n",
    "plt.xlabel('Age')\n",
    "plt.ylabel('Probability Density')\n",
    "\n",
    "plt.legend()\n",
    "\n",
    "\n",
    "#### from here we can clearly see all 3 levels of z_score either side and mean in the middle"
   ]
  },
  {
   "cell_type": "code",
   "execution_count": 1293,
   "id": "7d9a1496-19f7-4b3b-a780-de4349140706",
   "metadata": {},
   "outputs": [
    {
     "data": {
      "text/plain": [
       "50.335586703051355"
      ]
     },
     "execution_count": 1293,
     "metadata": {},
     "output_type": "execute_result"
    }
   ],
   "source": [
    "full_joined_data.AGE.mean()"
   ]
  },
  {
   "cell_type": "code",
   "execution_count": 1295,
   "id": "48d36552-9d7a-41a8-8731-df586320479c",
   "metadata": {},
   "outputs": [
    {
     "data": {
      "text/plain": [
       "13.560825977033343"
      ]
     },
     "execution_count": 1295,
     "metadata": {},
     "output_type": "execute_result"
    }
   ],
   "source": [
    "full_joined_data.AGE.std()"
   ]
  },
  {
   "cell_type": "code",
   "execution_count": 1297,
   "id": "4ed351d9-736a-4a65-b10e-c943c25ae8c8",
   "metadata": {},
   "outputs": [
    {
     "data": {
      "text/plain": [
       "<seaborn.axisgrid.FacetGrid at 0x2208c2de8a0>"
      ]
     },
     "execution_count": 1297,
     "metadata": {},
     "output_type": "execute_result"
    },
    {
     "data": {
      "image/png": "[encoded data removed]",
      "text/plain": [
       "<Figure size 1491.88x700 with 1 Axes>"
      ]
     },
     "metadata": {},
     "output_type": "display_data"
    }
   ],
   "source": [
    "custom = {'female':'pink',\n",
    "          'male':'grey'}\n",
    "\n",
    "sns.catplot(y='AGE',data=full_joined_data,kind='box',height=7,aspect=2,legend=True,hue='GENDER',palette=custom)\n",
    "\n",
    "#### We dont see much outliers here honestly, lets confirm by using Stats and higher and lower fence method"
   ]
  },
  {
   "cell_type": "code",
   "execution_count": 1299,
   "id": "73366c2c-c497-41f3-8393-74f1a976041a",
   "metadata": {},
   "outputs": [
    {
     "data": {
      "text/plain": [
       "GENDER\n",
       "female    88670\n",
       "male       8074\n",
       "Name: count, dtype: int64"
      ]
     },
     "execution_count": 1299,
     "metadata": {},
     "output_type": "execute_result"
    }
   ],
   "source": [
    "full_joined_data.GENDER.value_counts(dropna=False)"
   ]
  },
  {
   "cell_type": "code",
   "execution_count": 1301,
   "id": "40ae5058-6b8f-4ce2-a359-b7ba893fffd4",
   "metadata": {},
   "outputs": [
    {
     "data": {
      "text/plain": [
       "(8.125, 93.125)"
      ]
     },
     "execution_count": 1301,
     "metadata": {},
     "output_type": "execute_result"
    }
   ],
   "source": [
    "# Identifying outliers in the AGE column using IQR (Interquartile Range)\n",
    "\n",
    "# Calculate Q1 (25th percentile) and Q3 (75th percentile)\n",
    "Q1 = full_joined_data['AGE'].quantile(0.25)\n",
    "Q3 = full_joined_data['AGE'].quantile(0.75)\n",
    "IQR = Q3 - Q1\n",
    "\n",
    "# Calculate lower and upper fences\n",
    "lower_fence = Q1 - 1.5 * IQR\n",
    "upper_fence = Q3 + 1.5 * IQR\n",
    "\n",
    "lower_fence, upper_fence"
   ]
  },
  {
   "cell_type": "code",
   "execution_count": 1303,
   "id": "19ea674f-6714-410f-8db2-ba3d0381b173",
   "metadata": {},
   "outputs": [
    {
     "data": {
      "text/plain": [
       "27"
      ]
     },
     "execution_count": 1303,
     "metadata": {},
     "output_type": "execute_result"
    }
   ],
   "source": [
    "#### Anything which doesnt fall under this fence is regarded as outliers\n",
    "\n",
    "full_joined_data.AGE.min()"
   ]
  },
  {
   "cell_type": "code",
   "execution_count": 1305,
   "id": "4d833af0-6442-4321-a483-5693a1a9865b",
   "metadata": {},
   "outputs": [
    {
     "data": {
      "text/plain": [
       "81"
      ]
     },
     "execution_count": 1305,
     "metadata": {},
     "output_type": "execute_result"
    }
   ],
   "source": [
    "full_joined_data.AGE.max()                 #### Box plot was right about this and we do not have any outliers here"
   ]
  },
  {
   "cell_type": "code",
   "execution_count": 1307,
   "id": "577b3551-e277-458e-801b-4308b8422bf6",
   "metadata": {},
   "outputs": [
    {
     "data": {
      "text/html": [
       "<div>\n",
       "<style scoped>\n",
       "    .dataframe tbody tr th:only-of-type {\n",
       "        vertical-align: middle;\n",
       "    }\n",
       "\n",
       "    .dataframe tbody tr th {\n",
       "        vertical-align: top;\n",
       "    }\n",
       "\n",
       "    .dataframe thead th {\n",
       "        text-align: right;\n",
       "    }\n",
       "</style>\n",
       "<table border=\"1\" class=\"dataframe\">\n",
       "  <thead>\n",
       "    <tr style=\"text-align: right;\">\n",
       "      <th></th>\n",
       "      <th>BRAND</th>\n",
       "      <th>Total_Receipts</th>\n",
       "    </tr>\n",
       "  </thead>\n",
       "  <tbody>\n",
       "    <tr>\n",
       "      <th>0</th>\n",
       "      <td>Unknown</td>\n",
       "      <td>14</td>\n",
       "    </tr>\n",
       "    <tr>\n",
       "      <th>1</th>\n",
       "      <td>NERDS CANDY</td>\n",
       "      <td>14</td>\n",
       "    </tr>\n",
       "    <tr>\n",
       "      <th>2</th>\n",
       "      <td>DOVE</td>\n",
       "      <td>14</td>\n",
       "    </tr>\n",
       "    <tr>\n",
       "      <th>3</th>\n",
       "      <td>SOUR PATCH KIDS</td>\n",
       "      <td>13</td>\n",
       "    </tr>\n",
       "    <tr>\n",
       "      <th>4</th>\n",
       "      <td>HERSHEY'S</td>\n",
       "      <td>13</td>\n",
       "    </tr>\n",
       "  </tbody>\n",
       "</table>\n",
       "</div>"
      ],
      "text/plain": [
       "             BRAND  Total_Receipts\n",
       "0          Unknown              14\n",
       "1      NERDS CANDY              14\n",
       "2             DOVE              14\n",
       "3  SOUR PATCH KIDS              13\n",
       "4        HERSHEY'S              13"
      ]
     },
     "execution_count": 1307,
     "metadata": {},
     "output_type": "execute_result"
    }
   ],
   "source": [
    "# Re-create the GENERATION column in the DataFrame\n",
    "def categorize_generation(age):\n",
    "    if pd.isnull(age):\n",
    "        return 'Unknown'\n",
    "    elif age >= 77:\n",
    "        return 'Silent Generation'\n",
    "    elif 58 <= age < 77:\n",
    "        return 'Baby Boomers'\n",
    "    elif 42 <= age < 58:\n",
    "        return 'Gen X'\n",
    "    elif 26 <= age < 42:\n",
    "        return 'Millennials'\n",
    "    elif 10 <= age < 26:\n",
    "        return 'Gen Z'\n",
    "    else:\n",
    "        return 'Gen Alpha'\n",
    "\n",
    "full_joined_data['GENERATION'] = full_joined_data['AGE'].apply(categorize_generation)\n",
    "\n",
    "# Reload the DataFrame into the SQLite database\n",
    "# Using SQLite to run SQL queries in Python\n",
    "import sqlite3\n",
    "\n",
    "# Create an in-memory SQLite database\n",
    "conn = sqlite3.connect(':memory:')\n",
    "\n",
    "# Load the DataFrame into the SQLite database\n",
    "full_joined_data.to_sql('full_data', conn, index=False, if_exists='replace')\n",
    "\n",
    "# 1. Top 5 brands by receipts scanned among users 21 and over\n",
    "query1 = \"\"\"\n",
    "SELECT BRAND, COUNT(DISTINCT RECEIPT_ID) AS Total_Receipts\n",
    "FROM full_data\n",
    "WHERE AGE >= 21\n",
    "GROUP BY BRAND\n",
    "ORDER BY Total_Receipts DESC\n",
    "LIMIT 5;\n",
    "\"\"\"\n",
    "\n",
    "# 2. Top 5 brands by sales among users with accounts older than six months\n",
    "query2 = \"\"\"\n",
    "SELECT BRAND, SUM(TOTAL_SALE) AS TOTAL_SALE\n",
    "FROM full_data\n",
    "WHERE MEMBERSHIP_DURATION >= 180\n",
    "GROUP BY BRAND\n",
    "ORDER BY TOTAL_SALE DESC\n",
    "LIMIT 5;\n",
    "\"\"\"\n",
    "\n",
    "# 3. Percentage of sales in the Health & Wellness category by generation\n",
    "query3 = \"\"\"\n",
    "SELECT GENERATION, \n",
    "       SUM(TOTAL_SALE) AS TOTAL_SALE,\n",
    "       ROUND(100.0 * SUM(TOTAL_SALE) / (SELECT SUM(TOTAL_SALE) \n",
    "                                        FROM full_data \n",
    "                                        WHERE CATEGORY_1 = 'Health & Wellness'), 2) AS PERCENTAGE_SALES\n",
    "FROM full_data\n",
    "WHERE CATEGORY_1 = 'Health & Wellness'\n",
    "GROUP BY GENERATION\n",
    "ORDER BY TOTAL_SALE DESC;\n",
    "\"\"\"\n",
    "\n",
    "# Execute the queries\n",
    "top_brands_receipts_21_plus_sql = pd.read_sql_query(query1, conn)\n",
    "top_brands_sales_six_months_sql = pd.read_sql_query(query2, conn)\n",
    "generation_sales_sql = pd.read_sql_query(query3, conn)\n",
    "\n",
    "# Close the connection\n",
    "conn.close()\n",
    "\n",
    "top_brands_receipts_21_plus_sql\n"
   ]
  },
  {
   "cell_type": "code",
   "execution_count": 1309,
   "id": "9c0515c0-621c-4cee-ae7f-324a3d13c8e6",
   "metadata": {},
   "outputs": [
    {
     "data": {
      "text/html": [
       "<div>\n",
       "<style scoped>\n",
       "    .dataframe tbody tr th:only-of-type {\n",
       "        vertical-align: middle;\n",
       "    }\n",
       "\n",
       "    .dataframe tbody tr th {\n",
       "        vertical-align: top;\n",
       "    }\n",
       "\n",
       "    .dataframe thead th {\n",
       "        text-align: right;\n",
       "    }\n",
       "</style>\n",
       "<table border=\"1\" class=\"dataframe\">\n",
       "  <thead>\n",
       "    <tr style=\"text-align: right;\">\n",
       "      <th></th>\n",
       "      <th>BRAND</th>\n",
       "      <th>TOTAL_SALE</th>\n",
       "    </tr>\n",
       "  </thead>\n",
       "  <tbody>\n",
       "    <tr>\n",
       "      <th>0</th>\n",
       "      <td>Unknown</td>\n",
       "      <td>18861.75</td>\n",
       "    </tr>\n",
       "    <tr>\n",
       "      <th>1</th>\n",
       "      <td>COCA-COLA</td>\n",
       "      <td>1992.31</td>\n",
       "    </tr>\n",
       "    <tr>\n",
       "      <th>2</th>\n",
       "      <td>ANNIE'S HOMEGROWN GROCERY</td>\n",
       "      <td>1831.20</td>\n",
       "    </tr>\n",
       "    <tr>\n",
       "      <th>3</th>\n",
       "      <td>DOVE</td>\n",
       "      <td>1791.79</td>\n",
       "    </tr>\n",
       "    <tr>\n",
       "      <th>4</th>\n",
       "      <td>BAREFOOT</td>\n",
       "      <td>1754.90</td>\n",
       "    </tr>\n",
       "  </tbody>\n",
       "</table>\n",
       "</div>"
      ],
      "text/plain": [
       "                       BRAND  TOTAL_SALE\n",
       "0                    Unknown    18861.75\n",
       "1                  COCA-COLA     1992.31\n",
       "2  ANNIE'S HOMEGROWN GROCERY     1831.20\n",
       "3                       DOVE     1791.79\n",
       "4                   BAREFOOT     1754.90"
      ]
     },
     "execution_count": 1309,
     "metadata": {},
     "output_type": "execute_result"
    }
   ],
   "source": [
    "top_brands_sales_six_months_sql"
   ]
  },
  {
   "cell_type": "code",
   "execution_count": 1311,
   "id": "ba948f8e-5bc7-4fb9-bb33-96eb5b163a7a",
   "metadata": {},
   "outputs": [
    {
     "data": {
      "text/html": [
       "<div>\n",
       "<style scoped>\n",
       "    .dataframe tbody tr th:only-of-type {\n",
       "        vertical-align: middle;\n",
       "    }\n",
       "\n",
       "    .dataframe tbody tr th {\n",
       "        vertical-align: top;\n",
       "    }\n",
       "\n",
       "    .dataframe thead th {\n",
       "        text-align: right;\n",
       "    }\n",
       "</style>\n",
       "<table border=\"1\" class=\"dataframe\">\n",
       "  <thead>\n",
       "    <tr style=\"text-align: right;\">\n",
       "      <th></th>\n",
       "      <th>GENERATION</th>\n",
       "      <th>TOTAL_SALE</th>\n",
       "      <th>PERCENTAGE_SALES</th>\n",
       "    </tr>\n",
       "  </thead>\n",
       "  <tbody>\n",
       "    <tr>\n",
       "      <th>0</th>\n",
       "      <td>Millennials</td>\n",
       "      <td>93208.66</td>\n",
       "      <td>52.91</td>\n",
       "    </tr>\n",
       "    <tr>\n",
       "      <th>1</th>\n",
       "      <td>Baby Boomers</td>\n",
       "      <td>55240.85</td>\n",
       "      <td>31.36</td>\n",
       "    </tr>\n",
       "    <tr>\n",
       "      <th>2</th>\n",
       "      <td>Gen X</td>\n",
       "      <td>27705.30</td>\n",
       "      <td>15.73</td>\n",
       "    </tr>\n",
       "  </tbody>\n",
       "</table>\n",
       "</div>"
      ],
      "text/plain": [
       "     GENERATION  TOTAL_SALE  PERCENTAGE_SALES\n",
       "0   Millennials    93208.66             52.91\n",
       "1  Baby Boomers    55240.85             31.36\n",
       "2         Gen X    27705.30             15.73"
      ]
     },
     "execution_count": 1311,
     "metadata": {},
     "output_type": "execute_result"
    }
   ],
   "source": [
    "generation_sales_sql"
   ]
  },
  {
   "cell_type": "code",
   "execution_count": 1313,
   "id": "9863fd38-6006-484a-88cd-cb9bac93dc59",
   "metadata": {},
   "outputs": [
    {
     "data": {
      "text/html": [
       "<div>\n",
       "<style scoped>\n",
       "    .dataframe tbody tr th:only-of-type {\n",
       "        vertical-align: middle;\n",
       "    }\n",
       "\n",
       "    .dataframe tbody tr th {\n",
       "        vertical-align: top;\n",
       "    }\n",
       "\n",
       "    .dataframe thead th {\n",
       "        text-align: right;\n",
       "    }\n",
       "</style>\n",
       "<table border=\"1\" class=\"dataframe\">\n",
       "  <thead>\n",
       "    <tr style=\"text-align: right;\">\n",
       "      <th></th>\n",
       "      <th>ID</th>\n",
       "      <th>Total_Receipts</th>\n",
       "      <th>Total_Spend</th>\n",
       "    </tr>\n",
       "  </thead>\n",
       "  <tbody>\n",
       "    <tr>\n",
       "      <th>0</th>\n",
       "      <td>610A8541CA1FAB5B417B5D33</td>\n",
       "      <td>3</td>\n",
       "      <td>17276.92</td>\n",
       "    </tr>\n",
       "    <tr>\n",
       "      <th>1</th>\n",
       "      <td>6528A0A388A3A884364D94DC</td>\n",
       "      <td>3</td>\n",
       "      <td>6.25</td>\n",
       "    </tr>\n",
       "    <tr>\n",
       "      <th>2</th>\n",
       "      <td>64DD9170516348066E7C4006</td>\n",
       "      <td>2</td>\n",
       "      <td>5204.22</td>\n",
       "    </tr>\n",
       "    <tr>\n",
       "      <th>3</th>\n",
       "      <td>62FFEC490D9DBAFF18C0A999</td>\n",
       "      <td>2</td>\n",
       "      <td>23.36</td>\n",
       "    </tr>\n",
       "    <tr>\n",
       "      <th>4</th>\n",
       "      <td>5B441360BE53340F289B0795</td>\n",
       "      <td>2</td>\n",
       "      <td>13.32</td>\n",
       "    </tr>\n",
       "  </tbody>\n",
       "</table>\n",
       "</div>"
      ],
      "text/plain": [
       "                         ID  Total_Receipts  Total_Spend\n",
       "0  610A8541CA1FAB5B417B5D33               3     17276.92\n",
       "1  6528A0A388A3A884364D94DC               3         6.25\n",
       "2  64DD9170516348066E7C4006               2      5204.22\n",
       "3  62FFEC490D9DBAFF18C0A999               2        23.36\n",
       "4  5B441360BE53340F289B0795               2        13.32"
      ]
     },
     "execution_count": 1313,
     "metadata": {},
     "output_type": "execute_result"
    }
   ],
   "source": [
    "# Re-create SQLite connection\n",
    "conn = sqlite3.connect(':memory:')\n",
    "full_joined_data.to_sql('full_data', conn, index=False, if_exists='replace')\n",
    "\n",
    "# 1. Fetch’s Power Users (based on purchase frequency and total spending)\n",
    "query_power_users = \"\"\"\n",
    "SELECT ID, \n",
    "       COUNT(DISTINCT RECEIPT_ID) AS Total_Receipts, \n",
    "       SUM(TOTAL_SALE) AS Total_Spend\n",
    "FROM full_data\n",
    "GROUP BY ID\n",
    "ORDER BY Total_Receipts DESC, Total_Spend DESC\n",
    "LIMIT 5;\n",
    "\"\"\"\n",
    "\n",
    "# 2. Leading Brand in the Dips & Salsa Category\n",
    "query_leading_brand_dips_salsa = \"\"\"\n",
    "SELECT BRAND, \n",
    "       SUM(TOTAL_SALE) AS TOTAL_SALE\n",
    "FROM full_data\n",
    "WHERE CATEGORY_2 LIKE '%Dips & Salsa%'\n",
    "GROUP BY BRAND\n",
    "ORDER BY TOTAL_SALE DESC\n",
    "LIMIT 1;\n",
    "\"\"\"\n",
    "\n",
    "# 3. Year-over-Year Growth of Fetch\n",
    "query_yoy_growth = \"\"\"\n",
    "SELECT STRFTIME('%Y', PURCHASE_DATE) AS YEAR,\n",
    "       ROUND((SUM(TOTAL_SALE) - LAG(SUM(TOTAL_SALE)) OVER (ORDER BY STRFTIME('%Y', PURCHASE_DATE))) \n",
    "       * 100.0 / LAG(SUM(TOTAL_SALE)) OVER (ORDER BY STRFTIME('%Y', PURCHASE_DATE)), 2) AS YOY_GROWTH\n",
    "FROM full_data\n",
    "GROUP BY YEAR\n",
    "ORDER BY YEAR;\n",
    "\"\"\"\n",
    "\n",
    "# Execute queries\n",
    "power_users_sql = pd.read_sql_query(query_power_users, conn)\n",
    "leading_brand_dips_salsa_sql = pd.read_sql_query(query_leading_brand_dips_salsa, conn)\n",
    "yoy_growth_sql = pd.read_sql_query(query_yoy_growth, conn)\n",
    "\n",
    "# Close connection\n",
    "conn.close()\n",
    "\n",
    "power_users_sql\n"
   ]
  },
  {
   "cell_type": "code",
   "execution_count": 1315,
   "id": "2edf63cf-4ea6-4548-bff7-6d844088c01c",
   "metadata": {},
   "outputs": [
    {
     "data": {
      "text/html": [
       "<div>\n",
       "<style scoped>\n",
       "    .dataframe tbody tr th:only-of-type {\n",
       "        vertical-align: middle;\n",
       "    }\n",
       "\n",
       "    .dataframe tbody tr th {\n",
       "        vertical-align: top;\n",
       "    }\n",
       "\n",
       "    .dataframe thead th {\n",
       "        text-align: right;\n",
       "    }\n",
       "</style>\n",
       "<table border=\"1\" class=\"dataframe\">\n",
       "  <thead>\n",
       "    <tr style=\"text-align: right;\">\n",
       "      <th></th>\n",
       "      <th>BRAND</th>\n",
       "      <th>TOTAL_SALE</th>\n",
       "    </tr>\n",
       "  </thead>\n",
       "  <tbody>\n",
       "    <tr>\n",
       "      <th>0</th>\n",
       "      <td>Unknown</td>\n",
       "      <td>839.3</td>\n",
       "    </tr>\n",
       "  </tbody>\n",
       "</table>\n",
       "</div>"
      ],
      "text/plain": [
       "     BRAND  TOTAL_SALE\n",
       "0  Unknown       839.3"
      ]
     },
     "execution_count": 1315,
     "metadata": {},
     "output_type": "execute_result"
    }
   ],
   "source": [
    " leading_brand_dips_salsa_sql"
   ]
  },
  {
   "cell_type": "code",
   "execution_count": 1317,
   "id": "b2836f24-8c00-4e08-aef0-3159da765bbc",
   "metadata": {},
   "outputs": [
    {
     "data": {
      "text/html": [
       "<div>\n",
       "<style scoped>\n",
       "    .dataframe tbody tr th:only-of-type {\n",
       "        vertical-align: middle;\n",
       "    }\n",
       "\n",
       "    .dataframe tbody tr th {\n",
       "        vertical-align: top;\n",
       "    }\n",
       "\n",
       "    .dataframe thead th {\n",
       "        text-align: right;\n",
       "    }\n",
       "</style>\n",
       "<table border=\"1\" class=\"dataframe\">\n",
       "  <thead>\n",
       "    <tr style=\"text-align: right;\">\n",
       "      <th></th>\n",
       "      <th>YEAR</th>\n",
       "      <th>YOY_GROWTH</th>\n",
       "    </tr>\n",
       "  </thead>\n",
       "  <tbody>\n",
       "    <tr>\n",
       "      <th>0</th>\n",
       "      <td>2024</td>\n",
       "      <td>None</td>\n",
       "    </tr>\n",
       "  </tbody>\n",
       "</table>\n",
       "</div>"
      ],
      "text/plain": [
       "   YEAR YOY_GROWTH\n",
       "0  2024       None"
      ]
     },
     "execution_count": 1317,
     "metadata": {},
     "output_type": "execute_result"
    }
   ],
   "source": [
    "yoy_growth_sql                  #### We are provided with only a year data so that is the reason the growth is empty here for yearly"
   ]
  },
  {
   "cell_type": "markdown",
   "id": "29a1f11f-3bc5-454f-b877-85a091baf2b3",
   "metadata": {},
   "source": [
    "#### Now we will do a quick one with just left join while preserving Transactions because its the one we are trying to answer in questions"
   ]
  },
  {
   "cell_type": "code",
   "execution_count": 1326,
   "id": "3328db8c-f427-4cce-8c11-7f5003cf1e6d",
   "metadata": {},
   "outputs": [],
   "source": [
    "# Re-import libraries after reset\n",
    "import pandas as pd\n",
    "\n",
    "# Reload the datasets\n",
    "products_df = pd.read_csv('PRODUCTS_TAKEHOME.csv')\n",
    "transactions_df = pd.read_csv('TRANSACTION_TAKEHOME.csv')\n",
    "users_df = pd.read_csv('USER_TAKEHOME.csv')\n",
    "\n",
    "# Data Cleaning\n",
    "transactions_df['FINAL_QUANTITY'] = pd.to_numeric(transactions_df['FINAL_QUANTITY'], errors='coerce').fillna(0)\n",
    "transactions_df['FINAL_SALE'] = pd.to_numeric(transactions_df['FINAL_SALE'], errors='coerce').fillna(0)\n",
    "\n",
    "users_df['BIRTH_DATE'] = pd.to_datetime(users_df['BIRTH_DATE'], errors='coerce').dt.tz_localize(None)\n",
    "users_df['CREATED_DATE'] = pd.to_datetime(users_df['CREATED_DATE'], errors='coerce').dt.tz_localize(None)\n",
    "users_df['AGE'] = (pd.Timestamp.now().tz_localize(None) - users_df['BIRTH_DATE']).dt.days // 365\n",
    "users_df['MEMBERSHIP_DURATION'] = (pd.Timestamp.now().tz_localize(None) - users_df['CREATED_DATE']).dt.days\n",
    "\n",
    "# Merge datasets for analysis\n",
    "merged_df = transactions_df.merge(users_df, left_on='USER_ID', right_on='ID', how='left')\n",
    "merged_df = merged_df.merge(products_df, on='BARCODE', how='left')\n"
   ]
  },
  {
   "cell_type": "code",
   "execution_count": 1334,
   "id": "73dab2b6-069d-4397-a538-a153a6d7a2f7",
   "metadata": {},
   "outputs": [
    {
     "data": {
      "text/plain": [
       "BRAND\n",
       "NERDS CANDY        14\n",
       "DOVE               14\n",
       "COCA-COLA          13\n",
       "SOUR PATCH KIDS    13\n",
       "HERSHEY'S          13\n",
       "Name: RECEIPT_ID, dtype: int64"
      ]
     },
     "execution_count": 1334,
     "metadata": {},
     "output_type": "execute_result"
    }
   ],
   "source": [
    "# 1. Top 5 brands by receipts scanned among users under 21\n",
    "over_21_users = merged_df[merged_df['AGE'] >= 21]\n",
    "top_5_brands_over_21 = over_21_users.groupby('BRAND')['RECEIPT_ID'].nunique().sort_values(ascending=False).head(5)\n",
    "\n",
    "top_5_brands_over_21"
   ]
  },
  {
   "cell_type": "code",
   "execution_count": 1336,
   "id": "9b52dd39-c514-41bb-acc1-015322308a04",
   "metadata": {},
   "outputs": [
    {
     "data": {
      "text/plain": [
       "BRAND\n",
       "COCA-COLA                    2592.10\n",
       "ANNIE'S HOMEGROWN GROCERY    2383.92\n",
       "DOVE                         2327.47\n",
       "BAREFOOT                     2284.59\n",
       "ORIBE                        2085.93\n",
       "Name: FINAL_SALE, dtype: float64"
      ]
     },
     "execution_count": 1336,
     "metadata": {},
     "output_type": "execute_result"
    }
   ],
   "source": [
    "# 2. Top 5 brands by sales among users with accounts older than 6 months\n",
    "users_6_months = merged_df[merged_df['MEMBERSHIP_DURATION'] >= 180]\n",
    "top_5_brands_6_months = users_6_months.groupby('BRAND')['FINAL_SALE'].sum().sort_values(ascending=False).head(5)\n",
    "\n",
    "top_5_brands_6_months"
   ]
  },
  {
   "cell_type": "code",
   "execution_count": 1340,
   "id": "9b6708af-27ec-45a0-b207-302199c8e73e",
   "metadata": {},
   "outputs": [
    {
     "data": {
      "text/plain": [
       "GENERATION\n",
       "Baby Boomers     0.082375\n",
       "Generation X     0.066529\n",
       "Millennials      0.126824\n",
       "Unknown         56.961978\n",
       "Name: FINAL_SALE, dtype: float64"
      ]
     },
     "execution_count": 1340,
     "metadata": {},
     "output_type": "execute_result"
    }
   ],
   "source": [
    "# Define generation categories based on AGE\n",
    "def get_generation(age):\n",
    "    if pd.isnull(age):\n",
    "        return 'Unknown'\n",
    "    elif age >= 77:\n",
    "        return 'Silent Generation'\n",
    "    elif 58 <= age < 77:\n",
    "        return 'Baby Boomers'\n",
    "    elif 42 <= age < 58:\n",
    "        return 'Generation X'\n",
    "    elif 26 <= age < 42:\n",
    "        return 'Millennials'\n",
    "    elif 10 <= age < 26:\n",
    "        return 'Generation Z'\n",
    "    else:\n",
    "        return 'Alpha'\n",
    "\n",
    "# Apply generation classification\n",
    "merged_df['GENERATION'] = merged_df['AGE'].apply(get_generation)\n",
    "\n",
    "# Filter Health & Wellness category\n",
    "health_wellness_sales = merged_df[merged_df['CATEGORY_1'] == 'Health & Wellness']\n",
    "\n",
    "# Calculate total sales in Health & Wellness and overall\n",
    "total_sales = merged_df['FINAL_SALE'].sum()\n",
    "sales_by_generation = health_wellness_sales.groupby('GENERATION')['FINAL_SALE'].sum()\n",
    "\n",
    "# Calculate percentage of Health & Wellness sales by generation\n",
    "percentage_sales_by_generation = (sales_by_generation / total_sales) * 100\n",
    "\n",
    "percentage_sales_by_generation\n"
   ]
  },
  {
   "cell_type": "markdown",
   "id": "f70fb3dc-8c84-4ea0-abac-078ebb1fd9b4",
   "metadata": {},
   "source": [
    "## A significant portion of transactions lacks user age data, leading to an 'Unknown' category. Excluding this provides clearer insights into generational sales trends."
   ]
  },
  {
   "cell_type": "code",
   "execution_count": 1344,
   "id": "c116c389-2dd1-4782-a6a0-d17411f86f0d",
   "metadata": {},
   "outputs": [
    {
     "data": {
      "text/plain": [
       "USER_ID\n",
       "64e62de5ca929250373e6cf5    10\n",
       "62925c1be942f00613f7365e    10\n",
       "64063c8880552327897186a5     9\n",
       "604278958fe03212b47e657b     7\n",
       "6327a07aca87b39d76e03864     7\n",
       "Name: RECEIPT_ID, dtype: int64"
      ]
     },
     "execution_count": 1344,
     "metadata": {},
     "output_type": "execute_result"
    }
   ],
   "source": [
    "# 4. Fetch’s power users (users with highest transaction count)\n",
    "power_users = merged_df.groupby('USER_ID')['RECEIPT_ID'].nunique().sort_values(ascending=False).head(5)\n",
    "\n",
    "power_users"
   ]
  },
  {
   "cell_type": "code",
   "execution_count": 1346,
   "id": "4efe04a5-4c9e-4678-904d-d51743cb3ace",
   "metadata": {},
   "outputs": [
    {
     "data": {
      "text/plain": [
       "BRAND\n",
       "TOSTITOS    103354.84\n",
       "Name: FINAL_SALE, dtype: float64"
      ]
     },
     "execution_count": 1346,
     "metadata": {},
     "output_type": "execute_result"
    }
   ],
   "source": [
    "# 5. Leading brand in the Dips & Salsa category\n",
    "leading_dips_salsa_brand = merged_df[merged_df['CATEGORY_2'] == 'Dips & Salsa'].groupby('BRAND')['FINAL_SALE'].sum().sort_values(ascending=False).head(1)\n",
    "\n",
    "leading_dips_salsa_brand"
   ]
  },
  {
   "cell_type": "code",
   "execution_count": 1348,
   "id": "e9e2bdb3-2b42-463b-ae0a-2cca8286819b",
   "metadata": {},
   "outputs": [
    {
     "data": {
      "text/plain": [
       "Series([], Name: FINAL_SALE, dtype: float64)"
      ]
     },
     "execution_count": 1348,
     "metadata": {},
     "output_type": "execute_result"
    }
   ],
   "source": [
    "# 6. Year-over-year growth percentage (assuming SCAN_DATE represents the transaction date)\n",
    "merged_df['SCAN_DATE'] = pd.to_datetime(merged_df['SCAN_DATE'], errors='coerce').dt.tz_localize(None)\n",
    "merged_df['YEAR'] = merged_df['SCAN_DATE'].dt.year\n",
    "\n",
    "# Group by year and calculate growth\n",
    "yearly_sales = merged_df.groupby('YEAR')['FINAL_SALE'].sum().dropna()\n",
    "growth_rate = yearly_sales.pct_change().dropna() * 100\n",
    "\n",
    "growth_rate"
   ]
  },
  {
   "cell_type": "code",
   "execution_count": 1350,
   "id": "278a2cf3-5fa8-4406-89c5-3caeead99d29",
   "metadata": {},
   "outputs": [
    {
     "name": "stdout",
     "output_type": "stream",
     "text": [
      "0\n"
     ]
    }
   ],
   "source": [
    "print(merged_df['SCAN_DATE'].isnull().sum())\n"
   ]
  },
  {
   "cell_type": "code",
   "execution_count": 1352,
   "id": "778797ec-3807-4c3f-a3fa-9cf8f726e50b",
   "metadata": {},
   "outputs": [
    {
     "name": "stdout",
     "output_type": "stream",
     "text": [
      "[2024]\n"
     ]
    }
   ],
   "source": [
    "print(merged_df['YEAR'].unique())\n"
   ]
  },
  {
   "cell_type": "markdown",
   "id": "c053bcef-3e4a-4da2-8c18-7ae862f9c595",
   "metadata": {},
   "source": [
    "## The dataset contains transactions exclusively from the year 2024. As a result, Year-over-Year (YoY) growth analysis cannot be performed due to the absence of data from previous years."
   ]
  },
  {
   "cell_type": "code",
   "execution_count": 1368,
   "id": "c5ccecaa-fbf5-474c-86d1-d2b518439bc6",
   "metadata": {},
   "outputs": [],
   "source": [
    "########################################################################################################################################################\n",
    "########################################################################################################################################################\n",
    "########################################################################################################################################################"
   ]
  },
  {
   "cell_type": "markdown",
   "id": "f2d83840-2301-4ecd-aa09-25e0fd9fc459",
   "metadata": {},
   "source": [
    "## Email to Stakeholders\n",
    "# Subject: Summary of Data Analysis Findings and Next Steps\n",
    "\n",
    "Dear [Stakeholder’s Name],\n",
    "\n",
    "I hope this message finds you well. I’ve completed the initial analysis of the provided dataset, and I’d like to share key findings, trends, and areas where additional support would be beneficial\n",
    "\n",
    "1. ## Key Data Quality Issues:\n",
    "   \n",
    "    Missing User Age Data: A significant portion of transactions lacks birth date information, resulting in ~57% of sales being attributed to an   \"Unknown\" generation. This limits the accuracy of demographic insights.\n",
    "\n",
    "    Limited Historical Data: The dataset contains transactions only from the year 2024, making it impossible to perform Year-over-Year (YoY) growth analysis. This restricts our ability to identify long-term trends.\n",
    "\n",
    "    Barcode Mismatches: Some transactions lack corresponding product details, reducing the completeness of product-level analysis.\n",
    "\n",
    "2. ## Interesting Trend Identified:\n",
    "   \n",
    "    Health & Wellness Sales Concentration: The Millennial generation accounts for the highest percentage of sales in the Health & Wellness category among known age groups. This indicates strong engagement from this demographic with wellness-related products.\n",
    "\n",
    "    Power Users Insight: A small group of users is responsible for a disproportionately high number of transactions and spending, with top users contributing significantly more than the average.\n",
    "\n",
    "3. ## Request for Action:\n",
    "   \n",
    "    To enhance the depth and accuracy of the analysis, I recommend the following:\n",
    "\n",
    "    Historical Data: Access to transaction data from previous years to enable trend analysis and YoY growth calculations.\n",
    "\n",
    "    Complete User Information: Clarification on missing user demographic details, especially birth dates, to improve customer segmentation.\n",
    "    Product Data Validation: Verification of barcode mappings to ensure all transactions are linked to the correct products.\n",
    "\n",
    "Please let me know if we can schedule a follow-up discussion to review these findings in detail and address the data gaps. Your guidance will help refine the analysis further.\n",
    "\n",
    "Best regards,\n",
    "\n",
    "Nabil Momin\n",
    "\n",
    "Data Analyst\n"
   ]
  },
  {
   "cell_type": "code",
   "execution_count": null,
   "id": "e480c95c-75a6-4457-a011-b5bff4deb89a",
   "metadata": {},
   "outputs": [],
   "source": []
  }
 ],
 "metadata": {
  "kernelspec": {
   "display_name": "Python 3 (ipykernel)",
   "language": "python",
   "name": "python3"
  },
  "language_info": {
   "codemirror_mode": {
    "name": "ipython",
    "version": 3
   },
   "file_extension": ".py",
   "mimetype": "text/x-python",
   "name": "python",
   "nbconvert_exporter": "python",
   "pygments_lexer": "ipython3",
   "version": "3.12.4"
  }
 },
 "nbformat": 4,
 "nbformat_minor": 5
}
